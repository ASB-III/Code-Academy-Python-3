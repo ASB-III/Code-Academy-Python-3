{
 "cells": [
  {
   "cell_type": "markdown",
   "metadata": {},
   "source": [
    "# LEARN PYTHON: FILES\n",
    "## Reading a File\n",
    "\n",
    "\n",
    "Computers use file systems to store and retrieve data. Each file is an individual container of related information. \n",
    "If you’ve ever saved a document, downloaded a song, or even sent an email you’ve created a file on some computer somewhere.\n",
    " Even script.py, the Python program you’re editing in the learning environment, is a file.\n",
    "\n",
    "So, how do we interact with files using Python? We’re going to learn how to read and write different kinds of files using code.\n",
    " Let’s say we had a file called real_cool_document.txt with these contents:\n",
    "\n",
    "real_cool_document.txt\n",
    "\n",
    "Wowsers!\n",
    "We could read that file like this:\n",
    "\n",
    "script.py"
   ]
  },
  {
   "cell_type": "code",
   "execution_count": null,
   "metadata": {},
   "outputs": [],
   "source": [
    "with open('real_cool_document.txt') as cool_doc:\n",
    "  cool_contents = cool_doc.read()\n",
    "print(cool_contents)"
   ]
  },
  {
   "cell_type": "markdown",
   "metadata": {},
   "source": [
    "This opens a file object called cool_doc and creates a new indented block where you can read the contents of the opened file. We then read the contents of the file cool_doc using cool_doc.read() and save the resulting string into the variable cool_contents. Then we print cool_contents, which outputs the statement Wowsers!."
   ]
  },
  {
   "cell_type": "markdown",
   "metadata": {},
   "source": [
    "#### Instructions\n",
    "##### 1. Use with to open the file welcome.txt. Save the file object as text_file.\n",
    "\n",
    "\n",
    "<b>Hint\n",
    "Use this syntax to open a file:"
   ]
  },
  {
   "cell_type": "code",
   "execution_count": null,
   "metadata": {},
   "outputs": [],
   "source": [
    "with open('filename.txt') as file_object:\n",
    "  # indented block here"
   ]
  },
  {
   "cell_type": "markdown",
   "metadata": {},
   "source": [
    "##### 2. Read the contents of text_file and save the results in text_data.\n",
    "\n",
    "\n",
    "<B>Hint\n",
    "Use this syntax on a file object to read the contents of the file into a variable:"
   ]
  },
  {
   "cell_type": "code",
   "execution_count": null,
   "metadata": {},
   "outputs": [],
   "source": [
    "file_string = file_object.read()"
   ]
  },
  {
   "cell_type": "markdown",
   "metadata": {},
   "source": [
    "##### 3. Print out text_data."
   ]
  },
  {
   "cell_type": "code",
   "execution_count": null,
   "metadata": {},
   "outputs": [],
   "source": [
    "with open('welcome.txt') as text_file:\n",
    "  text_data = text_file.read()\n",
    "print(text_data)"
   ]
  },
  {
   "cell_type": "markdown",
   "metadata": {},
   "source": [
    "## Iterating Through Lines\n",
    "When we read a file, we might want to grab the whole document in a single string, like .read() would return. But what if we wanted to store each line in a variable? We can use the .readlines() function to read a text file line by line instead of having the whole thing. Suppose we have a file:\n",
    "\n",
    "\n",
    "<b>keats_sonnet.txt</b>\n",
    "\n",
    "\n",
    "To one who has been long in city pent,<br>\n",
    "’Tis very sweet to look into the fair<br>\n",
    "And open face of heaven,—to breathe a prayer<br>\n",
    "Full in the smile of the blue firmament.<br>\n",
    "\n",
    "\n",
    "<b>script.py"
   ]
  },
  {
   "cell_type": "code",
   "execution_count": null,
   "metadata": {},
   "outputs": [],
   "source": [
    "with open('keats_sonnet.txt') as keats_sonnet:\n",
    "  for line in keats_sonnet.readlines():\n",
    "    print(line)"
   ]
  },
  {
   "cell_type": "markdown",
   "metadata": {},
   "source": [
    "The above script creates a temporary file object called keats_sonnet that points to the file keats_sonnet.txt. It then iterates over each line in the document and prints the entire file out.\n",
    "\n",
    "#### Instructions\n",
    "##### 1. Using a with statement, create a file object pointing to the file how_many_lines.txt. Store that file object in the variable lines_doc.\n",
    "\n",
    "\n",
    "<B>Hint</B>\n",
    "<BR>\n",
    "Remember to open a file using with syntax:"
   ]
  },
  {
   "cell_type": "code",
   "execution_count": null,
   "metadata": {},
   "outputs": [],
   "source": [
    "with open('filename.txt') as file_object:\n",
    "  # indented block here"
   ]
  },
  {
   "cell_type": "markdown",
   "metadata": {},
   "source": [
    "##### 2. Iterate through each of the lines in lines_doc.readlines() using a for loop.\n",
    "\n",
    "Inside the for loop print out each line of how_many_lines.txt.\n",
    "\n",
    "\n",
    "<b>Hint</b><br>\n",
    "You can use the following syntax to print out each line of a file:"
   ]
  },
  {
   "cell_type": "code",
   "execution_count": null,
   "metadata": {},
   "outputs": [],
   "source": [
    "for line in file_object.readlines():\n",
    "  print(line)"
   ]
  },
  {
   "cell_type": "code",
   "execution_count": null,
   "metadata": {},
   "outputs": [],
   "source": [
    "with open('how_many_lines.txt') as lines_doc:\n",
    "  for line in lines_doc.readlines():\n",
    "    print(line)"
   ]
  },
  {
   "cell_type": "markdown",
   "metadata": {},
   "source": [
    "## Reading a Line\n",
    "Sometimes you don’t want to iterate through a whole file. For that, there’s a different file method, .readline(), which will only read a single line at a time. If the entire document is read line by line in this way subsequent calls to .readline() will not throw an error but will start returning an empty string (\"\"). Suppose we had this file:\n",
    "\n",
    "\n",
    "<b>millay_sonnet.txt</b>\n",
    "\n",
    "\n",
    "I shall forget you presently, my dear,<br>\n",
    "So make the most of this, your little day,<br>\n",
    "Your little month, your little half a year,<br>\n",
    "Ere I forget, or die, or move away,<br>\n",
    "\n",
    "\n",
    "<b>script.py</b>"
   ]
  },
  {
   "cell_type": "code",
   "execution_count": null,
   "metadata": {},
   "outputs": [],
   "source": [
    "with open('millay_sonnet.txt') as sonnet_doc:\n",
    "  first_line = sonnet_doc.readline()\n",
    "  second_line = sonnet_doc.readline()\n",
    "  print(second_line)"
   ]
  },
  {
   "cell_type": "markdown",
   "metadata": {},
   "source": [
    "This script also creates a file object called sonnet_doc that points to the file millay_sonnet.txt. It then reads in the first line using sonnet_doc.readline() and saves that to the variable first_line. It then saves the second line (So make the most of this, your little day,) into the variable second_line and then prints it out.\n",
    "\n",
    "#### Instructions\n",
    "##### 1. Using a with statement, create a file object pointing to the file just_the_first.txt. Store that file object in the variable first_line_doc.\n",
    "\n",
    "\n",
    "<B>Hint</B><br>\n",
    "Remember to open a file using with syntax:"
   ]
  },
  {
   "cell_type": "code",
   "execution_count": null,
   "metadata": {},
   "outputs": [],
   "source": [
    "with open('filename.txt') as file_object:\n",
    "  # indented block here"
   ]
  },
  {
   "cell_type": "markdown",
   "metadata": {},
   "source": [
    "##### 2. Save the first line of just_the_first.txt into the variable first_line.\n",
    "\n",
    "\n",
    "<b>Hint</b><br>\n",
    "Use the file object method .readline() to store a line into the variable line."
   ]
  },
  {
   "cell_type": "markdown",
   "metadata": {},
   "source": [
    "##### 3. Print out the variable first_line."
   ]
  },
  {
   "cell_type": "code",
   "execution_count": null,
   "metadata": {},
   "outputs": [],
   "source": [
    "with open('just_the_first.txt') as first_line_doc:\n",
    "  first_line = first_line_doc.readline()\n",
    "  print(first_line)"
   ]
  },
  {
   "cell_type": "markdown",
   "metadata": {},
   "source": [
    "## Writing a File\n",
    "Reading a file is all well and good, but what if we want to create a file of our own? With Python we can do just that. It turns out that our open() function that we’re using to open a file to read needs another argument to open a file to write to.\n",
    "\n",
    "<b>script.py</b>"
   ]
  },
  {
   "cell_type": "code",
   "execution_count": null,
   "metadata": {},
   "outputs": [],
   "source": [
    "with open('generated_file.txt', 'w') as gen_file:\n",
    "  gen_file.write(\"What an incredible file!\")"
   ]
  },
  {
   "cell_type": "markdown",
   "metadata": {},
   "source": [
    "Here we pass the argument 'w' to open() in order to indicate to open the file in write-mode. The default argument is 'r' and passing 'r' to open() opens the file in read-mode as we’ve been doing.\n",
    "\n",
    "\n",
    "This code creates a new file in the same folder as script.py and gives it the text What an incredible file!. It’s important to note that if there is already a file called generated_file.txt it will completely overwrite that file, erasing whatever its contents were before.\n",
    "\n",
    "\n",
    "#### Instructions\n",
    "##### 1. Create a file object for the file bad_bands.txt using the open() function with the w argument. Assign this object to the temporary variable bad_bands_doc.\n",
    "\n",
    "\n",
    "<b>Hint</b><br>\n",
    "Remember to use the with statement to open a file and pass the 'w' argument to open it in write mode:"
   ]
  },
  {
   "cell_type": "code",
   "execution_count": null,
   "metadata": {},
   "outputs": [],
   "source": [
    "with open('file_to_write.txt', 'w') as file_object:\n",
    "  # indent"
   ]
  },
  {
   "cell_type": "markdown",
   "metadata": {},
   "source": [
    "##### 2. Use the bad_bands_doc.write() method to add the name of a musical group you dislike to the document bad_bands."
   ]
  },
  {
   "cell_type": "code",
   "execution_count": null,
   "metadata": {},
   "outputs": [],
   "source": [
    "with open('bad_bands.txt', 'w') as bad_bands_doc:\n",
    "  bad_bands_doc.write('Nickelback')"
   ]
  },
  {
   "cell_type": "markdown",
   "metadata": {},
   "source": [
    "## Appending to a File\n",
    "So maybe completely deleting and overwriting existing files is something that bothers you. Isn’t there a way to just add a line to a file without completely deleting it? Of course there is! Instead of opening the file using the argument 'w' for write-mode, we open it with 'a' for append-mode. If we have a generated file with the following contents:\n",
    "\n",
    "\n",
    "<b>generated_file.txt</b>\n",
    "\n",
    "\n",
    "This was a popular file...\n",
    "\n",
    "\n",
    "\n",
    "Then we can add another line to that file with the following code:\n",
    "\n",
    "<b>script.py</b>"
   ]
  },
  {
   "cell_type": "code",
   "execution_count": null,
   "metadata": {},
   "outputs": [],
   "source": [
    "with open('generated_file.txt', 'a') as gen_file:\n",
    "  gen_file.write(\"... and it still is\")"
   ]
  },
  {
   "cell_type": "markdown",
   "metadata": {},
   "source": [
    "In the code above we open a file object in the temporary variable gen_file. This variable points to the file generated_file.txt and, since it’s open in append-mode, adds the line ... and it still is as a new line to the file. If you were to open the file after running the script it would look like this:\n",
    "\n",
    "<b>generated_file.txt</b>\n",
    "\n",
    "\n",
    "This was a popular file...\n",
    "... and it still is\n",
    "\n",
    "\n",
    "Notice that opening the file in append-mode, with 'a' as an argument to open(), means that using the file object’s .write() method appends whatever is passed to the end of the file in a new line. If we were to run script.py again, this would be what generated_file.txt looks like:\n",
    "\n",
    "<b>generated_file.txt</b>\n",
    "\n",
    "\n",
    "This was a popular file...\n",
    "... and it still is\n",
    "... and it still is\n",
    "\n",
    "\n",
    "Notice that we’ve appended \"... and it still is\" to the file a second time! This is because in script.py we opened generated_file.txt in append-mode.\n",
    "\n",
    "#### Instructions\n",
    "##### 1. We’ve got a file, cool_dogs.txt, filled with all the cool dogs we know. Somehow while compiling this list we forgot about one very cool dog. Let’s fix that problem by adding him to our cool_dogs.txt.\n",
    "\n",
    "Open up our file cool_dogs.txt in append-mode and assign it to the file object cool_dogs_file.\n",
    "\n",
    "##### 2. Inside your with block, add “Air Buddy” to cool_dogs.txt. Air Buddy is a Golden Retriever that plays basketball, which more than qualifies him for this list.\n",
    "\n",
    "\n",
    "<b>Hint</b><br>\n",
    "Use cool_dogs_file.write() to add a string to the end of cool_dogs.txt"
   ]
  },
  {
   "cell_type": "code",
   "execution_count": 3,
   "metadata": {},
   "outputs": [],
   "source": [
    "with open('cool_dogs.txt', 'a') as cool_dogs_file:\n",
    "  cool_dogs_file.write('Air Buddy')"
   ]
  },
  {
   "cell_type": "markdown",
   "metadata": {},
   "source": [
    "## What's With \"with\"?\n",
    "We’ve been opening these files with this with block so far, but it seems a little weird that we can only use our file variable in the indented block. Why is that? The with keyword invokes something called a context manager for the file that we’re calling open() on. This context manager takes care of opening the file when we call open() and then closing the file after we leave the indented block.\n",
    "\n",
    "\n",
    "Why is closing the file so complicated? Well, most other aspects of our code deal with things that Python itself controls. All the variables you create: integers, lists, dictionaries — these are all Python objects, and Python knows how to clean them up when it’s done with them. Since your files exist outside your Python script, we need to tell Python when we’re done with them so that it can close the connection to that file. Leaving a file connection open unnecessarily can affect performance or impact other programs on your computer that might be trying to access that file.\n",
    "\n",
    "\n",
    "The with syntax replaces older ways to access files where you need to call .close() on the file object manually. We can still open up a file and append to it with the old syntax, as long as we remember to close the file connection afterwards."
   ]
  },
  {
   "cell_type": "code",
   "execution_count": null,
   "metadata": {},
   "outputs": [],
   "source": [
    "fun_cities_file = open('fun_cities.txt', 'a')\n",
    " \n",
    "# We can now append a line to \"fun_cities\".\n",
    "fun_cities_file.write(\"Montréal\")\n",
    " \n",
    "# But we need to remember to close the file\n",
    "fun_cities_file.close()"
   ]
  },
  {
   "cell_type": "markdown",
   "metadata": {},
   "source": [
    "In the above script we added “Montréal” as a new line in our file fun_cities.txt. However, since we used the older-style syntax, we had to remember to close the file afterwards. Since this is necessarily more verbose (requires at least one more line of code) without being any more expressive, using with is preferred.\n",
    "\n",
    "#### Instructions\n",
    "##### 1. In script.py there’s a file object that doesn’t get closed correctly. Let’s fix it by changing the syntax!\n",
    "\n",
    "Remove this line:"
   ]
  },
  {
   "cell_type": "code",
   "execution_count": null,
   "metadata": {},
   "outputs": [],
   "source": [
    "close_this_file = open('fun_file.txt')"
   ]
  },
  {
   "cell_type": "markdown",
   "metadata": {},
   "source": [
    "And change it to use the with syntax from our previous exercises.\n",
    "\n",
    "Remember to indent the rest of the body so that we don’t get an IndentError."
   ]
  },
  {
   "cell_type": "code",
   "execution_count": null,
   "metadata": {},
   "outputs": [],
   "source": [
    "with open('fun_file.txt') as close_this_file:\n",
    "  setup = close_this_file.readline()\n",
    "  punchline = close_this_file.readline()\n",
    "  print(setup)"
   ]
  },
  {
   "cell_type": "markdown",
   "metadata": {},
   "source": [
    "## What Is a CSV File?\n",
    "Text files aren’t the only thing that Python can read, but they’re the only thing that we don’t need any additional parsing library to understand. CSV files are an example of a text file that impose a structure to their data. CSV stands for Comma-Separated Values and CSV files are usually the way that data from spreadsheet software (like Microsoft Excel or Google Sheets) is exported into a portable format. A spreadsheet that looks like the following"
   ]
  },
  {
   "cell_type": "markdown",
   "metadata": {},
   "source": [
    "| Name | Username | Email |\n",
    ":-------------------|:---------------:|--------------------:\n",
    "Roger Smith | rsmith | wigginsryan@yahoo.com\n",
    "Michelle Beck | mlbeck | hcosta@hotmail.com\n",
    "Ashley Barker | a_bark_x | a_bark_x@turner.com\n",
    "Lynn Gonzales | goodmanjames | lynniegonz@hotmail.com\n",
    "Jennifer Chase | chasej | jchase@ramirez.com\n",
    "Charles Hoover | choover | choover89@yahoo.com\n",
    "Adrian Evans | adevans | adevans98@yahoo.com\n",
    "Susan Walter | susan82 | swilliams@yahoo.com\n",
    "Stephanie King | stephanieking | sking@morris-tyler.com\n",
    "Erika Miller | jessica32 | ejmiller79@yahoo.com"
   ]
  },
  {
   "cell_type": "markdown",
   "metadata": {},
   "source": [
    "In a CSV file that same exact data would be rendered like this:\n",
    "\n",
    "\n",
    "<b>users.cs</b>\n",
    "\n",
    "Name,Username,Email<br>\n",
    "Roger Smith,rsmith,wigginsryan@yahoo.com<br>\n",
    "Michelle Beck,mlbeck,hcosta@hotmail.com<br>\n",
    "Ashley Barker,a_bark_x,a_bark_x@turner.com<br>\n",
    "Lynn Gonzales,goodmanjames,lynniegonz@hotmail.com<br>\n",
    "Jennifer Chase,chasej,jchase@ramirez.com<br>\n",
    "Charles Hoover,choover,choover89@yahoo.com<br>\n",
    "Adrian Evans,adevans,adevans98@yahoo.com<br>\n",
    "Susan Walter,susan82,swilliams@yahoo.com<br>\n",
    "Stephanie King,stephanieking,sking@morris-tyler.com<br>\n",
    "Erika Miller,jessica32,ejmiller79@yahoo.com<br>\n",
    "\n",
    "Notice that the first row of the CSV file doesn’t actually represent any data, just the labels of the data that’s present in the rest of the file. The rest of the rows of the file are the same as the rows in the spreadsheet software, just instead of being separated into different cells they’re separated by… well I suppose it’s fair to say they’re separated by commas.\n",
    "\n",
    "\n",
    "##### 1. CSV files are just plain text files!\n",
    "\n",
    "Open logger.csv using our standard with syntax, saving the file object in the temporary variable log_csv_file.\n",
    "\n",
    "\n",
    "##### 2. Print out the contents of logger.csv by calling .read() on the file. Notice that it is parsed as a string."
   ]
  },
  {
   "cell_type": "code",
   "execution_count": null,
   "metadata": {},
   "outputs": [],
   "source": [
    "with open('logger.csv') as log_csv_file:\n",
    "  print(log_csv_file.read())"
   ]
  },
  {
   "cell_type": "markdown",
   "metadata": {},
   "source": [
    "## Reading a CSV File\n",
    "Recall our CSV file from our last exercise:\n",
    "\n",
    "<b>users.csv</b>\n",
    "\n",
    "\n",
    "Name,Username,Email<br>\n",
    "Roger Smith,rsmith,wigginsryan@yahoo.com<br>\n",
    "Michelle Beck,mlbeck,hcosta@hotmail.com<br>\n",
    "Ashley Barker,a_bark_x,a_bark_x@turner.com<br>\n",
    "Lynn Gonzales,goodmanjames,lynniegonz@hotmail.com<br>\n",
    "\n",
    "\n",
    "Even though we can read these lines as text without a problem, there are ways to access the data in a format better suited for programming purposes. In Python we can convert that data into a dictionary using the csv library’s DictReader object. Here’s how we’d create a list of the email addresses of all of the users in the above table:"
   ]
  },
  {
   "cell_type": "code",
   "execution_count": null,
   "metadata": {},
   "outputs": [],
   "source": [
    "import csv\n",
    " \n",
    "list_of_email_addresses = []\n",
    "with open('users.csv', newline='') as users_csv:\n",
    "  user_reader = csv.DictReader(users_csv)\n",
    "  for row in user_reader:\n",
    "    list_of_email_addresses.append(row['Email'])"
   ]
  },
  {
   "cell_type": "markdown",
   "metadata": {},
   "source": [
    "In the above code we first import our csv library, which gives us the tools to parse our CSV file. We then create the empty list list_of_email_addresses which we’ll later populate with the email addresses from our CSV. Then we open the users.csv file with the temporary variable users_csv.\n",
    "\n",
    "We pass the additional keyword argument newline='' to the file opening open() function so that we don’t accidentally mistake a line break in one of our data fields as a new row in our CSV (read more about this in the Python documentation).\n",
    "\n",
    "After opening our new CSV file we use csv.DictReader(users_csv) which converts the lines of our CSV file to Python dictionaries which we can use access methods for. The keys of the dictionary are, by default, the entries in the first line of our CSV file. Since our CSV’s first line calls the third field in our CSV “Email“, we can use that as the key in each row of our DictReader.\n",
    "\n",
    "When we iterate through the rows of our user_reader object, we access all of the rows in our CSV as dictionaries (except for the first row, which we used to label the keys of our dictionary). By accessing the 'Email' key of each of these rows we can grab the email address in that row and append it to our list_of_email_addresses."
   ]
  },
  {
   "cell_type": "markdown",
   "metadata": {},
   "source": [
    "#### Instructions\n",
    "##### 1. Import the csv module.\n",
    "\n",
    "##### 2. Open up the file cool_csv.csv in the temporary variable cool_csv_file.\n",
    "\n",
    "##### 3. Using csv.DictReader read the contents of cool_csv_file into a new variable called cool_csv_dict.\n",
    "\n",
    "<B>Hint</B><br>\n",
    "Create a DictReader using it’s constructor with the following syntax:"
   ]
  },
  {
   "cell_type": "code",
   "execution_count": null,
   "metadata": {},
   "outputs": [],
   "source": [
    "file_dict = csv.DictReader(file_object)"
   ]
  },
  {
   "cell_type": "markdown",
   "metadata": {},
   "source": [
    "#### 4. cool_csv.csv includes a cool fact about every person in the CSV.\n",
    "\n",
    "For each row in cool_csv_dict print out that row’s \"Cool Fact\".\n",
    "\n",
    "<b>Hint</B><br>\n",
    "You can use for...in syntax to loop through a DictReader object. Each of these objects will be a dictionary, with the first row of the file indicating the keys."
   ]
  },
  {
   "cell_type": "code",
   "execution_count": null,
   "metadata": {},
   "outputs": [],
   "source": [
    "for row in csv_file_dict:\n",
    "  print(row['Key'])"
   ]
  },
  {
   "cell_type": "code",
   "execution_count": null,
   "metadata": {},
   "outputs": [],
   "source": [
    "import csv\n",
    "\n",
    "with open('cool_csv.csv') as cool_csv_file:\n",
    "  cool_csv_dict = csv.DictReader(cool_csv_file)\n",
    "  for row in cool_csv_dict:\n",
    "    print(row['Cool Fact'])"
   ]
  },
  {
   "cell_type": "markdown",
   "metadata": {},
   "source": [
    "## Reading Different Types of CSV Files\n",
    "I need to level with you, I’ve been lying to you for the past two exercises. Well, kind of. We’ve been acting like CSV files are Comma-Separated Values files. It’s true that CSV stands for that, but it’s also true that other ways of separating values are valid CSV files these days.\n",
    "\n",
    "People used to call Tab-Separated Values files TSV files, but as other separators grew in popularity everyone realized that creating a new .[a-z]sv file format for every value-separating character used is not sustainable.\n",
    "\n",
    "So we call all files with a list of different values a CSV file and then use different delimiters (like a comma or tab) to indicate where the different values start and stop.\n",
    "\n",
    "Let’s say we had an address book. Since addresses usually use commas in them, we’ll need to use a different delimiter for our information. Since none of our data has semicolons (;) in them, we can use those.\n",
    "\n",
    "<b>addresses.csv</B><br>\n",
    "\n",
    "Name;Address;Telephone\n",
    "Donna Smith;126 Orr Corner Suite 857\\nEast Michael, LA 54411;906-918-6560 <br>\n",
    "Aaron Osborn;6965 Miller Station Suite 485\\nNorth Michelle, KS 64364;815.039.3661x42816<br>\n",
    "Jennifer Barnett;8749 Alicia Vista Apt. 288\\nLake Victoriaberg, TN 51094;397-796-4842x451<br>\n",
    "Joshua Bryan;20116 Stephanie Stravenue\\nWhitneytown, IA 87358;(380)074-6173<br>\n",
    "Andrea Jones;558 Melissa Keys Apt. 588\\nNorth Teresahaven, WA 63411;+57(8)7795396386<br>\n",
    "Victor Williams;725 Gloria Views Suite 628\\nEast Scott, IN 38095;768.708.3411x954<br>\n",
    "\n",
    "\n",
    "Notice the \\n character, this is the escape sequence for a new line. The possibility of a new line escaped by a \\n character in our data is why we pass the newline='' keyword argument to the open() function.\n",
    "\n",
    "\n",
    "Also notice that many of these addresses have commas in them! This is okay, we’ll still be able to read it. If we wanted to, say, print out all the addresses in this CSV file we could do the following:"
   ]
  },
  {
   "cell_type": "code",
   "execution_count": null,
   "metadata": {},
   "outputs": [],
   "source": [
    "import csv\n",
    " \n",
    "with open('addresses.csv', newline='') as addresses_csv:\n",
    "  address_reader = csv.DictReader(addresses_csv, delimiter=';')\n",
    "  for row in address_reader:\n",
    "    print(row['Address'])"
   ]
  },
  {
   "cell_type": "markdown",
   "metadata": {},
   "source": [
    "Notice that when we call csv.DictReader we pass in the delimiter parameter, which is the string that’s used to delineate separate fields in the CSV. We then iterate through the CSV and print out each of the addresses.\n",
    "\n",
    "#### Instructions\n",
    "##### 1. Import the csv module.\n",
    "\n",
    "##### 2. Open up the file books.csv in the variable books_csv.\n",
    "\n",
    "##### 3. Create a DictReader instance that uses the @ symbol as a delimiter to read books_csv. Save the result in a variable called books_reader.\n",
    "\n",
    "##### 4. Create a list called isbn_list, iterate through books_reader to get the ISBN number of every book in the CSV file. Use the ['ISBN'] key for the dictionary objects passed to it."
   ]
  },
  {
   "cell_type": "code",
   "execution_count": null,
   "metadata": {},
   "outputs": [],
   "source": [
    "import csv\n",
    "\n",
    "with open('books.csv') as books_csv:\n",
    "  books_reader = csv.DictReader(books_csv, delimiter='@')\n",
    "  isbn_list = [book['ISBN'] for book in books_reader]"
   ]
  },
  {
   "cell_type": "markdown",
   "metadata": {},
   "source": [
    "## Writing a CSV File\n",
    "Naturally if we have the ability to read different CSV files we might want to be able to programmatically create CSV files that save output and data that someone could load into their spreadsheet software. Let’s say we have a big list of data that we want to save into a CSV file. We could do the following:"
   ]
  },
  {
   "cell_type": "code",
   "execution_count": null,
   "metadata": {},
   "outputs": [],
   "source": [
    "big_list = [{'name': 'Fredrick Stein', 'userid': 6712359021, 'is_admin': False}, {'name': 'Wiltmore Denis', 'userid': 2525942, 'is_admin': False}, {'name': 'Greely Plonk', 'userid': 15890235, 'is_admin': False}, {'name': 'Dendris Stulo', 'userid': 572189563, 'is_admin': True}] \n",
    " \n",
    "import csv\n",
    " \n",
    "with open('output.csv', 'w') as output_csv:\n",
    "  fields = ['name', 'userid', 'is_admin']\n",
    "  output_writer = csv.DictWriter(output_csv, fieldnames=fields)\n",
    " \n",
    "  output_writer.writeheader()\n",
    "  for item in big_list:\n",
    "    output_writer.writerow(item)"
   ]
  },
  {
   "cell_type": "markdown",
   "metadata": {},
   "source": [
    "In our code above we had a set of dictionaries with the same keys for each, a prime candidate for a CSV. We import the csv library, and then open a new CSV file in write-mode by passing the 'w' argument to the open() function.\n",
    "\n",
    "\n",
    "We then define the fields we’re going to be using into a variable called fields. We then instantiate our CSV writer object and pass two arguments. The first is output_csv, the file handler object. The second is our list of fields fields which we pass to the keyword parameter fieldnames.\n",
    "\n",
    "\n",
    "Now that we’ve instantiated our CSV file writer, we can start adding lines to the file itself! First we want the headers, so we call .writeheader() on the writer object. This writes all the fields passed to fieldnames as the first row in our file. Then we iterate through our big_list of data. Each item in big_list is a dictionary with each field in fields as the keys. We call output_writer.writerow() with the item dictionaries which writes each line to the CSV file.\n",
    "\n",
    "\n",
    "#### Instructions\n",
    "##### 1. We have a list in the workspace access_log which is a list of dictionaries we want to write out to a CSV file.\n",
    "\n",
    "Let’s start by importing the csv module.\n",
    "\n",
    "##### 2. Open up the file logger.csv in the temporary variable logger_csv. Don’t forget to open the file in write-mode.\n",
    "\n",
    "##### 3. Create a csv.DictWriter instance called log_writer. Pass logger_csv as the first argument and then fields as a keyword argument to the keyword fieldnames.\n",
    "\n",
    "##### 4. Write the header to log_writer using the .writeheader() method.\n",
    "\n",
    "##### 5. Iterate through the access_log list and add each element to the CSV using log_writer.writerow()."
   ]
  },
  {
   "cell_type": "markdown",
   "metadata": {},
   "source": [
    "## Reading a JSON File\n",
    "CSV isn’t the only file format that Python has a built-in library for. We can also use Python’s file tools to read and write JSON. JSON, an abbreviation of JavaScript Object Notation, is a file format inspired by the programming language JavaScript. The name, like CSV is a bit of a misnomer — some JSON is not valid JavaScript (and plenty of JavaScript is not valid JSON).\n",
    "\n",
    "JSON’s format is endearingly similar to Python dictionary syntax, and so JSON files might be easy to read from a Python developer standpoint. Nonetheless, Python comes with a json package that will help us parse JSON files into actual Python dictionaries. Suppose we have a JSON file like the following:\n",
    "\n",
    "<b>purchase_14781239.json<b>"
   ]
  },
  {
   "cell_type": "code",
   "execution_count": null,
   "metadata": {},
   "outputs": [],
   "source": [
    "{\n",
    "  'user': 'ellen_greg',\n",
    "  'action': 'purchase',\n",
    "  'item_id': '14781239',\n",
    "}"
   ]
  },
  {
   "cell_type": "markdown",
   "metadata": {},
   "source": [
    "We would be able to read that in as a Python dictionary with the following code:\n",
    "\n",
    "<b>json_reader.py</b>"
   ]
  },
  {
   "cell_type": "code",
   "execution_count": null,
   "metadata": {},
   "outputs": [],
   "source": [
    "import json\n",
    " \n",
    "with open('purchase_14781239.json') as purchase_json:\n",
    "  purchase_data = json.load(purchase_json)\n",
    " \n",
    "print(purchase_data['user'])\n",
    "# Prints 'ellen_greg'"
   ]
  },
  {
   "cell_type": "markdown",
   "metadata": {},
   "source": [
    "First we import the json package. We opened the file using our trusty open() command. Since we’re opening it in read-mode we just need to pass the file name. We save the file in the temporary variable purchase_json.\n",
    "\n",
    "We continue by parsing purchase_json using json.load(), creating a Python dictionary out of the file. Saving the results into purchase_data means we can interact with it. We print out one of the values of the JSON file by keying into the purchase_data object.\n",
    "\n",
    "#### Instructions\n",
    "##### 1. Let’s read a JSON file! Start by importing the json module.\n",
    "\n",
    "\n",
    "<b>Hint</b><br>\n",
    "Import the JSON library with the following command:"
   ]
  },
  {
   "cell_type": "code",
   "execution_count": null,
   "metadata": {},
   "outputs": [],
   "source": [
    "import json"
   ]
  },
  {
   "cell_type": "markdown",
   "metadata": {},
   "source": [
    "##### 2. Open up the file message.json, saving the file object to the variable message_json.\n",
    "\n",
    "Open the file in read-mode, without passing any additional arguments to open().\n",
    "\n",
    "\n",
    "<b>Hint</b><br>\n",
    "Remember the syntax for opening a file:"
   ]
  },
  {
   "cell_type": "code",
   "execution_count": null,
   "metadata": {},
   "outputs": [],
   "source": [
    "with open('file.json') as file_json:\n",
    "  pass"
   ]
  },
  {
   "cell_type": "markdown",
   "metadata": {},
   "source": [
    "##### 3. Pass the JSON file object as an argument to json.load() and save the resulting Python dictionary as message.\n",
    "\n",
    "##### 4. Print out message['text']."
   ]
  },
  {
   "cell_type": "code",
   "execution_count": null,
   "metadata": {},
   "outputs": [],
   "source": [
    "import json\n",
    "\n",
    "with open('message.json') as message_json:\n",
    "  message = json.load(message_json)\n",
    "print(message['text'])"
   ]
  },
  {
   "cell_type": "markdown",
   "metadata": {},
   "source": [
    "## Writing a JSON File\n",
    "Naturally we can use the json library to translate Python objects to JSON as well. This is especially useful in instances where you’re using a Python library to serve web pages, you would also be able to serve JSON. Let’s say we had a Python dictionary we wanted to save as a JSON file:"
   ]
  },
  {
   "cell_type": "code",
   "execution_count": null,
   "metadata": {},
   "outputs": [],
   "source": [
    "turn_to_json = {\n",
    "  'eventId': 674189,\n",
    "  'dateTime': '2015-02-12T09:23:17.511Z',\n",
    "  'chocolate': 'Semi-sweet Dark',\n",
    "  'isTomatoAFruit': True\n",
    "}"
   ]
  },
  {
   "cell_type": "markdown",
   "metadata": {},
   "source": [
    "We’d be able to create a JSON file with that information by doing the following:"
   ]
  },
  {
   "cell_type": "code",
   "execution_count": null,
   "metadata": {},
   "outputs": [],
   "source": [
    "import json\n",
    " \n",
    "with open('output.json', 'w') as json_file:\n",
    "  json.dump(turn_to_json, json_file)"
   ]
  },
  {
   "cell_type": "markdown",
   "metadata": {},
   "source": [
    "We import the json module, open up a write-mode file under the variable json_file, and then use the json.dump() method to write to the file. json.dump() takes two arguments: first the data object, then the file object you want to save.\n",
    "\n",
    "#### Instructions\n",
    "##### 1. In your workspace we’ve put dictionary called data_payload. We want to save this to a file called data.json.\n",
    "\n",
    "Let’s start by importing the json library.\n",
    "\n",
    "##### 2. Open a new file object in the variable data_json. The filename should be 'data.json' and the file should be opened in write-mode.\n",
    "\n",
    "\n",
    "<b>Hint</b><br>\n",
    "Remember to open a file in write-mode with the following syntax:"
   ]
  },
  {
   "cell_type": "code",
   "execution_count": null,
   "metadata": {},
   "outputs": [],
   "source": [
    "with open('file.json', 'w') as file_json:\n",
    "  pass"
   ]
  },
  {
   "cell_type": "markdown",
   "metadata": {},
   "source": [
    "##### 3. Call json.dump() with data_payload and data_json to convert our data to JSON and then save it to the file data.json.\n",
    "\n",
    "\n",
    "<b>Hint</b><br>\n",
    "Using json.dump() with the file object as a second argument writes the resulting JSON to the file:"
   ]
  },
  {
   "cell_type": "code",
   "execution_count": null,
   "metadata": {},
   "outputs": [],
   "source": [
    "payload = {'message': 'OK'}\n",
    "with open('file.json', 'w') as file_json:\n",
    "  json.dump(payload, file_json)"
   ]
  },
  {
   "cell_type": "code",
   "execution_count": null,
   "metadata": {},
   "outputs": [],
   "source": [
    "data_payload = [\n",
    "  {'interesting message': 'What is JSON? A web application\\'s little pile of secrets.',\n",
    "   'follow up': 'But enough talk!'}\n",
    "]\n",
    "\n",
    "import json\n",
    "\n",
    "with open('data.json', 'w') as data_json:\n",
    "  json.dump(data_payload, data_json)\n",
    "  "
   ]
  },
  {
   "cell_type": "markdown",
   "metadata": {},
   "source": [
    "## Review\n",
    "Now you know all about files! You were able to:\n",
    "\n",
    "- Open up file objects using open() and with.\n",
    "- Read a file’s full contents using Python’s .read() method.\n",
    "- Read a file line-by-line using .readline() and .readlines()\n",
    "- Create new files by opening them in write-mode.\n",
    "- Append to a file non-destructively by opening a file in append-mode.\n",
    "- Apply all of the above to different types of data-carrying files including CSV and JSON!\n",
    "You have all the skills necessary to read, write, and update files programmatically, a very useful skill in the Python universe!"
   ]
  },
  {
   "cell_type": "code",
   "execution_count": null,
   "metadata": {},
   "outputs": [],
   "source": [
    "with open('file.txt') as file_object:\n",
    "  print(file_object.read())"
   ]
  }
 ],
 "metadata": {
  "interpreter": {
   "hash": "b89b5cfaba6639976dc87ff2fec6d58faec662063367e2c229c520fe71072417"
  },
  "kernelspec": {
   "display_name": "Python 3.10.0 64-bit",
   "language": "python",
   "name": "python3"
  },
  "language_info": {
   "codemirror_mode": {
    "name": "ipython",
    "version": 3
   },
   "file_extension": ".py",
   "mimetype": "text/x-python",
   "name": "python",
   "nbconvert_exporter": "python",
   "pygments_lexer": "ipython3",
   "version": "3.10.0"
  },
  "orig_nbformat": 4
 },
 "nbformat": 4,
 "nbformat_minor": 2
}
