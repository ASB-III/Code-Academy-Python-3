{
 "cells": [
  {
   "cell_type": "markdown",
   "metadata": {},
   "source": [
    "# Python Code Challenges: Loops\n",
    "### Python Code Challenges involving loops.\n",
    "\n",
    "This lesson will help you review Python loops by providing some challenge exercises involving loops.\n",
    "\n",
    "Some of these challenges are difficult! Take some time to think about them before starting to code.\n",
    "\n",
    "You might not get the solution correct on your first try — look at your output, try to find where you’re going wrong, and iterate on your solution.\n",
    "\n",
    "Finally, if you get stuck, use our solution code! If you “Check Answer” twice with an incorrect solution, you should see an option to get our solution code. However, truly investigate that solution — experiment and play with the solution code until you have a good grasp of how it is working. Good luck!\n",
    "\n",
    "## Function and Loop Syntax\n",
    "As a refresher, function syntax looks like this:"
   ]
  },
  {
   "cell_type": "code",
   "execution_count": null,
   "metadata": {},
   "outputs": [],
   "source": [
    "def some_function(some_input1, some_input2):\n",
    "  … do something with the inputs …\n",
    "  return output"
   ]
  },
  {
   "cell_type": "markdown",
   "metadata": {},
   "source": [
    "For example, a function that prints all odd numbers in a list would look like this:"
   ]
  },
  {
   "cell_type": "code",
   "execution_count": null,
   "metadata": {},
   "outputs": [],
   "source": [
    "def odd_nums(lst):\n",
    "  for item in lst:\n",
    "    if item % 2 == 1:\n",
    "      print(item)"
   ]
  },
  {
   "cell_type": "markdown",
   "metadata": {},
   "source": [
    "And this would produce output like:"
   ]
  },
  {
   "cell_type": "code",
   "execution_count": null,
   "metadata": {},
   "outputs": [],
   "source": [
    ">>> odd_nums([4, 7, 9, 10, 13])\n",
    "7\n",
    "9\n",
    "13"
   ]
  },
  {
   "cell_type": "markdown",
   "metadata": {},
   "source": [
    "## Challenges\n",
    "We’ve included 5 challenges below. Try to answer all of them and polish up your problem-solving skills and your loop expertise.\n",
    "\n",
    "## 1. Divisible By Ten\n",
    "Let’s start our code challenges with a function that counts how many numbers are divisible by ten from a list of numbers. This function will accept a list of numbers as an input parameter and use a loop to check each of the numbers in the list. Every time a number is divisible by 10, a counter will be incremented and the final count will be returned. These are the steps we need to complete this:\n",
    "\n",
    "Define the function to accept one input parameter called nums\n",
    "Initialize a counter to 0\n",
    "Loop through every number in nums\n",
    "Within the loop, if any of the numbers are divisible by 10, increment our counter\n",
    "Return the final counter value\n",
    "Code Challenge\n",
    "Create a function named divisible_by_ten() that takes a list of numbers named nums as a parameter.\n",
    "\n",
    "Return the count of how many numbers in the list are divisible by 10.\n",
    "\n",
    "Hint\n",
    "Create a counter that starts at 0. Inside the loop, whenever you find a number divisible by ten, add 1 to that counter.\n",
    "x is divisible by ten if x % 10 == 0 is True."
   ]
  },
  {
   "cell_type": "code",
   "execution_count": null,
   "metadata": {},
   "outputs": [],
   "source": [
    "#Write your function here\n",
    "def divisible_by_ten(nums):\n",
    "  count = 0\n",
    "  for number in nums:\n",
    "    if (number % 10 == 0):\n",
    "      count += 1      \n",
    "  return count\n",
    "#Uncomment the line below when your function is done\n",
    "print(divisible_by_ten([20, 25, 30, 35, 40]))"
   ]
  },
  {
   "cell_type": "markdown",
   "metadata": {},
   "source": [
    "In this solution, we defined the function and set up our counter. We use a for loop to iterate through each number and check if its divisible by ten. If a number is divisible by another number then the remainder should be zero, so we use modulus. After the loop has finished, we return our count."
   ]
  },
  {
   "cell_type": "markdown",
   "metadata": {},
   "source": [
    "## 2. Greetings\n",
    "You are invited to a social gathering, but you are tired of greeting everyone there. Luckily we can create a function to accomplish this task for us. In this challenge, we will take a list of names and prepend the string 'Hello, ' before each name. This will require a few steps:\n",
    "\n",
    "Define the function to accept a list of strings as a single parameter called names\n",
    "Create a new list of strings\n",
    "Loop through each name in names\n",
    "Within the loop, concatenate 'Hello, ' and the current name together and append this new string to the new list of strings\n",
    "Afterwards, return the new list of strings\n",
    "Code Challenge\n",
    "Create a function named add_greetings() which takes a list of strings named names as a parameter.\n",
    "\n",
    "In the function, create an empty list that will contain each greeting. Add the string 'Hello, ' in front of each name in names and append the greeting to the list.\n",
    "\n",
    "Return the new list containing the greetings.\n",
    "\n",
    "Hint\n",
    "Use + to concatenate 'Hello, ' with every name in names. Don't forget to add the comma and the space to the greeting!"
   ]
  },
  {
   "cell_type": "code",
   "execution_count": null,
   "metadata": {},
   "outputs": [],
   "source": [
    "#Write your function here\n",
    "def add_greetings(names):\n",
    "  new_list = []\n",
    "  for name in names:\n",
    "    new_list.append(\"Hello, \" + name)\n",
    "  return new_list\n",
    "\n",
    "#Uncomment the line below when your function is done\n",
    "print(add_greetings([\"Owen\", \"Max\", \"Sophie\"]))"
   ]
  },
  {
   "cell_type": "markdown",
   "metadata": {},
   "source": [
    "First, we set up our function to accept the list of strings and we initialized a new list of strings to hold our greetings. We iterate through each name and we append and concatenate the strings at the same time within our loop. Finally, we return the list containing all of our eloquent greetings."
   ]
  },
  {
   "cell_type": "markdown",
   "metadata": {},
   "source": [
    "## 3. Delete Starting Even Numbers\n",
    "Let’s try a tricky challenge involving removing elements from a list. This function will repeatedly remove the first element of a list until it finds an odd number or runs out of elements. It will accept a list of numbers as an input parameter and return the modified list where any even numbers at the beginning of the list are removed. To do this, we will need the following steps:\n",
    "\n",
    "Define our function to accept a single input parameter lst which is a list of numbers\n",
    "Loop through every number in the list if there are still numbers in the list and if we haven’t hit an odd number yet\n",
    "Within the loop, if the first number in the list is even, then remove the first number of the list\n",
    "Once we hit an odd number or we run out of numbers, return the modified list\n",
    "Code Challenge\n",
    "Write a function called delete_starting_evens() that has a parameter named lst.\n",
    "\n",
    "The function should remove elements from the front of lst until the front of the list is not even. The function should then return lst.\n",
    "\n",
    "For example if lst started as [4, 8, 10, 11, 12, 15], then delete_starting_evens(lst) should return [11, 12, 15].\n",
    "\n",
    "Make sure your function works even if every element in the list is even!\n",
    "\n",
    "Hint\n",
    "Use a while loop to check two things. First, check if the list has at least one element, using len(lst). Second, check to see if the first element is odd using mod (%). If both of those are True, slice off the first element of the list using lst = lst[1:]."
   ]
  },
  {
   "cell_type": "code",
   "execution_count": null,
   "metadata": {},
   "outputs": [],
   "source": [
    "#Write your function here\n",
    "def delete_starting_evens(lst):\n",
    "  while (len(lst) > 0 and lst[0] % 2 == 0):\n",
    "    lst = lst[1:]\n",
    "  return lst\n",
    "\n",
    "#Uncomment the lines below when your function is done\n",
    "print(delete_starting_evens([4, 8, 10, 11, 12, 15]))\n",
    "print(delete_starting_evens([4, 8, 10]))"
   ]
  },
  {
   "cell_type": "markdown",
   "metadata": {},
   "source": [
    "After defining our method, we use a while loop to keep iterating as long as some provided conditions are true. We provide two conditions for the while loop to continue. We will keep iterating as long as there is at least one number left in the list len(lst) > 0 and if the first element in the list is even lst[0] % 2 == 0. If both of these conditions are true, then we replace the list with every element except for the first one using lst[1:]. Once the list is empty or we hit an odd number, the while loop terminates and we return the modified list."
   ]
  },
  {
   "cell_type": "markdown",
   "metadata": {},
   "source": [
    "## 4. Odd Indices\n",
    "This next function will give us the values from a list at every odd index. We will need to accept a list of numbers as an input parameter and loop through the odd indices instead of the elements. Here are the steps needed:\n",
    "\n",
    "Define the function header to accept one input which will be our list of numbers\n",
    "Create a new list which will hold our values to return\n",
    "Iterate through every odd index until the end of the list\n",
    "Within the loop, get the element at the current odd index and append it to our new list\n",
    "Return the list of elements which we got from the odd indices.\n",
    "Code Challenge\n",
    "Create a function named odd_indices() that has one parameter named lst.\n",
    "\n",
    "The function should create a new empty list and add every element from lst that has an odd index. The function should then return this new list.\n",
    "\n",
    "For example, odd_indices([4, 3, 7, 10, 11, -2]) should return the list [3, 10, -2].\n",
    "\n",
    "Hint\n",
    "There are a few ways to do this. range(1, len(lst), 2) will create a list of the indices you're interested in. So you could loop through that list like this:"
   ]
  },
  {
   "cell_type": "code",
   "execution_count": null,
   "metadata": {},
   "outputs": [],
   "source": [
    "for index in range(1, len(lst), 2):\n",
    "  new_list.append(lst[index])"
   ]
  },
  {
   "cell_type": "code",
   "execution_count": null,
   "metadata": {},
   "outputs": [],
   "source": [
    "#Write your function here\n",
    "def odd_indices(lst):\n",
    "  new_lst = []\n",
    "  for index in range(1, len(lst), 2):\n",
    "    new_lst.append(lst[index])\n",
    "  return new_lst\n",
    "\n",
    "#Uncomment the line below when your function is done\n",
    "print(odd_indices([4, 3, 7, 10, 11, -2]))"
   ]
  },
  {
   "cell_type": "markdown",
   "metadata": {},
   "source": [
    "in our solution, we iterate through a range of values. The function range(1, len(lst), 2) returns a list of numbers starting at 1, ending at the length of len, and incrementing by 2. This causes the loop to iterate through every odd number until the last index of our list of numbers. Using this, we can simply append the element at whatever index we are at since we know that using our range we will be iterating through only odd indices.\n",
    "\n",
    "Another way to do this would be to iterate through all indices and use an if statement to see if the index you’re currently looking at is odd."
   ]
  },
  {
   "cell_type": "markdown",
   "metadata": {},
   "source": [
    "## 5. Exponents\n",
    "In this challenge, we will be using nested loops in order to raise a list of numbers to the power of a list of other numbers. What this means is that for every number in the first list, we will raise that number to the power of every number in the second list. If you provide the first list with 2 elements and the second list with 3 numbers, then there will be 6 final answers. Let’s look at the steps we need:\n",
    "\n",
    "1. Define the function to accept two lists of numbers, bases and powers\n",
    "2. Create a new list that will contain our answers\n",
    "3. Create a loop that iterates through every base in bases\n",
    "4. Within that loop, create another loop that iterates through every power in power\n",
    "5. Within that nested loop, append the result of the current base raised to the current power.\n",
    "6. After all iterations of both loops are complete, return the list of answers\n",
    "Code Challenge\n",
    "Create a function named exponents() that takes two lists as parameters named bases and powers. Return a new list containing every number in bases raised to every number in powers.\n",
    "\n",
    "For example, consider the following code.\n",
    "\n",
    "exponents([2, 3, 4], [1, 2, 3])\n",
    "the result would be the list [2, 4, 8, 3, 9, 27, 4, 16, 64]. It would first add two to the first. Then two to the second. Then two to the third, and so on.\n",
    "\n",
    "Hint\n",
    "Use nested for loops. The outer for loop should loop through all of the bases and the inner for loop should loop through all of the powers.\n",
    "Remember a ** b is a to the power of b"
   ]
  },
  {
   "cell_type": "code",
   "execution_count": null,
   "metadata": {},
   "outputs": [],
   "source": [
    "#Write your function here\n",
    "def exponents(bases, powers):\n",
    "  new_lst = []\n",
    "  for base in bases:\n",
    "    for power in powers:\n",
    "      new_lst.append(base ** power)\n",
    "  return new_lst\n",
    "\n",
    "\n",
    "#Uncomment the line below when your function is done\n",
    "print(exponents([2, 3, 4], [1, 2, 3]))"
   ]
  },
  {
   "cell_type": "markdown",
   "metadata": {},
   "source": [
    "As you can see in this solution, we used two nested for loops so that, for every base, we iterate through every power. This allows us to raise each base to every single power in our list and append the answers to our new list. Finally, we return the list of answers."
   ]
  },
  {
   "cell_type": "markdown",
   "metadata": {},
   "source": [
    "# Python Code Challenges: Loops (Advanced)\n",
    "### Difficult Python Code Challenges involving Loops\n",
    "\n",
    "This lesson will help you review Python loops by providing some challenge exercises involving loops.\n",
    "\n",
    "Some of these challenges are difficult! Take some time to think about them before starting to code.\n",
    "\n",
    "You might not get the solution correct on your first try — look at your output, try to find where you’re going wrong, and iterate on your solution.\n",
    "\n",
    "Finally, if you get stuck, use our solution code! If you “Check Answer” twice with an incorrect solution, you should see an option to get our solution code. However, truly investigate that solution — experiment and play with the solution code until you have a good grasp of how it is working. Good luck!\n",
    "\n",
    "## Function and Loop Syntax\n",
    "As a refresher, function syntax looks like this:"
   ]
  },
  {
   "cell_type": "code",
   "execution_count": null,
   "metadata": {},
   "outputs": [],
   "source": [
    "def some_function(some_input1, some_input2):\n",
    "  … do something with the inputs …\n",
    "  return output"
   ]
  },
  {
   "cell_type": "markdown",
   "metadata": {},
   "source": [
    "For example, a function that prints all odd numbers in a list would look like this:"
   ]
  },
  {
   "cell_type": "code",
   "execution_count": null,
   "metadata": {},
   "outputs": [],
   "source": [
    "def odd_nums(lst):\n",
    "  for item in lst:\n",
    "    if item % 2 == 1:\n",
    "      print(item)\n",
    "\n",
    "#And this would produce output like:\n",
    "\n",
    ">>> odd_nums([4, 7, 9, 10, 13])\n",
    "7\n",
    "9\n",
    "13"
   ]
  },
  {
   "cell_type": "markdown",
   "metadata": {},
   "source": [
    "## Challenges\n",
    "We’ve included 5 challenges below. Try to answer all of them and polish up your problem-solving skills and your loop expertise.\n",
    "\n",
    "## 1. Larger Sum\n",
    "We are going to start our advanced challenge problems by calculating which list of two inputs has the larger sum. We will iterate through each of the list and calculate the sums, afterwards we will compare the two and return which one has a greater sum. Here are the steps we need:\n",
    "\n",
    "1. Define the function to accept two input parameters: lst1 and lst2\n",
    "2. Create two variables to record the two sums\n",
    "3. Loop through the first list and add up all of the numbers\n",
    "4. Loop through the second list and add up all of the numbers\n",
    "5. Compare the first and second sum and return the list with the greater sum\n",
    "Code Challenge\n",
    "Create a function named larger_sum() that takes two lists of numbers as parameters named lst1 and lst2.\n",
    "\n",
    "The function should return the list whose elements sum to the greater number. If the sum of the elements of each list are equal, return lst1.\n",
    "\n",
    "Hint\n",
    "Create variables named sum1 and sum2 and set them to be 0. Loop through each list separately and add to the appropriate variable. After looping through each list, compare the two sums in an if statement and return the correct list."
   ]
  },
  {
   "cell_type": "code",
   "execution_count": null,
   "metadata": {},
   "outputs": [],
   "source": [
    "#Write your function here\n",
    "def larger_sum(lst1, lst2):\n",
    "  sum1 = 0\n",
    "  sum2 = 0\n",
    "  for number in lst1:\n",
    "    sum1 += number\n",
    "  for number in lst2:\n",
    "    sum2 += number\n",
    "  if sum1 >= sum2:\n",
    "    return lst1\n",
    "  else:\n",
    "    return lst2\n",
    "\n",
    "#Uncomment the line below when your function is done\n",
    "print(larger_sum([1, 9, 5], [2, 3, 7]))"
   ]
  },
  {
   "cell_type": "markdown",
   "metadata": {},
   "source": [
    "In this solution, we manually iterate through each element in each list and calculate our sums. We then return the list with the greater sum and break the tie by returning lst1. You can also try solving this problem using the sum() function in python. The body of this function could also be condensed into one line of code if you want an additional challenge!"
   ]
  },
  {
   "cell_type": "markdown",
   "metadata": {},
   "source": [
    "## 2. Over 9000\n",
    "We are constructing a device that is able to measure the power level of our coding abilities and according to the device, it will be impossible for our power levels to be over 9000. Because of this, as we iterate through a list of power values we will count up each of the numbers until our sum reaches a value greater than 9000. Once this happens, we should stop adding the numbers and return the value where we stopped. In order to do this, we will need the following steps:\n",
    "\n",
    "1. Define the function to accept a list of numbers\n",
    "2. Create a variable to keep track of our sum\n",
    "3. Iterate through every element in our list of numbers\n",
    "4. Within the loop, add the current number we are looking at to our sum\n",
    "5. Still within the loop, check if the sum is greater than 9000. If it is, end the loop\n",
    "6. Return the value of the sum when we ended our loop\n",
    "\n",
    "Code Challenge\n",
    "Create a function named over_nine_thousand() that takes a list of numbers named lst as a parameter.\n",
    "\n",
    "The function should sum the elements of the list until the sum is greater than 9000. When this happens, the function should return the sum. If the sum of all of the elements is never greater than 9000, the function should return total sum of all the elements. If the list is empty, the function should return 0.\n",
    "\n",
    "For example, if lst was [8000, 900, 120, 5000], then the function should return 9020.\n",
    "\n",
    "Hint\n",
    "Create a variable named sum that begins at 0. Loop through all of the elements of lst and use a break when the sum is greater than 9000. Return sum after the loop."
   ]
  },
  {
   "cell_type": "code",
   "execution_count": null,
   "metadata": {},
   "outputs": [],
   "source": [
    "#Write your function here\n",
    "def over_nine_thousand(lst):\n",
    "  sum = 0\n",
    "  for number in lst:\n",
    "    sum += number\n",
    "    if (sum > 9000):\n",
    "      break\n",
    "  return sum\n",
    "\n",
    "#Uncomment the line below when your function is done\n",
    "print(over_nine_thousand([8000, 900, 120, 5000]))"
   ]
  },
  {
   "cell_type": "markdown",
   "metadata": {},
   "source": [
    "Our solution follows a similar pattern to some of the other code challenges, except that we have a condition where we end early. In the case where we reach a sum greater than 9000, we can use the break keyword to exit our loop. This will continue to execute the code outside of our loop, which in this case, returns the sum that we found."
   ]
  },
  {
   "cell_type": "markdown",
   "metadata": {},
   "source": [
    "## 3. Max Num\n",
    "Here is a more traditional coding problem for you. This function will be used to find the maximum number in a list of numbers. This can be accomplished using the max() function in python, but as a challenge, we are going to manually implement this function. Here is what we need to do:\n",
    "\n",
    "1. Define the function to accept a list of numbers called nums\n",
    "2. Set our default maximum value to be the first element in the list\n",
    "3. Loop through every number in the list of numbers\n",
    "4. Within the loop, if we find a number greater than our starting maximum, then replace the maximum with what we found.\n",
    "5. Return the maximum number\n",
    "\n",
    "Code Challenge\n",
    "Create a function named max_num() that takes a list of numbers named nums as a parameter.\n",
    "\n",
    "The function should return the largest number in nums\n",
    "\n",
    "Hint\n",
    "Create a variable called maximum to track the max number, and have it start as the first element in the list. Loop through all of the numbers in the list, and if a number is ever greater than the current max number, the max number should be re-set to that number."
   ]
  },
  {
   "cell_type": "code",
   "execution_count": null,
   "metadata": {},
   "outputs": [],
   "source": [
    "#Write your function here\n",
    "def max_num(num):\n",
    "  maximum = num[0]\n",
    "  for number in num:\n",
    "    if maximum < number:\n",
    "      maximum = number\n",
    "  return maximum\n",
    "  \n",
    "\n",
    "#Uncomment the line below when your function is done\n",
    "print(max_num([50, -10, 0, 75, 20]))"
   ]
  },
  {
   "cell_type": "markdown",
   "metadata": {},
   "source": [
    "There are a few different ways to accomplish this task, but the way we did it was to check every element in the list and see if there is one bigger than what we currently think is the biggest. If there is a bigger one, then replace it. We keep replacing the number until the largest number has been found."
   ]
  },
  {
   "cell_type": "markdown",
   "metadata": {},
   "source": [
    "## 4. Same Values\n",
    "In this challenge, we need to find the indices in two equally sized lists where the numbers match. We will be iterating through both of them at the same time and comparing the values, if the numbers are equal, then we record the index. These are the steps we need to accomplish this:\n",
    "\n",
    "1. Define our function to accept two lists of numbers\n",
    "2. Create a new list to store our matching indices\n",
    "3. Loop through each index to the end of either of our lists\n",
    "4. Within the loop, check if our first list at the current index is equal to the second list at the current index. If so, append the index where they matched\n",
    "5. Return our list of indices\n",
    "Code Challenge\n",
    "Write a function named same_values() that takes two lists of numbers of equal size as parameters.\n",
    "\n",
    "The function should return a list of the indices where the values were equal in lst1 and lst2.\n",
    "\n",
    "For example, the following code should return [0, 2, 3]\n",
    "\n",
    "same_values([5, 1, -10, 3, 3], [5, 10, -10, 3, 5])\n",
    "Hint\n",
    "Loop through all of the indices of each list using for index in range(len(lst1)) and compare lst1[index] to lst2[index]. Append index to a new list if those two items are equal."
   ]
  },
  {
   "cell_type": "code",
   "execution_count": null,
   "metadata": {},
   "outputs": [],
   "source": [
    "#Write your function here\n",
    "def same_values(lst1, lst2):\n",
    " new_lst = []\n",
    " for index in range(len(lst1)):\n",
    "  if lst1[index] == lst2[index]:\n",
    "    new_lst.append(index)\n",
    " return new_lst\n",
    "\n",
    "\n",
    "#Uncomment the line below when your function is done\n",
    "print(same_values([5, 1, -10, 3, 3], [5, 10, -10, 3, 5]))"
   ]
  },
  {
   "cell_type": "markdown",
   "metadata": {},
   "source": [
    "In this solution, we used a loop that iterates using the range of the len of our list. This generates the indices we need to iterate through. Note that we assume the lists are of equal size. We then access the element at the current index from each list using lst1[index] and lst2[index]. If they are equal we add the index to the new list. Finally, we return the results."
   ]
  },
  {
   "cell_type": "markdown",
   "metadata": {},
   "source": [
    "## 5. Reversed List\n",
    "For the final challenge, we are going to test two lists to see if the second list is the reverse of the first list. There are a few different ways to approach this, but we are going to try a method that iterates through each of the values in one direction for the first list and compares them against the values starting from the other direction in the second list. Here is what you need to do:\n",
    "\n",
    "1. Define a function that has two input parameters for our lists\n",
    "2. Loop through every index in one of the lists from beginning to end\n",
    "3. Within the loop, compare the element in the first list at the current index against the element at the second list’s last index minus the current index. If there was a mismatch, then the lists aren’t reversed and we can return False\n",
    "4. If the loop ended successfully, then we know the lists are reversed and we can return True.\n",
    "\n",
    "Code Challenge\n",
    "Create a function named reversed_list() that takes two lists of the same size as parameters named lst1 and lst2.\n",
    "\n",
    "The function should return True if lst1 is the same as lst2 reversed. The function should return False otherwise.\n",
    "\n",
    "For example, reversed_list([1, 2, 3], [3, 2, 1]) should return True.\n",
    "\n",
    "Hint\n",
    "Let's say the lists are of size 5. You want to compare lst1[0] with lst2[4], lst1[1] with lst2[3] and so on.\n",
    "Loop through the numbers created by range(len(lst1)) using a variable named index\n",
    "\n",
    "Compare lst1[index] to lst2[len(lst2) - 1 - index]. If those two items are not equal, return False. If you loop through the entire list and you never return False, that means that every item was equal, and you should return True."
   ]
  },
  {
   "cell_type": "code",
   "execution_count": null,
   "metadata": {},
   "outputs": [],
   "source": [
    "#Write your function here\n",
    "def reversed_list(lst1, lst2):\n",
    "  for index in range(len(lst1)):\n",
    "    if lst1[index] != lst2[len(lst2) - 1 - index]:\n",
    "      return False\n",
    "  return True\n",
    "\n",
    "#Uncomment the lines below when your function is done\n",
    "print(reversed_list([1, 2, 3], [3, 2, 1]))\n",
    "print(reversed_list([1, 5, 3], [3, 2, 1]))"
   ]
  },
  {
   "cell_type": "markdown",
   "metadata": {},
   "source": [
    "In this code, we iterate through each of the indices for the entire length of either of the lists (since we assume the lengths are equal) and we perform a comparison on each of the elements. We get the element at the current index from our first list with lst1[index] and we test it against the last index of the second list minus the current index len(lst2) - 1 – index.\n",
    "\n",
    "That math is a little complicated — it helps to look at a concrete example. If we are given a list of 5 elements, the valid indices are 0 to 4. Because of this, the last index in the second list is len(lst2) - 1, or 5 - 1 = 4. Now in order to get the inverse of the position we are at in the first list, we subtract the index we are at from the end of the second list. So on the first pass, we’ll compare the element at position 0 to the element at position 5 - 1 - 0 = 4. On the next pass, we’ll compare the element at position 1 to the element at position 5 - 1 - 1 = 3, and so on.\n",
    "\n",
    "If any of the two elements are not equal then we know that the second list is not the reverse of the first list and we return False. If we made it to the end without a mismatch then we can return True since the second list is the reverse of the first. You could also try simplifying this code by using the python function reversed() or other methods that you will learn later on such as ‘slicing’."
   ]
  }
 ],
 "metadata": {
  "interpreter": {
   "hash": "85047f2b0679bf22ef06a9dadc4440578c347e570245020debc97e919b79cb32"
  },
  "kernelspec": {
   "display_name": "Python 3.10.0 64-bit ('.venv': venv)",
   "language": "python",
   "name": "python3"
  },
  "language_info": {
   "codemirror_mode": {
    "name": "ipython",
    "version": 3
   },
   "file_extension": ".py",
   "mimetype": "text/x-python",
   "name": "python",
   "nbconvert_exporter": "python",
   "pygments_lexer": "ipython3",
   "version": "3.10.0"
  },
  "orig_nbformat": 4
 },
 "nbformat": 4,
 "nbformat_minor": 2
}
