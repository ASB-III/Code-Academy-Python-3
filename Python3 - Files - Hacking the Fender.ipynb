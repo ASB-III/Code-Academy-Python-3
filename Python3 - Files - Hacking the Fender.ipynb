{
 "cells": [
  {
   "cell_type": "markdown",
   "metadata": {},
   "source": [
    "# Hacking The Fender\n",
    "The Fender, a notorious computer hacker and general villain of the people, has compromised several top-secret passwords including your own. Your mission, should you choose to accept it, is threefold. You must acquire access to The Fender‘s systems, you must update his \"passwords.txt\" file to scramble the secret data. The last thing you need to do is add the signature of Slash Null, a different hacker whose nefarious deeds could be very conveniently halted by The Fender if they viewed Slash Null as a threat.\n",
    "\n",
    "Use your knowledge of working with Python files to retrieve, manipulate, obscure, and create data in your quest for justice. Work with CSV files and other text files in this exploration of the strength of Python file programming.\n",
    "\n",
    "If you get stuck during this project, check out the project walkthrough video which can be found in the help menu.\n",
    "\n",
    "\n",
    "## Reading In The Passwords\n",
    "##### 1. Are you there? We’ve opened up a communications link to The Fender‘s secret computer. We need you to write a program that will read in the compromised usernames and passwords that are stored in a file called \"passwords.csv\".\n",
    "\n",
    "First import the CSV module, since we’ll be needing it to parse the data.\n",
    "\n",
    "\n",
    "<b><b>Hint</b><br></b><br>\n",
    "You can import the CSV module using the following syntax:"
   ]
  },
  {
   "cell_type": "code",
   "execution_count": null,
   "metadata": {},
   "outputs": [],
   "source": [
    "import csv"
   ]
  },
  {
   "cell_type": "markdown",
   "metadata": {},
   "source": [
    "##### 2. We need to create a list of users whose passwords have been compromised, create a new list and save it to the variable compromised_users.\n",
    "\n",
    "\n",
    "<b>Hint</b><br>\n",
    "Creating a new list for a variable called new_list with the following syntax:"
   ]
  },
  {
   "cell_type": "code",
   "execution_count": null,
   "metadata": {},
   "outputs": [],
   "source": [
    "new_list = []"
   ]
  },
  {
   "cell_type": "markdown",
   "metadata": {},
   "source": [
    "##### 3. Next we’ll need you to open up the file itself. Store it in a file object called password_file.\n",
    "\n",
    "\n",
    "<b>Hint</b><br>\n",
    "Use with...as syntax to open a file, remember it begins an indented block:"
   ]
  },
  {
   "cell_type": "code",
   "execution_count": null,
   "metadata": {},
   "outputs": [],
   "source": [
    "with open('filename.txt') as file_object:\n",
    "  # pass"
   ]
  },
  {
   "cell_type": "markdown",
   "metadata": {},
   "source": [
    "##### 4. Pass the password_file object holder to our CSV reader for parsing. Save the parsed csv.DictReader object as password_csv.\n",
    "\n",
    "\n",
    "<b>Hint</b><br>\n",
    "Use csv.DictReader to parse the file like so:"
   ]
  },
  {
   "cell_type": "code",
   "execution_count": null,
   "metadata": {},
   "outputs": [],
   "source": [
    "parsed_csv = csv.DictReader(file_object)"
   ]
  },
  {
   "cell_type": "markdown",
   "metadata": {},
   "source": [
    "##### 5. Now we’ll want to iterate through each of the lines in the CSV.\n",
    "\n",
    "Create a for loop and save each row of the CSV into the temporary variable password_row.\n",
    "\n",
    "##### 6. Inside your for loop, print out password_row['Username']. This is the username of the person whose password was compromised.\n",
    "\n",
    "Run your code, do you see a list of usernames?\n",
    "\n",
    "##### 7. Remove the print statement. We want to add each username to the list of compromised_users. Use the list’s .append() method to add the username to compromised_users instead of printing them.\n",
    "\n",
    "\n",
    "<b>Hint</b><br>\n",
    "A list’s .append() method adds it to the list."
   ]
  },
  {
   "cell_type": "code",
   "execution_count": null,
   "metadata": {},
   "outputs": [],
   "source": [
    "my_list.append(my_dict['Key'])"
   ]
  },
  {
   "cell_type": "markdown",
   "metadata": {},
   "source": [
    "##### 8. Exit out of your with block for \"passwords.csv\". We have all the data we need from that file.\n",
    "\n",
    "Start a new with block, opening a file called compromised_users.txt. Open this file in write-mode, saving the file object as compromised_user_file.\n",
    "\n",
    "\n",
    "<b>Hint</b><br>\n",
    "You can open a file in write-mode by passing \"w\" as an argument to open()."
   ]
  },
  {
   "cell_type": "code",
   "execution_count": null,
   "metadata": {},
   "outputs": [],
   "source": [
    "with open('new_file.txt', 'w') as new_file:\n",
    "  # write to file here"
   ]
  },
  {
   "cell_type": "markdown",
   "metadata": {},
   "source": [
    "##### 9. Inside the new context-managed block opened by the with statement start a new for loop.\n",
    "\n",
    "Iterate over each of your compromised_users.\n",
    "\n",
    "##### 10. Write the username of each compromised_user in compromised_users to compromised_user_file.\n",
    "\n",
    "\n",
    "<b>Hint</b><br>\n",
    "Use the file object’s .write() method:"
   ]
  },
  {
   "cell_type": "code",
   "execution_count": null,
   "metadata": {},
   "outputs": [],
   "source": [
    "write_me = \"write me to file\"\n",
    "with open('file.txt', 'w') as file_obj:\n",
    "  file_obj.write(write_me)"
   ]
  },
  {
   "cell_type": "markdown",
   "metadata": {},
   "source": [
    "##### 11. Exit out of that with block. You’re doing great so far! We’ve got the data we need to employ as insurance against The Fender.\n",
    "\n",
    "## Notifying the Boss\n",
    "##### 12. Your boss needs to know that you were successful in retrieving that compromised data. We’ll need to send him an encoded message over the internet. Let’s use JSON to do that.\n",
    "\n",
    "First we’ll need to import the json module.\n",
    "\n",
    "##### 13. Open a new JSON file in write-mode called boss_message.json. Save the file object to the variable boss_message.\n",
    "\n",
    "##### 14. Create a Python dictionary object within your with statement that relays a boss message. Call this boss_message_dict.\n",
    "\n",
    "Give it a \"recipient\" key with a value \"The Boss\".\n",
    "\n",
    "Also give it a \"message\" key with the value \"Mission Success\".\n",
    "\n",
    "\n",
    "<b>Hint</b><br>\n",
    "Define a Python dictionary using the curly braces { and }:"
   ]
  },
  {
   "cell_type": "code",
   "execution_count": null,
   "metadata": {},
   "outputs": [],
   "source": [
    "new_dict = {\n",
    "  'key1': 'val1',\n",
    "  'key2': 'val2'\n",
    "}"
   ]
  },
  {
   "cell_type": "markdown",
   "metadata": {},
   "source": [
    "##### 15. Write out boss_message_dict to boss_message using json.dump().\n",
    "\n",
    "\n",
    "<b>Hint</b><br>\n",
    "json.dump() takes two arguments: a Python data object (like a dictionary or an array) and a file object to write the resulting JSON to.\n",
    "\n",
    "Pass the two parameters to json.dump() like so:"
   ]
  },
  {
   "cell_type": "code",
   "execution_count": null,
   "metadata": {},
   "outputs": [],
   "source": [
    "json.dump(dict_obj, file_obj)"
   ]
  },
  {
   "cell_type": "markdown",
   "metadata": {},
   "source": [
    "Scrambling the Password\n",
    "##### 16. Now that we’ve safely recovered the compromised users we’ll want to remove the \"passwords.csv\" file completely.\n",
    "\n",
    "Create a new with block and open \"new_passwords.csv\" in write-mode. Save the file object to a variable called new_passwords_obj.\n",
    "\n",
    "##### 17. Enemy of the people, Slash Null, is who we want The Fender to think was behind this attack. He has a signature, whenever he hacks someone he adds this signature to one of the files he touches. Here is the signature:"
   ]
  },
  {
   "cell_type": "code",
   "execution_count": null,
   "metadata": {},
   "outputs": [],
   "source": [
    " \"\"\"_  _     ___   __  ____             \n",
    "/ )( \\   / __) /  \\(_  _)            \n",
    ") \\/ (  ( (_ \\(  O ) )(              \n",
    "\\____/   \\___/ \\__/ (__)             \n",
    " _  _   __    ___  __ _  ____  ____  \n",
    "/ )( \\ / _\\  / __)(  / )(  __)(    \\ \n",
    ") __ (/    \\( (__  )  (  ) _)  ) D ( \n",
    "\\_)(_/\\_/\\_/ \\___)(__\\_)(____)(____/ \n",
    "        ____  __     __   ____  _  _ \n",
    " ___   / ___)(  )   / _\\ / ___)/ )( \\\n",
    "(___)  \\___ \\/ (_/\\/    \\\\___ \\) __ (\n",
    "       (____/\\____/\\_/\\_/(____/\\_)(_/\n",
    " __ _  _  _  __    __                \n",
    "(  ( \\/ )( \\(  )  (  )               \n",
    "/    /) \\/ (/ (_/\\/ (_/\\             \n",
    "\\_)__)\\____/\\____/\\____/\n",
    "\"\"\""
   ]
  },
  {
   "cell_type": "markdown",
   "metadata": {},
   "source": [
    "Save that as a multiline string to the variable slash_null_sig.\n",
    "\n",
    "\n",
    "<b>Hint</b><br>\n",
    "Remember you can start a multiline string with three quotes:"
   ]
  },
  {
   "cell_type": "code",
   "execution_count": null,
   "metadata": {},
   "outputs": [],
   "source": [
    "multiline_str = \"\"\"\n",
    "  ___  __    __   __   \n",
    " / __)/  \\  /  \\ (  )  \n",
    "( (__(  O )(  O )/ (_/\\\n",
    " \\___)\\__/  \\__/ \\____/\n",
    "\"\"\""
   ]
  },
  {
   "cell_type": "markdown",
   "metadata": {},
   "source": [
    "##### 18. Write slash_null_sig to new_passwords_obj. Now we have the file to replace passwords.csv with!\n",
    "\n",
    "##### 19. What an incredible success! We’ll take care of moving the new passwords file over the old one in case you want to practice hacking The Fender in the future.\n",
    "\n",
    "Thank you for your service, programmer."
   ]
  }
 ],
 "metadata": {
  "interpreter": {
   "hash": "79435cfcbd76b1528bba00a84eb046d19295a161f953d7f2d2d8d04ffa2592c8"
  },
  "kernelspec": {
   "display_name": "Python 3.10.0 64-bit (windows store)",
   "language": "python",
   "name": "python3"
  },
  "language_info": {
   "name": "python",
   "version": "3.10.0"
  },
  "orig_nbformat": 4
 },
 "nbformat": 4,
 "nbformat_minor": 2
}
