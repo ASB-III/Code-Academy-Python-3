{
 "cells": [
  {
   "cell_type": "markdown",
   "metadata": {},
   "source": [
    "# Basta Fazoolin'\n",
    "You’ve started position as the lead programmer for the family-style Italian restaurant Basta Fazoolin’ with My Heart. The restaurant has been doing fantastically and seen a lot of growth lately. You’ve been hired to keep things organized.\n",
    "\n",
    "If you get stuck during this project or would like to see an experienced developer work through it, click “Get Unstuck“ to see a project walkthrough video.\n",
    "### Making the Menus\n",
    "##### 1. At Basta Fazoolin’ with my Heart our motto is simple: when you’re here with family, that’s great! We have four different menus: brunch, early-bird, dinner, and kids.\n",
    "\n",
    "Create a Menu class .\n",
    "\n",
    "\n",
    "<b>Hint</b><br>\n",
    "Remember to use the class keyword when creating a new class.\n",
    "\n",
    "##### 2. Give Menu a constructor with the five parameters self, name, items, start_time, and end_time.\n",
    "\n",
    "\n",
    "<b>Hint</b><br>\n",
    "Remember that a constructor in Python is a method called __init__.\n",
    "\n",
    "##### 3. Let’s create our first menu: brunch. Brunch is served from 11am to 4pm. The following items are sold during brunch:"
   ]
  },
  {
   "cell_type": "code",
   "execution_count": null,
   "metadata": {},
   "outputs": [],
   "source": [
    "{\n",
    "  'pancakes': 7.50, 'waffles': 9.00, 'burger': 11.00, 'home fries': 4.50, 'coffee': 1.50, 'espresso': 3.00, 'tea': 1.00, 'mimosa': 10.50, 'orange juice': 3.50\n",
    "}"
   ]
  },
  {
   "cell_type": "markdown",
   "metadata": {},
   "source": [
    "<b>Hint</b><br>\n",
    "Create a Menu object and save it into the variable brunch. Call it with the arguments \"brunch\" and the items dictionary in the code block above.\n",
    "\n",
    "For the start_time and end_time, either you can use a 24-hour clock (11 & 16, respectively) or the time object from the datetime module."
   ]
  },
  {
   "cell_type": "markdown",
   "metadata": {},
   "source": [
    "##### 4. Let’s create our second menu item early_bird. Early-bird Dinners are served from 3pm to 6pm. The following items are available during the early-bird menu:"
   ]
  },
  {
   "cell_type": "code",
   "execution_count": null,
   "metadata": {},
   "outputs": [],
   "source": [
    "{\n",
    "  'salumeria plate': 8.00, 'salad and breadsticks (serves 2, no refills)': 14.00, 'pizza with quattro formaggi': 9.00, 'duck ragu': 17.50, 'mushroom ravioli (vegan)': 13.50, 'coffee': 1.50, 'espresso': 3.00,\n",
    "}"
   ]
  },
  {
   "cell_type": "markdown",
   "metadata": {},
   "source": [
    "##### 5. Let’s create our third menu, dinner. Dinner is served from 5pm to 11pm. The following items are available for dinner:"
   ]
  },
  {
   "cell_type": "code",
   "execution_count": null,
   "metadata": {},
   "outputs": [],
   "source": [
    "{\n",
    "  'crostini with eggplant caponata': 13.00, 'ceaser salad': 16.00, 'pizza with quattro formaggi': 11.00, 'duck ragu': 19.50, 'mushroom ravioli (vegan)': 13.50, 'coffee': 2.00, 'espresso': 3.00,\n",
    "}"
   ]
  },
  {
   "cell_type": "markdown",
   "metadata": {},
   "source": [
    "##### 6. And let’s create our last menu, kids. The kids menu is available from 11am until 9pm. The following items are available on the kids menu."
   ]
  },
  {
   "cell_type": "code",
   "execution_count": null,
   "metadata": {},
   "outputs": [],
   "source": [
    "{\n",
    "  'chicken nuggets': 6.50, 'fusilli with wild mushrooms': 12.00, 'apple juice': 3.00\n",
    "}"
   ]
  },
  {
   "cell_type": "markdown",
   "metadata": {},
   "source": [
    "##### 7. Give our Menu class a string representation method that will tell you the name of the menu. Also, indicate in this representation when the menu is available.\n",
    "\n",
    "\n",
    "<b>Hint</b><br>\n",
    "Define a string representation like this:"
   ]
  },
  {
   "cell_type": "code",
   "execution_count": null,
   "metadata": {},
   "outputs": [],
   "source": [
    "def __repr__(self):\n",
    "  return self.representative_string"
   ]
  },
  {
   "cell_type": "markdown",
   "metadata": {},
   "source": [
    "##### 8. Try out our string representation. If you call print(brunch) it should print out something like the following:\n",
    "\n",
    "brunch menu available from 11am to 4pm\n",
    "##### 9. Give Menu a method .calculate_bill() that has two parameters: self, and purchased_items, a list of the names of purchased items.\n",
    "\n",
    "Have calculate_bill return the total price of a purchase consisiting of all the items in purchased_items.\n",
    "\n",
    "##### 10. Test out Menu.calculate_bill(). We have a breakfast order for one order of pancakes, one order of home fries, and one coffee. Pass that into brunch.calculate_bill() and print out the price.\n",
    "\n",
    "<b>Hint</b><br>\n",
    "If you print out"
   ]
  },
  {
   "cell_type": "code",
   "execution_count": null,
   "metadata": {},
   "outputs": [],
   "source": [
    "brunch.calculate_bill(['pancakes', 'home fries', 'coffee'])"
   ]
  },
  {
   "cell_type": "markdown",
   "metadata": {},
   "source": [
    "You should get the value 13.5.\n",
    "\n",
    "##### 11. What about an early-bird purchase? Our last guests ordered the salumeria plate and the vegan mushroom ravioli. Calculate the bill with .calculate_bill().\n",
    "\n",
    "\n",
    "<b>Hint</b><br>\n",
    "This purchase should result in a bill of 21.5.\n",
    "\n",
    "### Creating the Franchises\n",
    "##### 12. Basta Fazoolin’ with my Heart has seen tremendous success with the family market, which is fantastic because when you’re at Basta Fazoolin’ with my Heart with family, that’s great!\n",
    "\n",
    "We’ve decided to create more than one restaurant to offer our fantastic menus, services, and ambience around the country.\n",
    "\n",
    "First, let’s create a Franchise class.\n",
    "\n",
    "##### 13. Give the Franchise class a constructor. Take in an address, and assign it to self.address. Also take in a list of menus and assign it to self.menus.\n",
    "\n",
    "##### 14. Let’s create our first two franchises! Our flagship store is located at \"1232 West End Road\" and our new installment is located at \"12 East Mulberry Street\". Pass in all four menus along with these addresses to define flagship_store and new_installment.\n",
    "\n",
    "##### 15. Give our Franchises a string representation so that we’ll be able to tell them apart. If we print out a Franchise it should tell us the address of the restaurant.\n",
    "\n",
    "\n",
    "<b>Hint</b><br>\n",
    "Define a .__repr__() method on your Franchise class to give it a string representation.\n",
    "\n",
    "##### 16. Let’s tell our customers what they can order! Give Franchise an .available_menus() method that takes in a time parameter and returns a list of the Menu objects that are available at that time.\n",
    "\n",
    "\n",
    "<b>Hint</b><br>\n",
    "Write a method .available_menus() that takes in two parameters, self and time. It should iterate through all of self.menus and return only those menus that are available between start_time and end_time.\n",
    "\n",
    "##### 17. Let’s test out our .available_menus() method! Call it with 12 noon as an argument and print out the results.\n",
    "\n",
    "\n",
    "<b>Hint</b><br>\n",
    "It should return both our brunch menu and our kids menu. Lucky we already gave them string representations!\n",
    "\n",
    "##### 18. Let’s do another test! See what is printed if we call .available_menus() with 5pm as an argument and print out the results.\n",
    "\n",
    "\n",
    "<b>Hint</b><br>\n",
    "You should get a list consisting of the early-bird, the dinner, and the kids menus.\n",
    "\n",
    "### Creating Businesses!\n",
    "##### 19. Since we’ve been so successful building out a branded chain of restaurants, we’ve decided to diversify. We’re going to create a restaurant that sells arepas!\n",
    "\n",
    "First let’s define a Business class.\n",
    "\n",
    "##### 20. Give Business a constructor. A Business needs a name and a list of franchises.\n",
    "\n",
    "##### 21. Let’s create our first Business. The name is \"Basta Fazoolin' with my Heart\" and the two franchises are flagship_store and new_installment.\n",
    "\n",
    "##### 22. Before we create our new business, we’ll need a Franchise and before our Franchise we’ll need a menu. The items for our Take a’ Arepa available from 10am until 8pm are the following:"
   ]
  },
  {
   "cell_type": "code",
   "execution_count": null,
   "metadata": {},
   "outputs": [],
   "source": [
    "{\n",
    "  'arepa pabellon': 7.00, 'pernil arepa': 8.50, 'guayanes arepa': 8.00, 'jamon arepa': 7.50\n",
    "}"
   ]
  },
  {
   "cell_type": "markdown",
   "metadata": {},
   "source": [
    "Save this to a variable called arepas_menu.\n",
    "\n",
    "##### 23. Next let’s create our first Take a’ Arepa franchise! Our new restaurant is located at \"189 Fitzgerald Avenue\". Save the Franchise object to a variable called arepas_place.\n",
    "\n",
    "\n",
    "<b>Hint</b><br>\n",
    "Remember to pass a list consisting of arepas_menu from the last task.\n",
    "\n",
    "##### 24. Now let’s make our new Business! The business is called \"Take a' Arepa\"!\n",
    "\n",
    "##### 25. Congrats! You created a system of classes that help structure your code and perform all business requirements you need. Whenever we need a new feature we’ll have the well-organized code required to make developing and shipping it easy.\n",
    "\n",
    "##### 26. If you are stuck on the project or would like to see an experienced developer work through the project, watch the following project walkthrough video!"
   ]
  },
  {
   "cell_type": "code",
   "execution_count": null,
   "metadata": {},
   "outputs": [],
   "source": [
    "class Business:\n",
    "  def __init__(self, name, franchises):\n",
    "    self.name = name\n",
    "    self.franchises = franchises\n",
    "\n",
    "class Franchise:\n",
    "  def __init__(self, address, menus):\n",
    "    self.address = address\n",
    "    self.menus = menus\n",
    "\n",
    "  def __repr__(self):\n",
    "    return self.address \n",
    "\n",
    "  def available_menus(self, time):\n",
    "    available_menus = []\n",
    "    for menu in self.menus:\n",
    "      if time >= menu.start_time and time <= menu.end_time:\n",
    "        available_menus.append(menu)\n",
    "    return available_menus\n",
    "\n",
    "\n",
    "#Task 1\n",
    "class Menu:\n",
    "  #Task 2: Give Menu a constructor with the five parameters self, name, items, start_time, and end_time.\n",
    "  def __init__(self, name, items, start_time, end_time):\n",
    "    self.name = name\n",
    "    self.items = items\n",
    "    self.start_time = start_time\n",
    "    self.end_time = end_time\n",
    "\n",
    "  #Task 7 Give our Menu class a string representation method that will tell you the name of the menu. Also, indicate in this representation when the menu is available. \n",
    "  def __repr__(self):\n",
    "    return self.name + ' menu available from ' + str(self.start_time) + ' - ' + str(self.end_time)\n",
    "\n",
    "  #Task 9 Give Menu a method .calculate_bill() that has two parameters: self, and purchased_items, a list of the names of purchased items.\n",
    "  def calculate_bill(self, purchased_items):\n",
    "    #Task 9 Have calculate_bill return the total price of a purchase consisiting of all the items in purchased_items.\n",
    "    bill = 0\n",
    "    for purchased_item in purchased_items:\n",
    "      if purchased_item in self.items:\n",
    "        bill += self.items[purchased_item]\n",
    "    return bill\n",
    "\n",
    "#Task 3 Brunch Menu\n",
    "brunch_items = {\n",
    "  'pancakes': 7.50, 'waffles': 9.00, 'burger': 11.00, 'home fries': 4.50, 'coffee': 1.50, 'espresso': 3.00, 'tea': 1.00, 'mimosa': 10.50, 'orange juice': 3.50\n",
    "}\n",
    "brunch_menu = Menu('Brunch', brunch_items, 1100, 1600)\n",
    "#Task 10\n",
    "#print(brunch_menu.calculate_bill(['pancakes', 'home fries', 'coffee']))\n",
    "\n",
    "#print(brunch_menu.name)\n",
    "\n",
    "\n",
    "\n",
    "#Task 4 Early Bird Menu\n",
    "early_bird_items = {\n",
    "  'salumeria plate': 8.00, 'salad and breadsticks (serves 2, no refills)': 14.00, 'pizza with quattro formaggi': 9.00, 'duck ragu': 17.50, 'mushroom ravioli (vegan)': 13.50, 'coffee': 1.50, 'espresso': 3.00,\n",
    "}\n",
    "early_bird_menu = Menu('Early Bird', early_bird_items, 1500, 1800)\n",
    "#Task 11\n",
    "#print(early_bird_menu.calculate_bill(['salumeria plate', 'mushroom ravioli (vegan)']))\n",
    "\n",
    "#print(early_bird_menu.name)\n",
    "\n",
    "#Task 5 Dinner Menu\n",
    "dinner_items = {\n",
    "  'crostini with eggplant caponata': 13.00, 'ceaser salad': 16.00, 'pizza with quattro formaggi': 11.00, 'duck ragu': 19.50, 'mushroom ravioli (vegan)': 13.50, 'coffee': 2.00, 'espresso': 3.00,\n",
    "}\n",
    "dinner_menu = Menu('Dinner', dinner_items, 1700, 2300)\n",
    "\n",
    "#print(dinner_menu.name)\n",
    "\n",
    "#Task 5 Kids Menu\n",
    "kids_items = {\n",
    "  'chicken nuggets': 6.50, 'fusilli with wild mushrooms': 12.00, 'apple juice': 3.00\n",
    "}\n",
    "kids_menu = Menu('Kids', kids_items, 1100, 2100)\n",
    "#Task 8\n",
    "#print(kids_menu)\n",
    "#print(brunch_menu)\n",
    "\n",
    "menus = [brunch_menu, early_bird_menu, dinner_menu, kids_menu]\n",
    "\n",
    "flagship_store = Franchise('1232 West End Road', menus)\n",
    "new_installment = Franchise('12 East Mulberry Street', menus)\n",
    "\n",
    "#print(flagship_store)\n",
    "#print(flagship_store.available_menus(1200))\n",
    "#print(flagship_store.available_menus(1700))\n",
    "\n",
    "basta = Business(\"Basta Fazoolin' with my Heart\", [flagship_store, new_installment])\n",
    "\n",
    "\n",
    "# Arepa Step 22\n",
    "\n",
    "arepas_items = {\n",
    "  'arepa pabellon': 7.00, 'pernil arepa': 8.50, 'guayanes arepa': 8.00, 'jamon arepa': 7.50\n",
    "}\n",
    "arepas_menu = Menu(\"Take a’ Arepa\", arepas_items, 1000, 2000)\n",
    "arepas_place = Franchise(\"189 Fitzgerald Avenue\", [arepas_menu])\n",
    "arepa = Business(\"Take a’ Arepa\", [arepas_place])\n",
    "\n",
    "print(arepa.franchises[0].menus[0])\n",
    " "
   ]
  }
 ],
 "metadata": {
  "interpreter": {
   "hash": "79435cfcbd76b1528bba00a84eb046d19295a161f953d7f2d2d8d04ffa2592c8"
  },
  "kernelspec": {
   "display_name": "Python 3.10.0 64-bit (windows store)",
   "language": "python",
   "name": "python3"
  },
  "language_info": {
   "name": "python",
   "version": "3.10.0"
  },
  "orig_nbformat": 4
 },
 "nbformat": 4,
 "nbformat_minor": 2
}
