{
 "cells": [
  {
   "cell_type": "markdown",
   "metadata": {},
   "source": [
    "# Introduction to Dictionary\n",
    "A dictionary is an unordered set of key: value pairs.\n",
    "\n",
    "It provides us with a way to map pieces of data to each other so that we can quickly find values that are associated with one another.\n",
    "\n",
    "Suppose we want to store the prices of various items sold at a cafe:\n",
    "\n",
    "Avocado Toast is 6 dollars\n",
    "Carrot Juice is 5 dollars\n",
    "Blueberry Muffin is 2 dollars\n",
    "In Python, we can create a dictionary called menu to store this data:"
   ]
  },
  {
   "cell_type": "code",
   "execution_count": null,
   "metadata": {},
   "outputs": [],
   "source": [
    "menu = {\"avocado toast\": 6, \"carrot juice\": 5, \"blueberry muffin\": 2}"
   ]
  },
  {
   "cell_type": "markdown",
   "metadata": {},
   "source": [
    "Notice that:\n",
    "\n",
    "##### 1. A dictionary begins and ends with curly braces { and }.\n",
    "##### 2. Each item consists of a key (\"avocado toast\") and a value (6).\n",
    "##### 3. Each key: value pair is separated by a comma.\n",
    "It’s considered good practice to insert a space () after each comma, but our code will still run without the space."
   ]
  },
  {
   "cell_type": "markdown",
   "metadata": {},
   "source": [
    "### Instructions\n",
    "##### 1. Suppose we have a dictionary of temperature sensors in the house and what temperatures they read. We’ve just added a sensor to the \"pantry\", and it reads 22 degrees.\n",
    "\n",
    "Add this pair to the dictionary on line 1."
   ]
  },
  {
   "cell_type": "markdown",
   "metadata": {},
   "source": [
    "<b>Hint</b> <br>\n",
    "It should look something like:\n",
    "\n",
    "sensors = {\"living room\": 21, \"kitchen\": 23, \"bedroom\": 20, \"pantry\": 22}\n",
    "##### 2. Remove the # in front of the definition of the dictionary num_cameras, which represents the number of cameras in each area around the house.\n",
    "\n",
    "If you run this code, you’ll get an error:\n",
    "\n",
    "SyntaxError: invalid syntax\n",
    "Try to find and fix the syntax error to make this code run.\n",
    "\n",
    "<b>Hint</b> <br>\n",
    "Add commas (,) to num_cameras so that it runs without errors."
   ]
  },
  {
   "cell_type": "code",
   "execution_count": null,
   "metadata": {},
   "outputs": [],
   "source": [
    "sensors =  {\"living room\": 21, \"kitchen\": 23, \"bedroom\": 20}\n",
    "num_cameras = {\"backyard\": 6,  \"garage\": 2, \"driveway\": 1}\n",
    "\n",
    "print(sensors)\n",
    "\n",
    "sensors = {\"living room\": 21, \"kitchen\": 23, \"bedroom\": 20, \"pantry\": 22}"
   ]
  },
  {
   "cell_type": "markdown",
   "metadata": {},
   "source": [
    "## Make a Dictionary\n",
    "In the previous exercise, we saw a dictionary that maps strings to numbers (i.e., \"avocado toast\": 6). However, the keys can be numbers as well.\n",
    "\n",
    "For example, if we were mapping restaurant bill subtotals to the bill total after tip, a dictionary could look like:"
   ]
  },
  {
   "cell_type": "code",
   "execution_count": null,
   "metadata": {},
   "outputs": [],
   "source": [
    "subtotal_to_total = {20: 24, 10: 12, 5: 6, 15: 18}"
   ]
  },
  {
   "cell_type": "markdown",
   "metadata": {},
   "source": [
    "Values can be of any type. We can use a string, a number, a list, or even another dictionary as the value associated with a key!\n",
    "\n",
    "For example:"
   ]
  },
  {
   "cell_type": "code",
   "execution_count": null,
   "metadata": {},
   "outputs": [],
   "source": [
    "students_in_classes = {\"software design\": [\"Aaron\", \"Delila\", \"Samson\"], \"cartography\": [\"Christopher\", \"Juan\", \"Marco\"], \"philosophy\": [\"Frederica\", \"Manuel\"]}"
   ]
  },
  {
   "cell_type": "markdown",
   "metadata": {},
   "source": [
    "The list [\"Aaron\", \"Delila\", \"Samson\"], which is the value for the key \"software design\", represents the students in that class.\n",
    "\n",
    "We can also mix and match key and value types. For example:"
   ]
  },
  {
   "cell_type": "code",
   "execution_count": null,
   "metadata": {},
   "outputs": [],
   "source": [
    "person = {\"name\": \"Shuri\", \"age\": 18, \"family\": [\"T'Chaka\", \"Ramonda\"]}"
   ]
  },
  {
   "cell_type": "markdown",
   "metadata": {},
   "source": [
    "##### 1. Create a dictionary called translations that maps the following words in English to their definitions in Sindarin (the language of the elves):\n",
    "\n",
    "English\t    Sindarin <br>\n",
    "mountain\torod <br>\n",
    "bread\t    bass <br>\n",
    "friend\t    mellon <br>\n",
    "horse\t    roch <br>\n"
   ]
  },
  {
   "cell_type": "markdown",
   "metadata": {},
   "source": [
    "<b>Hint</b>\n",
    "It should look something like:\n",
    "\n",
    "translations = {\"mountain\": \"orod\", \"bread\": \"bass\", ...}"
   ]
  },
  {
   "cell_type": "code",
   "execution_count": null,
   "metadata": {},
   "outputs": [],
   "source": [
    "translations = {\"mountain\": \"orod\", \"bread\": \"bass\", \"friend\": \"mellon\", \"horse\": \"roch\"}"
   ]
  },
  {
   "cell_type": "markdown",
   "metadata": {},
   "source": [
    "## Invalid Keys\n",
    "We can have a list or a dictionary as a value of an item in a dictionary, but we cannot use these data types as keys of the dictionary. If we try to, we will get a TypeError.\n",
    "\n",
    "For example:"
   ]
  },
  {
   "cell_type": "code",
   "execution_count": null,
   "metadata": {},
   "outputs": [],
   "source": [
    "powers = {[1, 2, 4, 8, 16]: 2, [1, 3, 9, 27, 81]: 3}"
   ]
  },
  {
   "cell_type": "markdown",
   "metadata": {},
   "source": [
    "This code will yield:\n",
    "\n",
    "\n",
    "TypeError: unhashable type: 'list'"
   ]
  },
  {
   "cell_type": "markdown",
   "metadata": {},
   "source": [
    "The word “unhashable” in this context means that this ‘list’ is an object that can be changed.\n",
    "\n",
    "Dictionaries in Python rely on each key having a hash value, a specific identifier for the key. If the key can change, that hash value would not be reliable. So the keys must always be unchangeable, hashable data types, like numbers or strings."
   ]
  },
  {
   "cell_type": "markdown",
   "metadata": {},
   "source": [
    "##### 1. Run the code inside script.py. You should get an error:\n",
    "\n",
    "TypeError: unhashable type\n",
    "Make the code run without errors by flipping the items in the dictionary so that the strings are the keys and the lists are the values"
   ]
  },
  {
   "cell_type": "markdown",
   "metadata": {},
   "source": [
    "<b>Hint</b><br>\n",
    "It should look something like:\n",
    "\n",
    "children = {\"von Trapp\": [\"Johannes\", \"Rosmarie\", \"Eleonore\"], ...}"
   ]
  },
  {
   "cell_type": "code",
   "execution_count": null,
   "metadata": {},
   "outputs": [],
   "source": [
    "children = {\"von Trapp\": [\"Johannes\", \"Rosmarie\", \"Eleonore\"], \"Corleone\": [\"Sonny\", \"Fredo\", \"Michael\"]}\n"
   ]
  },
  {
   "cell_type": "markdown",
   "metadata": {},
   "source": [
    "## Empty Dictionary\n",
    "A dictionary doesn’t have to contain anything. Sometimes we need to create an empty dictionary when we plan to fill it later based on some other input.\n",
    "\n",
    "We can create an empty dictionary like this:\n",
    "\n",
    "empty_dict = {}\n",
    "We will explore ways to fill a dictionary in the next exercise.\n",
    "\n",
    "Instructions\n",
    "##### 1. Create an empty dictionary called my_empty_dictionary.\n",
    "\n",
    "\n",
    "<b>Hint</b><br>\n",
    "It should look something like:\n",
    "\n",
    "name = {}"
   ]
  },
  {
   "cell_type": "code",
   "execution_count": null,
   "metadata": {},
   "outputs": [],
   "source": [
    "my_empty_dictionary = {}"
   ]
  },
  {
   "cell_type": "markdown",
   "metadata": {},
   "source": [
    "## Add A Key\n",
    "To add a single key: value pair to a dictionary, we can use the syntax:\n",
    "\n",
    "dictionary[key] = value\n",
    "For example, if we had our menu dictionary from the first exercise:"
   ]
  },
  {
   "cell_type": "code",
   "execution_count": null,
   "metadata": {},
   "outputs": [],
   "source": [
    "menu = {\"oatmeal\": 3, \"avocado toast\": 6, \"carrot juice\": 5, \"blueberry muffin\": 2}"
   ]
  },
  {
   "cell_type": "markdown",
   "metadata": {},
   "source": [
    "And we wanted to add a new item, \"cheesecake\" for 8 dollars, we could use:"
   ]
  },
  {
   "cell_type": "code",
   "execution_count": null,
   "metadata": {},
   "outputs": [],
   "source": [
    "menu[\"cheesecake\"] = 8"
   ]
  },
  {
   "cell_type": "markdown",
   "metadata": {},
   "source": [
    "Now, menu looks like:"
   ]
  },
  {
   "cell_type": "code",
   "execution_count": null,
   "metadata": {},
   "outputs": [],
   "source": [
    "{\"oatmeal\": 3, \"avocado toast\": 6, \"carrot juice\": 5, \"blueberry muffin\": 2, \"cheesecake\": 8}"
   ]
  },
  {
   "cell_type": "markdown",
   "metadata": {},
   "source": [
    "##### instructions\n",
    "1. Create an empty dictionary called animals_in_zoo.\n",
    "\n",
    "2. Walking around the zoo, you see 8 zebras. Add \"zebras\" to animals_in_zoo as a key with a value of 8.\n",
    "\n",
    "3. The primate house was bananas! Add \"monkeys\" to animals_in_zoo as a key with a value of 12.\n",
    "\n",
    "4. As you leave the zoo, you are saddened that you did not see any dinosaurs. Add \"dinosaurs\" to animals_in_zoo as a key with a value of 0.\n",
    "\n",
    "5. Print animals_in_zoo."
   ]
  },
  {
   "cell_type": "code",
   "execution_count": null,
   "metadata": {},
   "outputs": [],
   "source": [
    "animals_in_zoo = {}\n",
    "\n",
    "animals_in_zoo[\"zebras\"] = 8\n",
    "animals_in_zoo[\"monkeys\"] = 12\n",
    "animals_in_zoo[\"dinosaurs\"] = 0\n",
    "print(animals_in_zoo)"
   ]
  },
  {
   "cell_type": "markdown",
   "metadata": {},
   "source": [
    "## Add Multiple Keys\n",
    "If we wanted to add multiple key : value pairs to a dictionary at once, we can use the .update() method.\n",
    "\n",
    "Looking at our sensors object from a previous exercise:"
   ]
  },
  {
   "cell_type": "code",
   "execution_count": null,
   "metadata": {},
   "outputs": [],
   "source": [
    "sensors = {\"living room\": 21, \"kitchen\": 23, \"bedroom\": 20}"
   ]
  },
  {
   "cell_type": "markdown",
   "metadata": {},
   "source": [
    "If we wanted to add 3 new rooms, we could use:"
   ]
  },
  {
   "cell_type": "code",
   "execution_count": null,
   "metadata": {},
   "outputs": [],
   "source": [
    "sensors.update({\"pantry\": 22, \"guest room\": 25, \"patio\": 34})"
   ]
  },
  {
   "cell_type": "markdown",
   "metadata": {},
   "source": [
    "This would add all three items to the sensors dictionary.\n",
    "\n",
    "Now, sensors looks like:"
   ]
  },
  {
   "cell_type": "code",
   "execution_count": null,
   "metadata": {},
   "outputs": [],
   "source": [
    "{\"living room\": 21, \"kitchen\": 23, \"bedroom\": 20, \"pantry\": 22, \"guest room\": 25, \"patio\": 34}"
   ]
  },
  {
   "cell_type": "markdown",
   "metadata": {},
   "source": [
    "##### 1. In one line of code, add two new users to the user_ids dictionary:\n",
    "\n",
    "- theLooper, with an id of 138475\n",
    "- stringQueen, with an id of 85739\n",
    "\n",
    "\n",
    "It should look something like:\n",
    "\n",
    "user_ids.update({\"username1\": 100, \"username2\": 101})"
   ]
  },
  {
   "cell_type": "markdown",
   "metadata": {},
   "source": [
    "##### 2. Print user_ids.\n",
    "\n",
    "\n",
    "<b>Hint</b><br>\n",
    "It should look something like:\n",
    "\n",
    "print(name)"
   ]
  },
  {
   "cell_type": "code",
   "execution_count": null,
   "metadata": {},
   "outputs": [],
   "source": [
    "user_ids = {\"teraCoder\": 9018293, \"proProgrammer\": 119238}\n",
    "\n",
    "user_ids.update({\"theLooper\": 138475, \"stringQueen\": 85739})\n",
    "print(user_ids)\n"
   ]
  },
  {
   "cell_type": "markdown",
   "metadata": {},
   "source": [
    "## Overwrite Values\n",
    "We know that we can add a key by using syntax like:"
   ]
  },
  {
   "cell_type": "code",
   "execution_count": null,
   "metadata": {},
   "outputs": [],
   "source": [
    "menu[\"avocado toast\"] = 7"
   ]
  },
  {
   "cell_type": "markdown",
   "metadata": {},
   "source": [
    "This will create a key \"avocado toast\" and set the value to 7. But what if we already have an 'avocado toast' entry in the menu dictionary?\n",
    "\n",
    "In that case, our value assignment would overwrite the existing value attached to the key 'avocado toast'."
   ]
  },
  {
   "cell_type": "code",
   "execution_count": null,
   "metadata": {},
   "outputs": [],
   "source": [
    "menu = {\"oatmeal\": 3, \"avocado toast\": 6, \"carrot juice\": 5, \"blueberry muffin\": 2}\n",
    "menu[\"oatmeal\"] = 5\n",
    "print(menu)"
   ]
  },
  {
   "cell_type": "markdown",
   "metadata": {},
   "source": [
    "This would yield:"
   ]
  },
  {
   "cell_type": "code",
   "execution_count": null,
   "metadata": {},
   "outputs": [],
   "source": [
    "{\"oatmeal\": 5, \"avocado toast\": 6, \"carrot juice\": 5, \"blueberry muffin\": 2}"
   ]
  },
  {
   "cell_type": "markdown",
   "metadata": {},
   "source": [
    "Notice the value of \"oatmeal\" has now changed to 5.\n",
    "\n",
    "<b>Instructions</b>\n",
    "\n",
    "##### 1. Add the key \"Supporting Actress\" and set the value to \"Viola Davis\".\n",
    "\n",
    "##### 2. Without changing the definition of the dictionary oscar_winners, change the value associated with the key \"Best Picture\" to \"Moonlight\"."
   ]
  },
  {
   "cell_type": "code",
   "execution_count": null,
   "metadata": {},
   "outputs": [],
   "source": [
    "oscar_winners = {\"Best Picture\": \"La La Land\", \"Best Actor\": \"Casey Affleck\", \"Best Actress\": \"Emma Stone\", \"Animated Feature\": \"Zootopia\"}\n",
    "\n",
    "oscar_winners[\"Supporting Actress\"] = \"Viola Davis\"\n",
    "oscar_winners[\"Best Picture\"] = \"Moonlight\""
   ]
  },
  {
   "cell_type": "markdown",
   "metadata": {},
   "source": [
    "## Dict Comprehensions\n",
    "Let’s say we have two lists that we want to combine into a dictionary, like a list of students and a list of their heights, in inches:"
   ]
  },
  {
   "cell_type": "code",
   "execution_count": null,
   "metadata": {},
   "outputs": [],
   "source": [
    "names = ['Jenny', 'Alexus', 'Sam', 'Grace']\n",
    "heights = [61, 70, 67, 64]"
   ]
  },
  {
   "cell_type": "markdown",
   "metadata": {},
   "source": [
    "Python allows you to create a dictionary using a dict comprehension, with this syntax:"
   ]
  },
  {
   "cell_type": "code",
   "execution_count": null,
   "metadata": {},
   "outputs": [],
   "source": [
    "students = {key:value for key, value in zip(names, heights)}\n",
    "#students is now {'Jenny': 61, 'Alexus': 70, 'Sam': 67, 'Grace': 64}"
   ]
  },
  {
   "cell_type": "markdown",
   "metadata": {},
   "source": [
    "Remember that zip() combines two lists into an iterator of tuples with the list elements paired together. This dict comprehension:\n",
    "\n",
    "1. Takes a pair from the iterator of tuples\n",
    "2. Names the elements in the pair key (the one originally from the names list) and value (the one originally from the heights list)\n",
    "3. Creates a key : value item in the students dictionary\n",
    "4. Repeats steps 1-3 for the entire iterator of pairs"
   ]
  },
  {
   "cell_type": "markdown",
   "metadata": {},
   "source": [
    "##### 1. You have two lists, representing some drinks sold at a coffee shop and the milligrams of caffeine in each. First, create a variable called zipped_drinks that is an iterator of pairs between the drinks list and the caffeine list.\n",
    "\n",
    "\n",
    "<b>Hint</b><br>\n",
    "For example, to create an iterator of pairs between names and heights:\n",
    "\n",
    "names = ['Jenny', 'Alexus', 'Sam', 'Grace']\n",
    "heights = [61, 70, 67, 64]\n",
    " \n",
    "zipped_students = zip(names, heights)\n",
    "##### 2. Create a dictionary called drinks_to_caffeine by using a dict comprehension that goes through the zipped_drinks iterator and turns each tuple pair into a key:value item.\n",
    "\n",
    "\n",
    "<b>Hint</b><br>\n",
    "Use the following syntax:\n",
    "\n",
    "dict_variable = {key: value for key, value in zip_iterator}"
   ]
  },
  {
   "cell_type": "code",
   "execution_count": null,
   "metadata": {},
   "outputs": [],
   "source": [
    "drinks = [\"espresso\", \"chai\", \"decaf\", \"drip\"]\n",
    "caffeine = [64, 40, 0, 120]\n",
    "\n",
    "zipped_drinks = zip(drinks, caffeine)\n",
    "\n",
    "drinks_to_caffeine = {key: value for key, value in zipped_drinks}"
   ]
  },
  {
   "cell_type": "markdown",
   "metadata": {},
   "source": [
    "## Review\n",
    "So far we have learned:\n",
    "\n",
    "- How to create a dictionary\n",
    "- How to add elements to a dictionary\n",
    "- How to update elements in a dictionary\n",
    "- How to use a list comprehension to create a dictionary from two lists\n",
    "Let’s practice these skills!\n",
    "\n",
    "Instructions\n",
    "##### 1. We are building a music streaming service. We have provided two lists, representing songs in a user’s library and the amount of times each song has been played.\n",
    "\n",
    "Using a list comprehension, create a dictionary called plays that goes through zip(songs, playcounts) and creates a song:playcount pair for each song in songs and each playcount in playcounts.\n",
    "\n",
    "\n",
    "<b>Hint</b><br>\n",
    "To create a dictionary from a list comprehension use this syntax:\n",
    "\n",
    "new_dict = {key:value for key, value in zip(key_list, value_list)}\n",
    "\n",
    "\n",
    "##### 2. Print plays.\n",
    "\n",
    "##### 3. After printing plays, add a new entry to it. The entry should be for the song \"Purple Haze\" and the playcount is 1.\n",
    "\n",
    "##### 4. This user has caught Aretha Franklin fever and listened to “Respect” 5 more times. Update the value for \"Respect\" to be 94 in the plays dictionary.\n",
    "\n",
    "##### 5. Create a dictionary called library that has two key: value pairs:\n",
    "\n",
    "- key \"The Best Songs\" with a value of plays, the dictionary you created\n",
    "- key \"Sunday Feelings\" with a value of an empty dictionary\n",
    "#### 6. Print library."
   ]
  },
  {
   "cell_type": "code",
   "execution_count": null,
   "metadata": {},
   "outputs": [],
   "source": [
    "songs = [\"Like a Rolling Stone\", \"Satisfaction\", \"Imagine\", \"What's Going On\", \"Respect\", \"Good Vibrations\"]\n",
    "playcounts = [78, 29, 44, 21, 89, 5]\n",
    "\n",
    "plays = {song:playcount for song, playcount in zip(songs, playcounts)}\n",
    "\n",
    "print(plays)\n",
    "\n",
    "plays[\"Purple Haze\"] = 1\n",
    "\n",
    "plays[\"Respect\"] = 94\n",
    "\n",
    "library = {\"The Best Songs\": plays, \"Sunday Feelings\": {}}\n",
    "\n",
    "print(library)"
   ]
  }
 ],
 "metadata": {
  "interpreter": {
   "hash": "85047f2b0679bf22ef06a9dadc4440578c347e570245020debc97e919b79cb32"
  },
  "kernelspec": {
   "display_name": "Python 3.10.0 64-bit ('.venv': venv)",
   "language": "python",
   "name": "python3"
  },
  "language_info": {
   "name": "python",
   "version": "3.10.0"
  },
  "orig_nbformat": 4
 },
 "nbformat": 4,
 "nbformat_minor": 2
}
