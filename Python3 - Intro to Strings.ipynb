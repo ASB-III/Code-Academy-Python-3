{
 "cells": [
  {
   "cell_type": "markdown",
   "metadata": {},
   "source": [
    "# Introduction to Strings\n",
    "\n",
    "Words and sentences are fundamental to how we communicate, so it follows that we’d want our computers to be able to work with words and sentences as well.\n",
    "\n",
    "In Python, the way we store something like a word, a sentence, or even a whole paragraph is as a string. A string is a sequence of characters contained within a pair of 'single quotes' or \"double quotes\". A string can be any length and can contain any letters, numbers, symbols, and spaces.\n",
    "\n",
    "In this lesson, we will learn more about strings and how they are treated in Python. We will learn how to slice strings, select specific characters from strings, search strings for characters, iterate through strings, and use strings in conditional statements.\n",
    "\n",
    "Let’s get started."
   ]
  },
  {
   "cell_type": "markdown",
   "metadata": {},
   "source": [
    "## Instructions\n",
    "1. Save your favorite word as a string to the variable favorite_word.\n",
    "\n",
    "Hint\n",
    "Strings are written inside either single quotes ' ' or double quotes \" \". Just be sure they match!\n",
    "\n",
    "print(string_name)\n",
    "Notice how the quotes don’t appear in the output terminal."
   ]
  },
  {
   "cell_type": "code",
   "execution_count": null,
   "metadata": {},
   "outputs": [],
   "source": [
    "#Valid string using double quotes\n",
    "favorite_word = \"coding\"\n",
    "\n",
    "#Also valid string using single quotes\n",
    "favorite_word = 'coding'"
   ]
  },
  {
   "cell_type": "markdown",
   "metadata": {},
   "source": [
    "2. Print favorite_word.\n",
    "\n",
    "Hint\n",
    "It should look something like:"
   ]
  },
  {
   "cell_type": "code",
   "execution_count": null,
   "metadata": {},
   "outputs": [],
   "source": [
    "print(string_name)"
   ]
  },
  {
   "cell_type": "markdown",
   "metadata": {},
   "source": [
    "Notice how the quotes don’t appear in the output terminal."
   ]
  },
  {
   "cell_type": "code",
   "execution_count": null,
   "metadata": {},
   "outputs": [],
   "source": [
    "favorite_word = 'coding'\n",
    "print(favorite_word)"
   ]
  },
  {
   "cell_type": "markdown",
   "metadata": {},
   "source": [
    "# They're all Lists!\n",
    "A string can be thought of as a list of characters.\n",
    "\n",
    "Like any other list, each character in a string has an index. Consider the string:"
   ]
  },
  {
   "cell_type": "code",
   "execution_count": null,
   "metadata": {},
   "outputs": [],
   "source": [
    "favorite_fruit = \"blueberry\""
   ]
  },
  {
   "cell_type": "markdown",
   "metadata": {},
   "source": [
    "We can select specific letters from this string using the index. Let’s look at the first letter of the string."
   ]
  },
  {
   "cell_type": "code",
   "execution_count": null,
   "metadata": {},
   "outputs": [],
   "source": [
    "print(favorite_fruit[1])\n",
    "# Output: l"
   ]
  },
  {
   "cell_type": "markdown",
   "metadata": {},
   "source": [
    "Whoops, is that the first letter you expected? Notice that the letter at index 1 of \"blueberry\" isn’t b, it’s l. This is because the indices of a string start at 0. b is located at the zero index and we could select it using:"
   ]
  },
  {
   "cell_type": "code",
   "execution_count": null,
   "metadata": {},
   "outputs": [],
   "source": [
    "print(favorite_fruit[0])\n",
    "# Output: b"
   ]
  },
  {
   "cell_type": "markdown",
   "metadata": {},
   "source": [
    "It’s important to note that indices of strings must be integers. If we were to try to select a non-integer index we would get a TypeError.\n",
    "\n",
    "For example:"
   ]
  },
  {
   "cell_type": "code",
   "execution_count": null,
   "metadata": {},
   "outputs": [],
   "source": [
    "print(favorite_fruit[1.5])"
   ]
  },
  {
   "cell_type": "markdown",
   "metadata": {},
   "source": [
    "Traceback (most recent call last):\n",
    "File \"script.py\", line 3, in <module>\n",
    "print(favorite_fruit[1.5])\n",
    "TypeError: string indices must be integers"
   ]
  },
  {
   "cell_type": "markdown",
   "metadata": {},
   "source": [
    "1. One of the most common things that are represented by strings is names.\n",
    "\n",
    "Save your name as a string to the variable my_name.\n",
    "\n",
    "Remember, the string can include more than one word:"
   ]
  },
  {
   "cell_type": "code",
   "execution_count": null,
   "metadata": {},
   "outputs": [],
   "source": [
    "my_name = \"Python Person\""
   ]
  },
  {
   "cell_type": "markdown",
   "metadata": {},
   "source": [
    "2. Select the first letter of the variable my_name and save it to first_initial.\n",
    "\n",
    "\n",
    "Hint\n",
    "The first character of a string is at index 0:"
   ]
  },
  {
   "cell_type": "code",
   "execution_count": null,
   "metadata": {},
   "outputs": [],
   "source": [
    "first_initial = my_name[0]"
   ]
  },
  {
   "cell_type": "code",
   "execution_count": null,
   "metadata": {},
   "outputs": [],
   "source": [
    "my_name = 'Albert'\n",
    "first_initial = my_name[0]"
   ]
  },
  {
   "cell_type": "markdown",
   "metadata": {},
   "source": [
    "## Cut Me a Slice of String\n",
    "Not only can we select a single character from a string, but we can also select entire chunks of characters from a string. We can do this with the following syntax:\n",
    "\n",
    "string[first_index:last_index]\n",
    "This is called slicing a string. When we slice a string we are creating a brand new string that starts at (and includes) the first_index and ends at (but excludes) the last_index.\n",
    "\n",
    "Let’s look at some examples of this. Recall our favorite fruit:"
   ]
  },
  {
   "cell_type": "code",
   "execution_count": null,
   "metadata": {},
   "outputs": [],
   "source": [
    "favorite_fruit = \"blueberry\""
   ]
  },
  {
   "cell_type": "markdown",
   "metadata": {},
   "source": [
    "The indices of this string are shown in the diagram below.\n",
    "\n",
    "Blueberry String\n",
    "\n",
    "Let’s say we wanted a new string that contains the letters be. We could slice favorite_fruit as follows:"
   ]
  },
  {
   "cell_type": "code",
   "execution_count": null,
   "metadata": {},
   "outputs": [],
   "source": [
    "print(favorite_fruit[4:6])\n",
    "# Output: be"
   ]
  },
  {
   "cell_type": "markdown",
   "metadata": {},
   "source": [
    "Notice how the character at the first index, b, is included, but the character at the last index, r, is excluded. If you look for the indices 4 and 6 in the diagram, you can see how the r is outside that range.\n",
    "\n",
    "We can also have open-ended selections. If we remove the first index, the slice starts at the beginning of the string and if we remove the second index the slice continues to the end of the string."
   ]
  },
  {
   "cell_type": "code",
   "execution_count": null,
   "metadata": {},
   "outputs": [],
   "source": [
    "print(favorite_fruit[:4])\n",
    "# Output: blue\n",
    " \n",
    "print (favorite_fruit[4:])\n",
    "# Output: berry"
   ]
  },
  {
   "cell_type": "markdown",
   "metadata": {},
   "source": [
    "Again, notice how the b from berry is excluded from the first example and included in the second example."
   ]
  },
  {
   "cell_type": "markdown",
   "metadata": {},
   "source": [
    "1. You’re a programmer working for Copeland’s Corporate Company. At this company, each employee’s user name is generated by taking the first five letters of their last name.\n",
    "\n",
    "A new employee, Rodrigo Villanueva, is starting today and you need to create his account. His first_name and last_name are stored as strings in script.py.\n",
    "\n",
    "Create a variable new_account by slicing the first five letters of his last_name."
   ]
  },
  {
   "cell_type": "code",
   "execution_count": null,
   "metadata": {},
   "outputs": [],
   "source": [
    "#It should look something like:\n",
    "\n",
    "new_account = last_name[:5]"
   ]
  },
  {
   "cell_type": "markdown",
   "metadata": {},
   "source": [
    "2. Temporary passwords for new employees are also generated from their last names.\n",
    "\n",
    "Create a variable called temp_password by creating a slice out of the third through sixth letters of last_name. Your string should have a total of 4 characters."
   ]
  },
  {
   "cell_type": "code",
   "execution_count": null,
   "metadata": {},
   "outputs": [],
   "source": [
    "#Remember, because indices start at 0, to get the third through sixth characters of a string you would want to use\n",
    "\n",
    "string_name[2:6]"
   ]
  },
  {
   "cell_type": "code",
   "execution_count": null,
   "metadata": {},
   "outputs": [],
   "source": [
    "first_name = \"Rodrigo\"\n",
    "last_name = \"Villanueva\"\n",
    "\n",
    "new_account = (last_name[:5])\n",
    "\n",
    "temp_password = (last_name[2:6])"
   ]
  },
  {
   "cell_type": "markdown",
   "metadata": {},
   "source": [
    "## Concatenating Strings\n",
    "We can also concatenate, or combine, two existing strings together into a new string. Consider the following two strings:"
   ]
  },
  {
   "cell_type": "code",
   "execution_count": null,
   "metadata": {},
   "outputs": [],
   "source": [
    "fruit_prefix = \"blue\"\n",
    "fruit_suffix = \"berries\""
   ]
  },
  {
   "cell_type": "markdown",
   "metadata": {},
   "source": [
    "We can create a new string by concatenating them together as follows:"
   ]
  },
  {
   "cell_type": "code",
   "execution_count": null,
   "metadata": {},
   "outputs": [],
   "source": [
    "favorite_fruit = fruit_prefix + fruit_suffix\n",
    " \n",
    "print(favorite_fruit)\n",
    "# Output: blueberries"
   ]
  },
  {
   "cell_type": "markdown",
   "metadata": {},
   "source": [
    "Notice that there are no spaces added here. We have to manually add in the spaces when concatenating strings if we want to include them."
   ]
  },
  {
   "cell_type": "code",
   "execution_count": null,
   "metadata": {},
   "outputs": [],
   "source": [
    "fruit_sentence = \"My favorite fruit is\" + favorite_fruit\n",
    " \n",
    "print(fruit_sentence)\n",
    "# Output: My favorite fruit isblueberries\n",
    " \n",
    "fruit_sentence = \"My favorite fruit is \" + favorite_fruit\n",
    " \n",
    "print(fruit_sentence)\n",
    "# Output: My favorite fruit is blueberries"
   ]
  },
  {
   "cell_type": "markdown",
   "metadata": {},
   "source": [
    "It’s subtle, but notice that in the first example, there is no space between “is” and “blueberries”."
   ]
  },
  {
   "cell_type": "markdown",
   "metadata": {},
   "source": [
    "1.\n",
    "Copeland’s Corporate Company has realized that their policy of using the first five letters of an employee’s last name as a user name isn’t ideal when they have multiple employees with the same last name.\n",
    "\n",
    "Write a function called account_generator() that takes two inputs, first_name and last_name and concatenates the first three letters of each and then returns the new account name."
   ]
  },
  {
   "cell_type": "code",
   "execution_count": null,
   "metadata": {},
   "outputs": [],
   "source": [
    "#Remember, a new function can be defined using:\n",
    "\n",
    "def function_name(parameter):\n",
    "  # Code goes here"
   ]
  },
  {
   "cell_type": "markdown",
   "metadata": {},
   "source": [
    "2. Test your function on the first_name and last_name provided in script.py and save it to the variable new_account."
   ]
  },
  {
   "cell_type": "code",
   "execution_count": null,
   "metadata": {},
   "outputs": [],
   "source": [
    "first_name = \"Julie\"\n",
    "last_name = \"Blevins\"\n",
    "\n",
    "def account_generator(first_name, last_name):\n",
    "  account_name = first_name[:3] + last_name[:3]\n",
    "  return account_name\n",
    "\n",
    "new_account = account_generator(first_name, last_name)\n",
    "\n",
    "print(new_account)"
   ]
  },
  {
   "cell_type": "markdown",
   "metadata": {},
   "source": [
    "## More and More String Slicing (How Long is that String?)\n",
    "Python comes with some built-in functions for working with strings. One of the most commonly used of these functions is len(). len() returns the number of characters in a string:"
   ]
  },
  {
   "cell_type": "code",
   "execution_count": null,
   "metadata": {},
   "outputs": [],
   "source": [
    "favorite_fruit = \"blueberry\"\n",
    " \n",
    "length = len(favorite_fruit)\n",
    " \n",
    "print(length)\n",
    "# Output: 9"
   ]
  },
  {
   "cell_type": "markdown",
   "metadata": {},
   "source": [
    "If you are taking the length of a sentence the spaces are counted as well."
   ]
  },
  {
   "cell_type": "code",
   "execution_count": null,
   "metadata": {},
   "outputs": [],
   "source": [
    "fruit_sentence = \"I love blueberries\"\n",
    " \n",
    "print(len(fruit_sentence))\n",
    "# Output: 18"
   ]
  },
  {
   "cell_type": "markdown",
   "metadata": {},
   "source": [
    "len() comes in handy when we are trying to select characters from the end of a string. What is the index of the last character,\"y\", of favorite_fruit from above? You can try to run the following code:"
   ]
  },
  {
   "cell_type": "code",
   "execution_count": null,
   "metadata": {},
   "outputs": [],
   "source": [
    "last_char = favorite_fruit[len(favorite_fruit)]\n",
    " \n",
    "print(last_char)"
   ]
  },
  {
   "cell_type": "markdown",
   "metadata": {},
   "source": [
    "This will result in:\n",
    "\n",
    "\"IndexError: string index out of range\"\n",
    "\n",
    "Why does this generate an IndexError? Because the indices start at 0, so the final character in favorite_fruit has an index of 8. len(favorite_fruit) returns 9 and, because there is no value at that index, an IndexError occurs.\n",
    "\n",
    "Instead, the last character in a string has an index that is len(string_name) - 1."
   ]
  },
  {
   "cell_type": "code",
   "execution_count": null,
   "metadata": {},
   "outputs": [],
   "source": [
    "last_char = favorite_fruit[len(favorite_fruit)-1]\n",
    " \n",
    "print(last_char)\n",
    "# Output: y"
   ]
  },
  {
   "cell_type": "markdown",
   "metadata": {},
   "source": [
    "You could also slice the last several characters of a string using len():"
   ]
  },
  {
   "cell_type": "code",
   "execution_count": null,
   "metadata": {},
   "outputs": [],
   "source": [
    "length = len(favorite_fruit)\n",
    "last_chars = favorite_fruit[length-4:]\n",
    "print(last_chars)\n",
    "# Output: erry"
   ]
  },
  {
   "cell_type": "markdown",
   "metadata": {},
   "source": [
    "Using a len() statement as the starting index and omitting the final index lets you slice n characters from the end of a string, where n is the amount you subtract from len()."
   ]
  },
  {
   "cell_type": "markdown",
   "metadata": {},
   "source": [
    "1.\n",
    "Copeland’s Corporate Company also wants to update how they generate temporary passwords for new employees.\n",
    "\n",
    "Write a function called password_generator() that takes two inputs, first_name and last_name, and then concatenates the last three letters of each and returns them as a string."
   ]
  },
  {
   "cell_type": "code",
   "execution_count": null,
   "metadata": {},
   "outputs": [],
   "source": [
    "#If we wanted to find the last three letters of a string, we could use len:\n",
    "\n",
    "last_three_letters = string_name[len(string_name)-3:]"
   ]
  },
  {
   "cell_type": "markdown",
   "metadata": {},
   "source": [
    "2. Test your function on the provided first_name and last_name and save it to the variable temp_password."
   ]
  },
  {
   "cell_type": "code",
   "execution_count": null,
   "metadata": {},
   "outputs": [],
   "source": [
    "first_name = \"Reiko\"\n",
    "last_name = \"Matsuki\"\n",
    "\n",
    "def password_generator(first_name, last_name):\n",
    "  temp_password = first_name[len(first_name)-3:] + last_name[len(last_name)-3:]\n",
    "  return temp_password\n",
    "\n",
    "temp_password = password_generator(first_name, last_name)"
   ]
  },
  {
   "cell_type": "markdown",
   "metadata": {},
   "source": [
    "## Negative Indices\n",
    "In the previous exercise, we used len() to get a slice of characters at the end of a string.\n",
    "\n",
    "There’s a much easier way to do this — we can use negative indices! Negative indices count backward from the end of the string, so string_name[-1] is the last character of the string, string_name[-2] is the second last character of the string, etc.\n",
    "\n",
    "Here are some examples:"
   ]
  },
  {
   "cell_type": "code",
   "execution_count": null,
   "metadata": {},
   "outputs": [],
   "source": [
    "favorite_fruit = 'blueberry'\n",
    "print(favorite_fruit[-1])\n",
    "# => 'y'\n",
    " \n",
    "print(favorite_fruit[-2])\n",
    "# => 'r'\n",
    " \n",
    "print(favorite_fruit[-3:])\n",
    "# => 'rry'"
   ]
  },
  {
   "cell_type": "markdown",
   "metadata": {},
   "source": [
    "Notice that we are able to slice the last three characters of ‘blueberry’ by having a starting index of -3 and omitting a final index."
   ]
  },
  {
   "cell_type": "markdown",
   "metadata": {},
   "source": [
    "1. Use negative indices to find the second to last character in company_motto. Save this to the variable second_to_last.\n",
    "\n",
    "\n",
    "2. Use negative indices to create a slice of the last 4 characters in company_motto. Save this to the variable final_word."
   ]
  },
  {
   "cell_type": "code",
   "execution_count": null,
   "metadata": {},
   "outputs": [],
   "source": [
    "company_motto = \"Copeland's Corporate Company helps you capably cope with the constant cacophony of daily life\"\n",
    "\n",
    "second_to_last = company_motto[-2]\n",
    "\n",
    "final_word = company_motto[-4:]"
   ]
  },
  {
   "cell_type": "markdown",
   "metadata": {},
   "source": [
    "## Strings are Immutable\n",
    "So far in this lesson, we’ve been selecting characters from strings, slicing strings, and concatenating strings. Each time we perform one of these operations we are creating an entirely new string.\n",
    "\n",
    "This is because strings are immutable. This means that we cannot change a string once it is created. We can use it to create other strings, but we cannot change the string itself.\n",
    "\n",
    "This property, generally, is known as mutability. Data types that are mutable can be changed, and data types, like strings, that are immutable cannot be changed."
   ]
  },
  {
   "cell_type": "markdown",
   "metadata": {},
   "source": [
    "Instructions\n",
    "\n",
    "1. The most recent hire at Copeland’s Corporate Company is a fellow named Rob Daily. Unfortunately, Human Resources seem to have made a bit of a typo and sent over the wrong first_name.\n",
    "\n",
    "Try changing the first character of first_name by running\n",
    "\n",
    "first_name[0] = \"R\""
   ]
  },
  {
   "cell_type": "markdown",
   "metadata": {},
   "source": [
    "2. Oh right! Strings are immutable, so we can’t change an individual character. Okay that’s no problem—we can still fix this!\n",
    "\n",
    "Delete the code you just wrote for step 1.\n",
    "\n",
    "Then, concatenate the string \"R\" with a slice of first_name that includes everything but the first character, \"B\", and save it to a new string fixed_first_name."
   ]
  },
  {
   "cell_type": "code",
   "execution_count": null,
   "metadata": {},
   "outputs": [],
   "source": [
    "\n",
    "first_name = \"Bob\"\n",
    "last_name = \"Daily\"\n",
    "\n",
    "fixed_first_name = \"R\" + first_name[1:]"
   ]
  },
  {
   "cell_type": "markdown",
   "metadata": {},
   "source": [
    "## Escape Characters\n",
    "Occasionally when working with strings, you’ll find that you want to include characters that already have a special meaning in python. For example let’s say I create the string"
   ]
  },
  {
   "cell_type": "code",
   "execution_count": null,
   "metadata": {},
   "outputs": [],
   "source": [
    "favorite_fruit_conversation = \"He said, \"blueberries are my favorite!\"\""
   ]
  },
  {
   "cell_type": "markdown",
   "metadata": {},
   "source": [
    "We’ll have accidentally ended the string before we wanted to by including the \" character. The way we can do this is by introducing escape characters. By adding a backslash in front of the special character we want to escape, \\\", we can include it in a string."
   ]
  },
  {
   "cell_type": "code",
   "execution_count": null,
   "metadata": {},
   "outputs": [],
   "source": [
    "favorite_fruit_conversation = \"He said, \\\"blueberries are my favorite!\\\"\""
   ]
  },
  {
   "cell_type": "markdown",
   "metadata": {},
   "source": [
    "1. When Rob Daily (remember him? From the last exercise?) set up his account he set his password to be\n",
    "\n",
    "theycallme\"crazy\"91\n",
    "His password was causing some errors in the system because of the \" marks. Rewrite his password using escape characters and save it to the variable password."
   ]
  },
  {
   "cell_type": "code",
   "execution_count": null,
   "metadata": {},
   "outputs": [],
   "source": [
    "password = \"theycallme\\\"crazy\\\"91\""
   ]
  },
  {
   "cell_type": "markdown",
   "metadata": {},
   "source": [
    "## Iterating through Strings\n",
    "Now you know enough about strings that we can start doing the really fun stuff!\n",
    "\n",
    "Because strings are lists, that means we can iterate through a string using for or while loops. This opens up a whole range of possibilities of ways we can manipulate and analyze strings. Let’s take a look at an example."
   ]
  },
  {
   "cell_type": "code",
   "execution_count": null,
   "metadata": {},
   "outputs": [],
   "source": [
    "def print_each_letter(word):\n",
    "  for letter in word:\n",
    "    print(letter)"
   ]
  },
  {
   "cell_type": "markdown",
   "metadata": {},
   "source": [
    "This code will iterate through each letter in a given word and will print it to the terminal."
   ]
  },
  {
   "cell_type": "code",
   "execution_count": null,
   "metadata": {},
   "outputs": [],
   "source": [
    "favorite_color = \"blue\"\n",
    "print_each_letter(favorite_color)\n",
    "# => 'b'\n",
    "# => 'l'\n",
    "# => 'u'\n",
    "# => 'e'"
   ]
  },
  {
   "cell_type": "markdown",
   "metadata": {},
   "source": [
    "Let’s try a couple of problems where we need to iterate through a string."
   ]
  },
  {
   "cell_type": "markdown",
   "metadata": {},
   "source": [
    "1.\n",
    "Let’s replicate a function you are already familiar with, len().\n",
    "\n",
    "Write a new function called get_length() that takes a string as an input and returns the number of characters in that string. Do this by iterating through the string, don’t cheat and use len()!\n",
    "\n",
    "\n",
    "Hint\n",
    "Using a counter variable and a for loop is a great way to count things. For example look at the following code:"
   ]
  },
  {
   "cell_type": "code",
   "execution_count": null,
   "metadata": {},
   "outputs": [],
   "source": [
    "counter = 0\n",
    "for something in something_else:\n",
    "  counter += 1"
   ]
  },
  {
   "cell_type": "code",
   "execution_count": null,
   "metadata": {},
   "outputs": [],
   "source": [
    "def get_length(word):\n",
    "  counter = 0\n",
    "  for letter in word:\n",
    "    counter += 1\n",
    "  return counter"
   ]
  },
  {
   "cell_type": "markdown",
   "metadata": {},
   "source": [
    "## Strings and Conditionals (Part One)\n",
    "Now that we are iterating through strings, we can really explore the potential of strings. When we iterate through a string we do something with each character. By including conditional statements inside of these iterations, we can start to do some really cool stuff.\n",
    "\n",
    "Take a look at the following code:"
   ]
  },
  {
   "cell_type": "code",
   "execution_count": null,
   "metadata": {},
   "outputs": [],
   "source": [
    "favorite_fruit = \"blueberry\"\n",
    "counter = 0\n",
    "for character in favorite_fruit:\n",
    "  if character == \"b\":\n",
    "    counter = counter + 1\n",
    "print(counter)"
   ]
  },
  {
   "cell_type": "markdown",
   "metadata": {},
   "source": [
    "This code will count the number of bs in the string “blueberry” (hint: it’s two). Let’s take a moment and break down what exactly this code is doing.\n",
    "\n",
    "First, we define our string, favorite_fruit, and a variable called counter, which we set equal to zero. Then the for loop will iterate through each character in favorite_fruit and compare it to the letter b.\n",
    "\n",
    "Each time a character equals b the code will increase the variable counter by one. Then, once all characters have been checked, the code will print the counter, telling us how many bs were in “blueberry”. This is a great example of how iterating through a string can be used to solve a specific application, in this case counting a certain letter in a word."
   ]
  },
  {
   "cell_type": "markdown",
   "metadata": {},
   "source": [
    "1. Write a function called letter_check that takes two inputs, word and letter.\n",
    "\n",
    "This function should return True if the word contains the letter and False if it does not."
   ]
  },
  {
   "cell_type": "markdown",
   "metadata": {},
   "source": [
    "Make sure to test your function!\n",
    "Try running\n",
    "\n",
    "letter_check(\"strawberry\", \"a\")\n",
    "and\n",
    "letter_check(\"strawberry\", \"o\")\n",
    "\n",
    "What do you expect the function to return when you run these? What does it return?"
   ]
  },
  {
   "cell_type": "code",
   "execution_count": null,
   "metadata": {},
   "outputs": [],
   "source": [
    "def letter_check(word, letter):\n",
    "  for character in word:\n",
    "    if character == letter:\n",
    "      return True\n",
    "  return False"
   ]
  },
  {
   "cell_type": "markdown",
   "metadata": {},
   "source": [
    "## Strings and Conditionals (Part Two)\n",
    "There’s an even easier way than iterating through the entire string to determine if a character is in a string. We can do this type of check more efficiently using in. in checks if one string is part of another string.\n",
    "\n",
    "Here is what the syntax of in looks like:"
   ]
  },
  {
   "cell_type": "code",
   "execution_count": null,
   "metadata": {},
   "outputs": [],
   "source": [
    "letter in word"
   ]
  },
  {
   "cell_type": "markdown",
   "metadata": {},
   "source": [
    "Here, letter in word is a boolean expression that is True if the string letter is in the string word. Here are some examples:"
   ]
  },
  {
   "cell_type": "code",
   "execution_count": null,
   "metadata": {},
   "outputs": [],
   "source": [
    "print(\"e\" in \"blueberry\")\n",
    "# => True\n",
    "print(\"a\" in \"blueberry\")\n",
    "# => False"
   ]
  },
  {
   "cell_type": "markdown",
   "metadata": {},
   "source": [
    "In fact, this method is more powerful than the function you wrote in the last exercise because it not only works with letters, but with entire strings as well."
   ]
  },
  {
   "cell_type": "code",
   "execution_count": null,
   "metadata": {},
   "outputs": [],
   "source": [
    "print(\"blue\" in \"blueberry\")\n",
    "# => True\n",
    "print(\"blue\" in \"strawberry\")\n",
    "# => False"
   ]
  },
  {
   "cell_type": "markdown",
   "metadata": {},
   "source": [
    "1. Write a function called contains that takes two arguments, big_string and little_string and returns True if big_string contains little_string.\n",
    "\n",
    "For example contains(\"watermelon\", \"melon\") should return True and contains(\"watermelon\", \"berry\") should return False."
   ]
  },
  {
   "cell_type": "code",
   "execution_count": null,
   "metadata": {},
   "outputs": [],
   "source": [
    "def contains(big_string, little_string):\n",
    "  return little_string in big_string"
   ]
  },
  {
   "cell_type": "markdown",
   "metadata": {},
   "source": [
    "2. Write a function called common_letters that takes two arguments, string_one and string_two and then returns a list with all of the letters they have in common.\n",
    "\n",
    "The letters in the returned list should be unique. For example,\n",
    "\n",
    "common_letters(\"banana\", \"cream\")\n",
    "should return ['a'].\n",
    "\n",
    "\n",
    "Hint\n",
    ".append() will be useful in adding the shared letters to the list you will eventually return.\n",
    "\n",
    "Also, make sure to test your function!"
   ]
  },
  {
   "cell_type": "code",
   "execution_count": null,
   "metadata": {},
   "outputs": [],
   "source": [
    "def common_letters(string_one, string_two):\n",
    "    common = []\n",
    "    for letter in string_one:\n",
    "        if(letter in straight_two) and not (letter in common):\n",
    "            common.append(letter)\n",
    "        return common"
   ]
  },
  {
   "cell_type": "markdown",
   "metadata": {},
   "source": [
    "## Review\n",
    "Great work! I hope you are now starting to see the potential of strings and how they can be used to solve a huge variety of problems.\n",
    "\n",
    "In this lesson you learned:\n",
    "\n",
    "- A string is a list of characters.\n",
    "- A character can be selected from a string using its index string_name[index]. These indices start at 0.\n",
    "- A ‘slice’ can be selected from a string. These can be between two indices or can be open-ended, selecting all of the string from a point.\n",
    "- Strings can be concatenated to make larger strings.\n",
    "- len() can be used to determine the number of characters in a string.\n",
    "- Strings can be iterated through using for loops.\n",
    "- Iterating through strings opens up a huge potential for applications, especially when combined with conditional statements.\n",
    "\n",
    "Let’s put your new skills to the test!"
   ]
  },
  {
   "cell_type": "markdown",
   "metadata": {},
   "source": [
    "1. Copeland’s Corporate Company has finalized what they want their username and temporary password creation to be and have enlisted your help, once again, to build the function to generate them. In this exercise, you will create two functions, username_generator and password_generator.\n",
    "<br>\n",
    "Let’s start with username_generator. Create a function called username_generator take two inputs, first_name and last_name and returns a username. The username should be a slice of the first three letters of their first name and the first four letters of their last name. If their first name is less than three letters or their last name is less than four letters it should use their entire names.\n",
    "<br>\n",
    "For example, if the employee’s name is Abe Simpson the function should generate the username AbeSimp.\n",
    "<br>\n",
    "<br>\n",
    "2. Great work! Now for the temporary password, they want the function to take the input user name and shift all of the letters by one to the right, so the last letter of the username ends up as the first letter and so forth. For example, if the username is AbeSimp, then the temporary password generated should be pAbeSim.\n",
    "<br>\n",
    "Start by defining the function password_generator so that it takes one input, username and in it define an empty string named password.\n",
    "<br>\n",
    "<br>\n",
    "3. Inside password_generator create a for loop that iterates through the indices username by going from 0 to len(username).\n",
    "<br>\n",
    "To shift the letters right, at each letter the for loop should add the previous letter to the string password.\n",
    "<br>\n",
    "Hint\n",
    "Remember, you can use range(x,y) to generate a list of values between x and y (including x and excluding y). This is how you should iterate through the username."
   ]
  },
  {
   "cell_type": "code",
   "execution_count": null,
   "metadata": {},
   "outputs": [],
   "source": [
    "def username_generator(first_name, last_name):\n",
    "  if len(first_name) < 3:\n",
    "    user_name = first_name\n",
    "  else:\n",
    "    user_name = first_name[0:3]\n",
    "  if len(last_name) < 4:\n",
    "    user_name += last_name\n",
    "  else:\n",
    "    user_name += last_name[0:4]\n",
    "  return user_name\n",
    "\n",
    "def password_generator(user_name):\n",
    "  password = \"\"\n",
    "  for i in range(0, len(user_name)):\n",
    "    password += user_name[i-1]\n",
    "  return password\n"
   ]
  }
 ],
 "metadata": {
  "interpreter": {
   "hash": "85047f2b0679bf22ef06a9dadc4440578c347e570245020debc97e919b79cb32"
  },
  "kernelspec": {
   "display_name": "Python 3.10.0 64-bit ('.venv': venv)",
   "language": "python",
   "name": "python3"
  },
  "language_info": {
   "codemirror_mode": {
    "name": "ipython",
    "version": 3
   },
   "file_extension": ".py",
   "mimetype": "text/x-python",
   "name": "python",
   "nbconvert_exporter": "python",
   "pygments_lexer": "ipython3",
   "version": "3.10.0"
  },
  "orig_nbformat": 4
 },
 "nbformat": 4,
 "nbformat_minor": 2
}
