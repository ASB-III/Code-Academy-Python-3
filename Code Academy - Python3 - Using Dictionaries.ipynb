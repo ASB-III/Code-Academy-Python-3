{
 "cells": [
  {
   "cell_type": "markdown",
   "metadata": {},
   "source": [
    "# Using Dictionaries\n",
    "Now that we know how to create a dictionary, we can start using already created dictionaries to solve problems.\n",
    "\n",
    "In this lesson, you’ll learn how to:\n",
    "\n",
    "Use a key to get a value from a dictionary\n",
    "Check for existence of keys\n",
    "Iterate through keys and values in dictionaries"
   ]
  },
  {
   "cell_type": "markdown",
   "metadata": {},
   "source": [
    "## Get A Key\n",
    "Once you have a dictionary, you can access the values in it by providing the key. For example, let’s imagine we have a dictionary that maps buildings to their heights, in meters:"
   ]
  },
  {
   "cell_type": "code",
   "execution_count": null,
   "metadata": {},
   "outputs": [],
   "source": [
    "building_heights = {\"Burj Khalifa\": 828, \"Shanghai Tower\": 632, \"Abraj Al Bait\": 601, \"Ping An\": 599, \"Lotte World Tower\": 554.5, \"One World Trade\": 541.3}"
   ]
  },
  {
   "cell_type": "markdown",
   "metadata": {},
   "source": [
    "Then we can access the data in it like this:"
   ]
  },
  {
   "cell_type": "code",
   "execution_count": null,
   "metadata": {},
   "outputs": [],
   "source": [
    ">>> building_heights[\"Burj Khalifa\"]\n",
    "828\n",
    ">>> building_heights[\"Ping An\"]\n",
    "599"
   ]
  },
  {
   "cell_type": "markdown",
   "metadata": {},
   "source": [
    "##### 1. We have provided a dictionary that maps the elements of astrology to the zodiac signs. Print out the list of zodiac signs associated with the \"earth\" element.\n",
    "\n",
    "##### 2. Print out the list of the \"fire\" signs."
   ]
  },
  {
   "cell_type": "code",
   "execution_count": null,
   "metadata": {},
   "outputs": [],
   "source": [
    "zodiac_elements = {\"water\": [\"Cancer\", \"Scorpio\", \"Pisces\"], \"fire\": [\"Aries\", \"Leo\", \"Sagittarius\"], \"earth\": [\"Taurus\", \"Virgo\", \"Capricorn\"], \"air\":[\"Gemini\", \"Libra\", \"Aquarius\"]}\n",
    "\n",
    "print(zodiac_elements[\"earth\"])\n",
    "print(zodiac_elements[\"fire\"])"
   ]
  },
  {
   "cell_type": "markdown",
   "metadata": {},
   "source": [
    "## Get an Invalid Key\n",
    "Let’s say we have our dictionary of building heights from the last exercise:"
   ]
  },
  {
   "cell_type": "code",
   "execution_count": null,
   "metadata": {},
   "outputs": [],
   "source": [
    "building_heights = {\"Burj Khalifa\": 828, \"Shanghai Tower\": 632, \"Abraj Al Bait\": 601, \"Ping An\": 599, \"Lotte World Tower\": 554.5, \"One World Trade\": 541.3}"
   ]
  },
  {
   "cell_type": "markdown",
   "metadata": {},
   "source": [
    "What if we wanted to know the height of the Landmark 81 in Ho Chi Minh City? We could try:"
   ]
  },
  {
   "cell_type": "code",
   "execution_count": null,
   "metadata": {},
   "outputs": [],
   "source": [
    "print(building_heights[\"Landmark 81\"])"
   ]
  },
  {
   "cell_type": "markdown",
   "metadata": {},
   "source": [
    "But \"Landmark 81\" does not exist as a key in the building_heights dictionary! So this will throw a KeyError:\n",
    "\n",
    "KeyError: 'Landmark 81'"
   ]
  },
  {
   "cell_type": "markdown",
   "metadata": {},
   "source": [
    "One way to avoid this error is to first check if the key exists in the dictionary:"
   ]
  },
  {
   "cell_type": "code",
   "execution_count": null,
   "metadata": {},
   "outputs": [],
   "source": [
    "key_to_check = \"Landmark 81\"\n",
    " \n",
    "if key_to_check in building_heights:\n",
    "  print(building_heights[\"Landmark 81\"])"
   ]
  },
  {
   "cell_type": "markdown",
   "metadata": {},
   "source": [
    "This will not throw an error, because key_to_check in building_heights will return False, and so we never try to access the key."
   ]
  },
  {
   "cell_type": "markdown",
   "metadata": {},
   "source": [
    "Instructions\n",
    "##### 1. Run the code. It should throw a KeyError! \"energy\" does not exist as one of the elements.\n",
    "\n",
    "##### 2. Add the key \"energy\" to the zodiac_elements. It should map to a value of \"Not a Zodiac element\". Run the code. Did this resolve the KeyError?"
   ]
  },
  {
   "cell_type": "code",
   "execution_count": null,
   "metadata": {},
   "outputs": [],
   "source": [
    "zodiac_elements = {\"water\": [\"Cancer\", \"Scorpio\", \"Pisces\"], \"fire\": [\"Aries\", \"Leo\", \"Sagittarius\"], \"earth\": [\"Taurus\", \"Virgo\", \"Capricorn\"], \"air\":[\"Gemini\", \"Libra\", \"Aquarius\"]}\n",
    "\n",
    "zodiac_elements[\"energy\"] = \"Not a Zodiac element\"\n",
    "\n",
    "print(zodiac_elements[\"energy\"])"
   ]
  },
  {
   "cell_type": "markdown",
   "metadata": {},
   "source": [
    "## Try/Except to Get a Key\n",
    "We saw that we can avoid KeyErrors by checking if a key is in a dictionary first. Another method we could use is a try/except:"
   ]
  },
  {
   "cell_type": "code",
   "execution_count": null,
   "metadata": {},
   "outputs": [],
   "source": [
    "key_to_check = \"Landmark 81\"\n",
    "try:\n",
    "  print(building_heights[key_to_check])\n",
    "except KeyError:\n",
    "  print(\"That key doesn't exist!\")\n",
    " "
   ]
  },
  {
   "cell_type": "markdown",
   "metadata": {},
   "source": [
    "When we try to access a key that doesn’t exist, the program will go into the except block and print \"That key doesn't exist!\"."
   ]
  },
  {
   "cell_type": "markdown",
   "metadata": {},
   "source": [
    "##### Instructions\n",
    "1. Use a try block to try to print the caffeine level of \"matcha\". If there is a KeyError, print \"Unknown Caffeine Level\".\n",
    "\n",
    "2. Above the try block, add \"matcha\" to the dictionary with a value of 30."
   ]
  },
  {
   "cell_type": "code",
   "execution_count": null,
   "metadata": {},
   "outputs": [],
   "source": [
    "caffeine_level = {\"espresso\": 64, \"chai\": 40, \"decaf\": 0, \"drip\": 120}\n",
    "\n",
    "caffeine_level[\"matcha\"] = 30\n",
    "\n",
    "key_to_check = \"matcha\"\n",
    "try:\n",
    "  print(caffeine_level[key_to_check])\n",
    "except KeyError:\n",
    "  print(\"Unknown Caffeine Level\")"
   ]
  },
  {
   "cell_type": "markdown",
   "metadata": {},
   "source": [
    "## Safely Get a Key\n",
    "We saw in the last exercise that we had to add a key:value pair to a dictionary in order to avoid a KeyError. This solution is not sustainable. We can’t predict every key a user may call and add all of those placeholder values to our dictionary!\n",
    "\n",
    "Dictionaries have a .get() method to search for a value instead of the my_dict[key] notation we have been using. If the key you are trying to .get() does not exist, it will return None by default:"
   ]
  },
  {
   "cell_type": "code",
   "execution_count": null,
   "metadata": {},
   "outputs": [],
   "source": [
    "building_heights = {\"Burj Khalifa\": 828, \"Shanghai Tower\": 632, \"Abraj Al Bait\": 601, \"Ping An\": 599, \"Lotte World Tower\": 554.5, \"One World Trade\": 541.3}\n",
    " \n",
    "#this line will return 632:\n",
    "building_heights.get(\"Shanghai Tower\")\n",
    " \n",
    "#this line will return None:\n",
    "building_heights.get(\"My House\")"
   ]
  },
  {
   "cell_type": "markdown",
   "metadata": {},
   "source": [
    "You can also specify a value to return if the key doesn’t exist. For example, we might want to return a building height of 0 if our desired building is not in the dictionary:"
   ]
  },
  {
   "cell_type": "code",
   "execution_count": null,
   "metadata": {},
   "outputs": [],
   "source": [
    ">>> building_heights.get('Shanghai Tower', 0)\n",
    "632\n",
    ">>> building_heights.get('Mt Olympus', 0)\n",
    "0\n",
    ">>> building_heights.get('Kilimanjaro', 'No Value')\n",
    "'No Value'"
   ]
  },
  {
   "cell_type": "markdown",
   "metadata": {},
   "source": [
    "##### Instructions\n",
    "1. Use .get() to get the value of \"teraCoder\"‘s user ID, with 100000 as a default value if the user doesn’t exist. Store it in a variable called tc_id. Print tc_id to the console.\n",
    "\n",
    "2. Use .get() to get the value of \"superStackSmash\"‘s user ID, with 100000 as a default value if the user doesn’t exist. Store it in a variable called stack_id. Print stack_id to the console."
   ]
  },
  {
   "cell_type": "code",
   "execution_count": null,
   "metadata": {},
   "outputs": [],
   "source": [
    "user_ids = {\"teraCoder\": 100019, \"pythonGuy\": 182921, \"samTheJavaMaam\": 123112, \"lyleLoop\": 102931, \"keysmithKeith\": 129384}\n",
    "\n",
    "tc_id = user_ids.get('TerraCoder', 100000)\n",
    "print(tc_id)\n",
    "\n",
    "stack_id = user_ids.get('SuperStackSmash', 100000)\n",
    "print(stack_id)"
   ]
  },
  {
   "cell_type": "markdown",
   "metadata": {},
   "source": [
    "## Delete a Key\n",
    "Sometimes we want to get a key and remove it from the dictionary. Imagine we were running a raffle, and we have this dictionary mapping ticket numbers to prizes:"
   ]
  },
  {
   "cell_type": "code",
   "execution_count": null,
   "metadata": {},
   "outputs": [],
   "source": [
    "raffle = {223842: \"Teddy Bear\", 872921: \"Concert Tickets\", 320291: \"Gift Basket\", 412123: \"Necklace\", 298787: \"Pasta Maker\"}"
   ]
  },
  {
   "cell_type": "markdown",
   "metadata": {},
   "source": [
    "When we get a ticket number, we want to return the prize and also remove that pair from the dictionary, since the prize has been given away. We can use .pop() to do this. Just like with .get(), we can provide a default value to return if the key does not exist in the dictionary:"
   ]
  },
  {
   "cell_type": "code",
   "execution_count": null,
   "metadata": {},
   "outputs": [],
   "source": [
    ">>> raffle.pop(320291, \"No Prize\")\n",
    "\"Gift Basket\"\n",
    ">>> raffle\n",
    "{223842: \"Teddy Bear\", 872921: \"Concert Tickets\", 412123: \"Necklace\", 298787: \"Pasta Maker\"}\n",
    ">>> raffle.pop(100000, \"No Prize\")\n",
    "\"No Prize\"\n",
    ">>> raffle\n",
    "{223842: \"Teddy Bear\", 872921: \"Concert Tickets\", 412123: \"Necklace\", 298787: \"Pasta Maker\"}\n",
    ">>> raffle.pop(872921, \"No Prize\")\n",
    "\"Concert Tickets\"\n",
    ">>> raffle\n",
    "{223842: \"Teddy Bear\", 412123: \"Necklace\", 298787: \"Pasta Maker\"}"
   ]
  },
  {
   "cell_type": "markdown",
   "metadata": {},
   "source": [
    ".pop() works to delete items from a dictionary, when you know the key value.\n",
    "\n",
    "##### Instructions\n",
    "1. You are designing the video game Big Rock Adventure. We have provided a dictionary of items that are in the player’s inventory which add points to their health meter.\n",
    " In one line, add the corresponding value of the key \"stamina grains\" to the health_points variable and remove the item \"stamina grains\" from the dictionary. \n",
    " If the key does not exist, add 0 to health_points.\n",
    "\n",
    "\n",
    "2. In one line, add the value of \"power stew\" to health_points and remove the item from the dictionary.\n",
    " If the key does not exist, add 0 to health_points.\n",
    "\n",
    "\n",
    "3. In one line, add the value of \"mystic bread\" to health_points and remove the item from the dictionary.\n",
    " If the key does not exist, add 0 to health_points.\n",
    "\n",
    "\n",
    "4. Print available_items and health_points."
   ]
  },
  {
   "cell_type": "code",
   "execution_count": null,
   "metadata": {},
   "outputs": [],
   "source": [
    "available_items = {\"health potion\": 10, \"cake of the cure\": 5, \"green elixir\": 20, \"strength sandwich\": 25, \"stamina grains\": 15, \"power stew\": 30}\n",
    "health_points = 20\n",
    "\n",
    "health_points += available_items.pop(\"stamina grains\", 0)\n",
    "health_points += available_items.pop(\"power stew\", 0)\n",
    "health_points += available_items.pop(\"mystic bread\", 0)\n",
    "\n",
    "print(available_items)\n",
    "print(health_points)"
   ]
  },
  {
   "cell_type": "markdown",
   "metadata": {},
   "source": [
    "## Get All Keys\n",
    "Sometimes we want to operate on all of the keys in a dictionary. For example, if we have a dictionary of students in a math class and their grades:"
   ]
  },
  {
   "cell_type": "code",
   "execution_count": null,
   "metadata": {},
   "outputs": [],
   "source": [
    "test_scores = {\"Grace\":[80, 72, 90], \"Jeffrey\":[88, 68, 81], \"Sylvia\":[80, 82, 84], \"Pedro\":[98, 96, 95], \"Martin\":[78, 80, 78], \"Dina\":[64, 60, 75]}"
   ]
  },
  {
   "cell_type": "markdown",
   "metadata": {},
   "source": [
    "We want to get a roster of the students in the class, without including their grades. We can do this with the built-in list() function:"
   ]
  },
  {
   "cell_type": "code",
   "execution_count": null,
   "metadata": {},
   "outputs": [],
   "source": [
    ">>> list(test_scores)\n",
    "[\"Grace\", \"Jeffrey\", \"Sylvia\", \"Pedro\", \"Martin\", \"Dina\"]"
   ]
  },
  {
   "cell_type": "markdown",
   "metadata": {},
   "source": [
    "Dictionaries also have a .keys() method that returns a dict_keys object. A dict_keys object is a view object, which provides a look at the current state of the dictionary, without the user being able to modify anything. The dict_keys object returned by .keys() is a set of the keys in the dictionary. You cannot add or remove elements from a dict_keys object, but it can be used in the place of a list for iteration:"
   ]
  },
  {
   "cell_type": "code",
   "execution_count": null,
   "metadata": {},
   "outputs": [],
   "source": [
    "for student in test_scores.keys():\n",
    "  print(student)"
   ]
  },
  {
   "cell_type": "markdown",
   "metadata": {},
   "source": [
    "will yield:\n",
    "\n",
    "Grace <BR>\n",
    "Jeffrey <BR>\n",
    "Sylvia <br>\n",
    "Pedro <br>\n",
    "Martin <br>\n",
    "Dina <br>"
   ]
  },
  {
   "cell_type": "markdown",
   "metadata": {},
   "source": [
    "##### Instructions\n",
    "\n",
    "1. Create a variable called users and assign it to be a dict_keys object of all of the keys of the user_ids dictionary.\n",
    "\n",
    "2. Create a variable called lessons and assign it to be a dict_keys object of all of the keys of the num_exercises dictionary.\n",
    "\n",
    "3. Print users to the console.\n",
    "\n",
    "4. Print lessons to the console."
   ]
  },
  {
   "cell_type": "code",
   "execution_count": null,
   "metadata": {},
   "outputs": [],
   "source": [
    "user_ids = {\"teraCoder\": 100019, \"pythonGuy\": 182921, \"samTheJavaMaam\": 123112, \"lyleLoop\": 102931, \"keysmithKeith\": 129384}\n",
    "num_exercises = {\"functions\": 10, \"syntax\": 13, \"control flow\": 15, \"loops\": 22, \"lists\": 19, \"classes\": 18, \"dictionaries\": 18}\n",
    "\n",
    "users = user_ids.keys()\n",
    "print(users)\n",
    "lessons = num_exercises.keys()\n",
    "print(lessons)"
   ]
  },
  {
   "cell_type": "markdown",
   "metadata": {},
   "source": [
    "## Get All Values\n",
    "Dictionaries have a .values() method that returns a dict_values object (just like a dict_keys object but for values!) with all of the values in the dictionary. It can be used in the place of a list for iteration:"
   ]
  },
  {
   "cell_type": "code",
   "execution_count": null,
   "metadata": {},
   "outputs": [],
   "source": [
    "test_scores = {\"Grace\":[80, 72, 90], \"Jeffrey\":[88, 68, 81], \"Sylvia\":[80, 82, 84], \"Pedro\":[98, 96, 95], \"Martin\":[78, 80, 78], \"Dina\":[64, 60, 75]}\n",
    " \n",
    "for score_list in test_scores.values():\n",
    "  print(score_list)"
   ]
  },
  {
   "cell_type": "markdown",
   "metadata": {},
   "source": [
    "will yield:"
   ]
  },
  {
   "cell_type": "code",
   "execution_count": null,
   "metadata": {},
   "outputs": [],
   "source": [
    "[80, 72, 90]\n",
    "[88, 68, 81]\n",
    "[80, 82, 84]\n",
    "[98, 96, 95]\n",
    "[78, 80, 78]\n",
    "[64, 60, 75]"
   ]
  },
  {
   "cell_type": "markdown",
   "metadata": {},
   "source": [
    "There is no built-in function to get all of the values as a list, but if you really want to, you can use:\n",
    "\n",
    "\n",
    "list(test_scores.values())\n",
    "\n",
    "\n",
    "However, for most purposes, the dict_values object will act the way you want a list to act."
   ]
  },
  {
   "cell_type": "markdown",
   "metadata": {},
   "source": [
    "##### Instructions\n",
    "1. Create a variable called total_exercises and set it equal to 0.\n",
    "\n",
    "2. Iterate through the values in the num_exercises list and add each value to the total_exercises variable.\n",
    "\n",
    "3. Print the total_exercises variable to the console."
   ]
  },
  {
   "cell_type": "code",
   "execution_count": null,
   "metadata": {},
   "outputs": [],
   "source": [
    "num_exercises = {\"functions\": 10, \"syntax\": 13, \"control flow\": 15, \"loops\": 22, \"lists\": 19, \"classes\": 18, \"dictionaries\": 18}\n",
    "\n",
    "total_exercises = 0\n",
    "\n",
    "for exercises in num_exercises.values():\n",
    "  total_exercises += exercises\n",
    "print(total_exercises)"
   ]
  },
  {
   "cell_type": "markdown",
   "metadata": {},
   "source": [
    "## Get All Items\n",
    "You can get both the keys and the values with the .items() method. Like .keys() and .values(), it returns a dict_list object. Each element of the dict_list returned by .items() is a tuple consisting of:"
   ]
  },
  {
   "cell_type": "code",
   "execution_count": null,
   "metadata": {},
   "outputs": [],
   "source": [
    "(key, value)"
   ]
  },
  {
   "cell_type": "markdown",
   "metadata": {},
   "source": [
    "so to iterate through, you can use this syntax:"
   ]
  },
  {
   "cell_type": "code",
   "execution_count": null,
   "metadata": {},
   "outputs": [],
   "source": [
    "biggest_brands = {\"Apple\": 184, \"Google\": 141.7, \"Microsoft\": 80, \"Coca-Cola\": 69.7, \"Amazon\": 64.8}\n",
    " \n",
    "for company, value in biggest_brands.items():\n",
    "  print(company + \" has a value of \" + str(value) + \" billion dollars. \")"
   ]
  },
  {
   "cell_type": "markdown",
   "metadata": {},
   "source": [
    "which would yield this output:"
   ]
  },
  {
   "cell_type": "code",
   "execution_count": null,
   "metadata": {},
   "outputs": [],
   "source": [
    "Apple has a value of 184 billion dollars.\n",
    "Google has a value of 141.7 billion dollars.\n",
    "Microsoft has a value of 80 billion dollars.\n",
    "Coca-Cola has a value of 69.7 billion dollars.\n",
    "Amazon has a value of 64.8 billion dollars."
   ]
  },
  {
   "cell_type": "markdown",
   "metadata": {},
   "source": [
    "##### Instructions\n",
    "1. Use a for loop to iterate through the items of pct_women_in_occupation. For each key : value pair, print out a string that looks like:\n",
    "<br>\n",
    "Women make up [value] percent of [key]s."
   ]
  },
  {
   "cell_type": "code",
   "execution_count": null,
   "metadata": {},
   "outputs": [],
   "source": [
    "pct_women_in_occupation = {\"CEO\": 28, \"Engineering Manager\": 9, \"Pharmacist\": 58, \"Physician\": 40, \"Lawyer\": 37, \"Aerospace Engineer\": 9}\n",
    "\n",
    "for field, percentage in pct_women_in_occupation.items():\n",
    "  print(\"Women make up \" + str(percentage) + \" percent of \" + field + \"s.\")"
   ]
  },
  {
   "cell_type": "markdown",
   "metadata": {},
   "source": [
    "## Review\n",
    "In this lesson, you’ve learned how to go through dictionaries and access keys and values in different ways. Specifically, you have seen how to:\n",
    "\n",
    "- Use a key to get a value from a dictionary\n",
    "- Check for existence of keys\n",
    "- Remove a key: value pair from a dictionary\n",
    "- Iterate through keys and values in dictionaries"
   ]
  },
  {
   "cell_type": "markdown",
   "metadata": {},
   "source": [
    "Instructions\n",
    "1. We have provided a pack of tarot cards, tarot. You are going to do a three card spread of your past, present, and future.\n",
    "\n",
    "Create an empty dictionary called spread.\n",
    "\n",
    "2. The first card you draw is card 13. Pop the value assigned to the key 13 out of the tarot dictionary and assign it as the value of the \"past\" key of spread.\n",
    "\n",
    "<b>Hint</B><br>\n",
    "To pop a value from one dictionary and assign it to another, you can use syntax like:"
   ]
  },
  {
   "cell_type": "code",
   "execution_count": null,
   "metadata": {},
   "outputs": [],
   "source": [
    "new_dict[\"new key\"] = old_dict.pop(\"old key\")"
   ]
  },
  {
   "cell_type": "markdown",
   "metadata": {},
   "source": [
    "3. The second card you draw is card 22. <br>Pop the value assigned to the key 22 out of the tarot dictionary and assign it as the value of the \"present\" key of spread.\n",
    "\n",
    "\n",
    "4. The third card you draw is card 10. <br>Pop the value assigned to the key 10 out of the tarot dictionary and assign it as the value of the \"future\" key of spread.\n",
    "\n",
    "\n",
    "5. Iterate through the items in the spread dictionary and for each key: value pair, print out a string that says:\n",
    "\n",
    "\n",
    "Your {key} is the {value} card.\n",
    "\n",
    "\n",
    "6. Congratulations! You have learned about how to modify and use dictionaries."
   ]
  },
  {
   "cell_type": "code",
   "execution_count": null,
   "metadata": {},
   "outputs": [],
   "source": [
    "tarot = { 1:\t\"The Magician\", 2:\t\"The High Priestess\", 3:\t\"The Empress\", 4:\t\"The Emperor\", 5:\t\"The Hierophant\", 6:\t\"The Lovers\", 7:\t\"The Chariot\", 8:\t\"Strength\", 9:\t\"The Hermit\", 10:\t\"Wheel of Fortune\", 11:\t\"Justice\", 12:\t\"The Hanged Man\", 13:\t\"Death\", 14:\t\"Temperance\", 15:\t\"The Devil\", 16:\t\"The Tower\", 17:\t\"The Star\", 18:\t\"The Moon\", 19:\t\"The Sun\", 20:\t\"Judgement\", 21:\t\"The World\", 22: \"The Fool\"}\n",
    "\n",
    "spread = {}\n",
    "\n",
    "spread[\"past\"] = tarot.pop(13)\n",
    "spread[\"present\"] = tarot.pop(22)\n",
    "spread[\"future\"] = tarot.pop(10)\n",
    "\n",
    "for time, card in spread.items():\n",
    "  print(\"Your \" + time + \" is the \" + card + \" card.\")"
   ]
  }
 ],
 "metadata": {
  "interpreter": {
   "hash": "85047f2b0679bf22ef06a9dadc4440578c347e570245020debc97e919b79cb32"
  },
  "kernelspec": {
   "display_name": "Python 3.10.0 64-bit ('.venv': venv)",
   "language": "python",
   "name": "python3"
  },
  "language_info": {
   "name": "python",
   "version": "3.10.0"
  },
  "orig_nbformat": 4
 },
 "nbformat": 4,
 "nbformat_minor": 2
}
