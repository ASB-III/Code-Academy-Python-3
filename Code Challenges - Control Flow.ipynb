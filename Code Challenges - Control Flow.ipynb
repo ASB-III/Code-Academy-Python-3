{
 "cells": [
  {
   "cell_type": "markdown",
   "metadata": {},
   "source": [
    "# Code Academy; Python Code Challenges: Control Flow\n",
    "\n",
    "## Python Code Challenges involving Control Flow\n",
    "\n",
    "This article will help you review Python functions by providing some code challenges about control flow.\n",
    "\n",
    "Some of these challenges are difficult! Take some time to think about them before starting to code.\n",
    "\n",
    "You might not get the solution correct on your first try — look at your output, try to find where you’re going wrong, and iterate on your solution.\n",
    "\n",
    "Finally, if you get stuck, use our solution code! If you “Check Answer” twice with an incorrect solution, you should see an option to get our solution code. However, truly investigate that solution — experiment and play with the solution code until you have a good grasp of how it is working. Good luck!\n",
    "\n",
    "Function Syntax\n",
    "As a refresher, function syntax looks like this:"
   ]
  },
  {
   "cell_type": "code",
   "execution_count": null,
   "metadata": {},
   "outputs": [],
   "source": [
    "def some_function(some_input1, some_input2):\n",
    "  # … do something with the inputs …\n",
    "  return output"
   ]
  },
  {
   "cell_type": "markdown",
   "metadata": {},
   "source": [
    "For example, a function that returns the sum of the first and last elements of a given list might look like this:"
   ]
  },
  {
   "cell_type": "code",
   "execution_count": null,
   "metadata": {},
   "outputs": [],
   "source": [
    "def first_plus_last(lst):\n",
    "  return lst[0] + lst[-1]"
   ]
  },
  {
   "cell_type": "markdown",
   "metadata": {},
   "source": [
    "And this would produce output like:"
   ]
  },
  {
   "cell_type": "code",
   "execution_count": null,
   "metadata": {},
   "outputs": [],
   "source": [
    ">>> first_plus_last([1, 2, 3, 4])\n",
    "5\n",
    ">>> first_plus_last([8, 2, 5, -8])\n",
    "0\n",
    ">>> first_plus_last([-10, 2, 3, -4])\n",
    "-14"
   ]
  },
  {
   "cell_type": "markdown",
   "metadata": {},
   "source": [
    "Challenges\n",
    "We’ve included 5 challenges below. Try to answer all of them and polish up your problem-solving skills and your control flow expertise.\n",
    "\n",
    "## 1. Large Power\n",
    "For the first code challenge, we are going to create a method that tests whether the result of taking the power of one number to another number provides an answer which is greater than 5000. \n",
    "We will use a conditional statement to return True if the result is greater than 5000 or return False if it is not. \n",
    "In order to accomplish this, we will need the following steps:\n",
    "\n",
    "Define the function to accept two input parameters called base and exponent\n",
    "Calculate the result of base to the power of exponent\n",
    "Use an if statement to test if the result is greater than 5000. If it is then return True. Otherwise, return False\n",
    "Code Challenge\n",
    "Create a function named large_power() that takes two parameters named base and exponent.\n",
    "\n",
    "If base raised to the exponent is greater than 5000, return True, otherwise return False\n",
    "\n",
    " Write your large_power function here:\n",
    "\n",
    "Hint\n",
    "Make sure you use if and else statements to return True or return False. \n",
    "Also, to take the power of one number to another number you can use the ** operator."
   ]
  },
  {
   "cell_type": "code",
   "execution_count": null,
   "metadata": {},
   "outputs": [],
   "source": [
    "def large_power(base, exponent):\n",
    "  if base ** exponent > 5000:\n",
    "    return True\n",
    "  else:\n",
    "    return False\n",
    "    # Uncomment these function calls to test your large_power function:\n",
    "print(large_power(2, 13))\n",
    "# should print True\n",
    "print(large_power(2, 12))\n",
    "# should print False\n"
   ]
  },
  {
   "cell_type": "code",
   "execution_count": null,
   "metadata": {},
   "outputs": [],
   "source": [
    "#This is how we solved it:\n",
    "\n",
    "def large_power(base, exponent):\n",
    "  if base ** exponent > 5000:\n",
    "    return True\n",
    "  else:\n",
    "    return False\n"
   ]
  },
  {
   "cell_type": "markdown",
   "metadata": {},
   "source": [
    "In this solution, we have an example of how the operation can be performed in the condition of the if statement. \n",
    "This prevents us from needing to create an extra variable. \n",
    "If the condition is true, then the indented code is executed which returns True, otherwise the indented code in the else statement is executed."
   ]
  },
  {
   "cell_type": "markdown",
   "metadata": {},
   "source": [
    "## 2. Over Budget\n",
    "Let’s say we are trying to save some money and we are watching our budget.\n",
    "We need to make sure that the result of our spending is less than the total amount we have allocated for each of the categories. \n",
    "Our function will accept a parameter called budget which describes our spending limit. \n",
    "The next four parameters describe what we are spending our money on. We need to sum all of our spendings and compare it to the budget.\n",
    "If we have gone over budget, we will return True. Otherwise we return False. Here are the steps we need:\n",
    "\n",
    "Define the function to accept five parameters starting with budget then food_bill, electricity_bill, internet_bill, and rent\n",
    "Calculate the sum of the last four parameters\n",
    "Use if and else statements to test if the budget is less than the sum of the calculated sum from the previous step.\n",
    "If the condition is true, return True otherwise return False\n",
    "Code Challenge\n",
    "Create a function called over_budget that has five parameters named budget, food_bill, electricity_bill, internet_bill, and rent.\n",
    "\n",
    "The function should return True if budget is less than the sum of the other four parameters — you’ve gone over budget! Return False otherwise.\n",
    "\n",
    "Hint\n",
    "Make sure you are calculating the sum of the last four parameters! It will look something like this: food_bill + electricity_bill + internet_bill + rent. \n",
    "If budget is less than the result of the sum then return True, else return False\n"
   ]
  },
  {
   "cell_type": "code",
   "execution_count": null,
   "metadata": {},
   "outputs": [],
   "source": [
    "# Write your over_budget function here:\n",
    "def over_budget(budget, food_bill, electricity_bill, internet_bill, rent):\n",
    "  if (budget < food_bill + electricity_bill + internet_bill + rent):\n",
    "    return True\n",
    "  else:\n",
    "    return False\n",
    "# Uncomment these function calls to test your over_budget function:\n",
    "print(over_budget(100, 20, 30, 10, 40))\n",
    "# should print False\n",
    "print(over_budget(80, 20, 30, 10, 30))\n",
    "# should print True\n",
    "\n",
    "\n",
    "#This is one way to solve it:\n",
    "\n",
    "def over_budget(budget, food_bill, electricity_bill, internet_bill, rent):\n",
    "  if (budget < food_bill + electricity_bill + internet_bill + rent):\n",
    "    return True\n",
    "  else:\n",
    "    return False"
   ]
  },
  {
   "cell_type": "markdown",
   "metadata": {},
   "source": [
    "Similarly to the last problem, we can perform the operations within the condition of the if statement to prevent us from creating an extra variable. \n",
    "We calculate the sum and compare it to budget at the same time and return True if the condition is met, otherwise we return False."
   ]
  },
  {
   "cell_type": "markdown",
   "metadata": {},
   "source": [
    "## 3. Twice As Large\n",
    "In this challenge, we will determine if one number is twice as large as another number.\n",
    " To do this, we will compare the first number with two times the second number. Here are the steps:\n",
    "\n",
    "Define our function with two inputs num1 and num2\n",
    "Multiply the second input by 2\n",
    "Use an if statement to compare the result of the last calculation with the first input\n",
    "If num1 is greater then return True otherwise return False\n",
    "\n",
    "Code Challenge\n",
    "\n",
    "Create a function named twice_as_large() that has two parameters named num1 and num2.\n",
    "\n",
    "Return True if num1 is more than double num2. Return False otherwise.\n",
    "\n",
    "Hint\n",
    "Remember to multiply the second input by 2, not the first input. Also,\n",
    " the function should return True only if the first input is greater than twice the second input, not greater than or equal to.\n"
   ]
  },
  {
   "cell_type": "code",
   "execution_count": null,
   "metadata": {},
   "outputs": [],
   "source": [
    "# Write your twice_as_large function here:\n",
    "def twice_as_large(num1, num2):\n",
    "  num2 * 2\n",
    "  if num1 > 2 * num2:\n",
    "    return True\n",
    "  else:\n",
    "    return False\n",
    "\n",
    "# Uncomment these function calls to test your twice_as_large function:\n",
    "print(twice_as_large(10, 5))\n",
    "# should print False\n",
    "print(twice_as_large(11, 5))\n",
    "# should print True\n",
    "\n",
    "#Here is this solution:\n",
    "\n",
    "def twice_as_large(num1, num2):\n",
    "  if num1 > 2 * num2:\n",
    "    return True\n",
    "  else:\n",
    "    return False"
   ]
  },
  {
   "cell_type": "markdown",
   "metadata": {},
   "source": [
    "## 4. Divisible By Ten\n",
    "To make things a bit more challenging, we are going to create a function that determines whether or not a number is divisible by ten. A number is divisible by ten if the remainder of the number divided by 10 is 0. Using this, we can complete this function in a few steps:\n",
    "\n",
    "Define the function header to accept one input num\n",
    "Calculate the remainder of the input divided by 10 (use modulus)\n",
    "Use an if statement to check if the remainder was 0. If the remainder was 0, return True, otherwise, return False\n",
    "\n",
    "Create a function called divisible_by_ten() that has one parameter named num.\n",
    "\n",
    "The function should return True if num is divisible by 10, and False otherwise. Consider using modulo operator % to check for divisibility.\n",
    "\n",
    "Hint\n",
    "We can calculate the remainder using the modulus operator %. If num % 10 is equal to 0, then num is divisible by ten.\n"
   ]
  },
  {
   "cell_type": "code",
   "execution_count": null,
   "metadata": {},
   "outputs": [],
   "source": [
    "#Write your divisible_by_ten() function here:\n",
    "def divisible_by_ten(num):\n",
    "  if (num % 10 == 0):\n",
    "    return True\n",
    "  else:\n",
    "    return False\n",
    "\n",
    "\n",
    "#Uncomment these print() function calls to test your divisible_by_ten() function:\n",
    "\n",
    "print(divisible_by_ten(20))\n",
    "# should print True\n",
    "print(divisible_by_ten(25))\n",
    "# should print False"
   ]
  },
  {
   "cell_type": "code",
   "execution_count": null,
   "metadata": {},
   "outputs": [],
   "source": [
    "#Here’s one solution:\n",
    "\n",
    "def divisible_by_ten(num):\n",
    "  if (num % 10 == 0):\n",
    "    return True\n",
    "  else:\n",
    "    return False"
   ]
  },
  {
   "cell_type": "markdown",
   "metadata": {},
   "source": [
    "In this solution, we perform the modulus operation within the condition of the if statement.\n",
    " We test if the result is equal to 0 and if it is, then we return True otherwise we return False."
   ]
  },
  {
   "cell_type": "markdown",
   "metadata": {},
   "source": [
    "## 5. Not Sum To Ten\n",
    "Finally, we are going to check if the summation of two inputs does not equal ten. Our function will accept two inputs and add them together. If the two numbers added together are not equal to ten, then we will return True, otherwise, we will return False. Here is what we need to do:\n",
    "\n",
    "Define the function to accept two parameters, num1 and num2\n",
    "Add the two parameters together\n",
    "Test if the result is not equal to 10\n",
    "If the sum is not equal, return True, otherwise, return False\n",
    "Code Challenge\n",
    "Create a function named not_sum_to_ten() that has two parameters named num1 and num2.\n",
    "\n",
    "Return True if num1 and num2 do not sum to 10. Return False otherwise.\n",
    "\n",
    "Hint\n",
    "Remember that in order to test if two values are not equal we use !=.\n"
   ]
  },
  {
   "cell_type": "code",
   "execution_count": null,
   "metadata": {},
   "outputs": [],
   "source": [
    "# Write your not_sum_to_ten function here:\n",
    "def not_sum_to_ten(num1, num2):\n",
    "  if (num1 + num2 != 10):\n",
    "    return True\n",
    "  else:\n",
    "    return False\n",
    "# Uncomment these function calls to test your not_sum_to_ten function:\n",
    "print(not_sum_to_ten(9, -1))\n",
    "# should print True\n",
    "print(not_sum_to_ten(9, 1))\n",
    "# should print False\n",
    "print(not_sum_to_ten(5,5))\n",
    "# should print False\n",
    "\n",
    "\n",
    "\n",
    "#Here is how we solved this one:\n",
    "\n",
    "def not_sum_to_ten(num1, num2):\n",
    "  if (num1 + num2 != 10):\n",
    "    return True\n",
    "  else:\n",
    "    return False"
   ]
  },
  {
   "cell_type": "markdown",
   "metadata": {},
   "source": [
    "We begin by adding our parameters within the condition of the if statement. \n",
    "Next, we use != to compare the sum to 10.\n",
    " If they are not equal then our function returns True, otherwise it returns False."
   ]
  },
  {
   "cell_type": "markdown",
   "metadata": {},
   "source": [
    "# Python Code Challenges: Control Flow (Advanced)\n",
    "## Difficult Python Code Challenges Involving Control Flow\n",
    "\n",
    "This article will help you review Python functions by providing some code challenges involving control flow.\n",
    "\n",
    "Some of these challenges are difficult! Take some time to think about them before starting to code.\n",
    "\n",
    "You might not get the solution correct on your first try — look at your output, try to find where you’re going wrong, and iterate on your solution.\n",
    "\n",
    "Finally, if you get stuck,\n",
    " use our solution code! If you “Check Answer” twice with an incorrect solution, you should see an option to get our solution code. \n",
    " However, truly investigate that solution — experiment and play with the solution code until you have a good grasp of how it is working. Good luck!\n",
    "\n",
    "Function Syntax\n",
    "As a refresher, function syntax looks like this:"
   ]
  },
  {
   "cell_type": "code",
   "execution_count": null,
   "metadata": {},
   "outputs": [],
   "source": [
    "def some_function(some_input1, some_input2):\n",
    "  # … do something with the inputs …\n",
    "  return output\n",
    "For example, a function that returns the sum of the first and last elements of a given list might look like this:\n",
    "\n",
    "def first_plus_last(lst):\n",
    "  return lst[0] + lst[-1]\n",
    "And this would produce output like:\n",
    "\n",
    ">>> first_plus_last([1, 2, 3, 4])\n",
    "5\n",
    ">>> first_plus_last([8, 2, 5, -8])\n",
    "0\n",
    ">>> first_plus_last([-10, 2, 3, -4])\n",
    "-14"
   ]
  },
  {
   "cell_type": "markdown",
   "metadata": {},
   "source": [
    "Challenges\n",
    "We’ve included 5 challenges below. Try to answer all of them and polish up your problem-solving skills!\n",
    "\n",
    "\n",
    "\n",
    "## 1. In Range\n",
    "Let’s start the advanced challenge problems by testing if a number falls within a certain range. \n",
    "We will accept three parameters where the first parameter is the number we are testing,\n",
    " the second parameter is the lower bound and the third parameter is the upper bound of our range. \n",
    " These are the steps required:\n",
    "\n",
    "Define the function to accept three numbers as parameters\n",
    "Test if the number is greater than or equal to the lower bound and less than or equal to the upper bound\n",
    "If this is true, return True, otherwise, return False\n",
    "\n",
    "Create a function named in_range() that has three parameters named num, lower, and upper.\n",
    "\n",
    "The function should return True if num is greater than or equal to lower and less than or equal to upper. Otherwise, return False.\n",
    "\n",
    "Hint\n",
    "Don’t forget to connect the >= and <= conditions with the boolean operator and."
   ]
  },
  {
   "cell_type": "code",
   "execution_count": null,
   "metadata": {},
   "outputs": [],
   "source": [
    "# Write your in_range function here:\n",
    "def in_range(num, lower, upper):\n",
    "  if (num >= lower and num <= upper):\n",
    "    return True\n",
    "  return False\n",
    "# Uncomment these function calls to test your in_range function:\n",
    "print(in_range(10, 10, 10))\n",
    "# should print True\n",
    "print(in_range(5, 10, 20))\n",
    "# should print False\n",
    "\n",
    "\n",
    "\n",
    "#Here’s one way to do it:\n",
    "\n",
    "\n",
    "def in_range(num, lower, upper):\n",
    "  if(num >= lower and num <= upper):\n",
    "    return True\n",
    "  return False\n"
   ]
  },
  {
   "cell_type": "markdown",
   "metadata": {},
   "source": [
    "In this solution, we test the two bounds connected with an and boolean operator. \n",
    "This means that the code nested in the if statement will only execute if both of the conditions are true.\n",
    " We also do not include the else statement here. Since our if statement will return True and exit the function if the condition is true,\n",
    " the last line will only be reached if the condition was false.\n"
   ]
  },
  {
   "cell_type": "markdown",
   "metadata": {},
   "source": [
    "## 2. Same Name\n",
    "We need to write a program that checks different names and determines if they are equal. We need to accept two strings and compare them. \n",
    "Here are the steps:\n",
    "\n",
    "Define the function to accept two strings, your_name and my_name\n",
    "Test if the two strings are equal\n",
    "Return True if they are equal, otherwise return False\n",
    "Code Challenge\n",
    "Create a function named same_name() that has two parameters named your_name and my_name.\n",
    "\n",
    "If our names are identical, return True. Otherwise, return False.\n",
    "\n",
    "Hint\n",
    "In python, strings can be compared using the == operator."
   ]
  },
  {
   "cell_type": "code",
   "execution_count": null,
   "metadata": {},
   "outputs": [],
   "source": [
    "# Write your same_name function here:\n",
    "def same_name(your_name, my_name):\n",
    "  if (your_name == my_name):\n",
    "    return True\n",
    "  else:\n",
    "    return False\n",
    "# Uncomment these function calls to test your same_name function:\n",
    "print(same_name(\"Colby\", \"Colby\"))\n",
    "# should print True\n",
    "print(same_name(\"Tina\", \"Amber\"))\n",
    "# should print False\n",
    "\n",
    "#Here is this solution:\n",
    "\n",
    "def same_name(your_name, my_name):\n",
    "  if (your_name == my_name):\n",
    "    return True\n",
    "  else:\n",
    "    return False"
   ]
  },
  {
   "cell_type": "markdown",
   "metadata": {},
   "source": [
    "As you can see in this solution code, comparing two strings in python can be done using the == operator.\n",
    "If you want an added challenge, you can try shortening the function body to one line of code!\n"
   ]
  },
  {
   "cell_type": "markdown",
   "metadata": {},
   "source": [
    "## 3. Always False\n",
    "There are some situations that you normally want to avoid when programming using conditional statements. One example is a contradiction. \n",
    "This occurs when your condition will always be false no matter what value you pass into it.\n",
    " Let’s create an example of a function that contains a contradiction. It will contain a few steps:\n",
    "\n",
    "Define the function to accept a single parameter called num\n",
    "Use a combination of <, > and and to create a contradiction in an if statement.\n",
    "If the condition is true, return True, otherwise return False.\n",
    " The trick here is that because we’ve written a contradiction, the condition should never be true, so we should expect to always return False.\n",
    "Code Challenge\n",
    "Create a function named always_false() that has one parameter named num.\n",
    "\n",
    "Using an if statement, your variable num, and the operators >, and <, make it so your function will return False no matter what number is stored in num.\n",
    "\n",
    "An if statement that is always false is called a contradiction. You will rarely want to do this while programming, \n",
    "but it is important to realize it is possible to do this.\n",
    "\n",
    "Hint\n",
    "Try to think of an example of a condition which is always false. For example, a number cannot be greater than and less than itself at the same time.\n"
   ]
  },
  {
   "cell_type": "code",
   "execution_count": null,
   "metadata": {},
   "outputs": [],
   "source": [
    "# Write your always_false function here:\n",
    "def always_false(num):\n",
    "  if num > 10 and num < 10:\n",
    "    return True\n",
    "  else:\n",
    "    return False\n",
    "# Uncomment these function calls to test your always_false function:\n",
    "print(always_false(0))\n",
    "# should print False\n",
    "print(always_false(-1))\n",
    "# should print False\n",
    "print(always_false(1))\n",
    "# should print False\n",
    "\n",
    "#Here is one way to solve this:\n",
    "\n",
    "def always_false(num):\n",
    "  if (num > 0 and num < 0):\n",
    "    return True\n",
    "  else:\n",
    "    return False"
   ]
  },
  {
   "cell_type": "markdown",
   "metadata": {},
   "source": [
    "In our example, we use the contradiction of being greater than and less than 0 at the same time.\n",
    " No matter what value we pass into the function, our condition will always be false since it is not logically possible.\n",
    " You normally want to avoid creating conditions like this."
   ]
  },
  {
   "cell_type": "markdown",
   "metadata": {},
   "source": [
    "## 4. Movie Review\n",
    "We want to create a function that will help us rate movies. \n",
    "Our function will split the ratings into different ranges and tell the user how the movie was based on the movie’s rating. Here are the steps needed:\n",
    "\n",
    "Define our function to accept a single number called rating\n",
    "If the rating is equal to or less than 5, return \"Avoid at all costs!\"\n",
    "If the rating was less than 9, return \"This one was fun.\"\n",
    "If neither of the if statement conditions were met, return \"Outstanding!\"\n",
    "Code Challenge\n",
    "Create a function named movie_review() that has one parameter named rating.\n",
    "\n",
    "If rating is less than or equal to 5, return \"Avoid at all costs!\". If rating is between 5 and 9, return \"This one was fun.\". If rating is 9 or above,\n",
    " return \"Outstanding!\"\n",
    "\n",
    "Hint\n",
    "Use a series of if statements to test the different ranges. We can check each condition separately to determine which string to return."
   ]
  },
  {
   "cell_type": "code",
   "execution_count": null,
   "metadata": {},
   "outputs": [],
   "source": [
    "# Write your movie_review function here:\n",
    "def movie_review(rating):\n",
    "  if rating <= 5:\n",
    "    return \"Avoid at all costs!\"\n",
    "  if rating < 9:\n",
    "    return \"This one was fun.\"\n",
    "  return \"Outstanding!\"\n",
    "# Uncomment these function calls to test your movie_review function:\n",
    "print(movie_review(9))\n",
    "# should print \"Outstanding!\"\n",
    "print(movie_review(4))\n",
    "# should print \"Avoid at all costs!\"\n",
    "print(movie_review(6))\n",
    "# should print \"This one was fun.\"\n",
    "\n",
    "\n",
    "\n",
    "#Here’s how we did it:\n",
    "\n",
    "def movie_review(rating):\n",
    "  if(rating <= 5):\n",
    "    return \"Avoid at all costs!\"\n",
    "  if(rating < 9):\n",
    "    return \"This one was fun.\"\n",
    "  return \"Outstanding!\""
   ]
  },
  {
   "cell_type": "markdown",
   "metadata": {},
   "source": [
    "To solve this, we used a series of if statements to select which string to return.\n",
    " Another way of solving this would be to use if, elif and else statements."
   ]
  },
  {
   "cell_type": "markdown",
   "metadata": {},
   "source": [
    "## 5. Max Number\n",
    "For the final challenge, we are going to select which number from three input values is the greatest using conditional statements.\n",
    " To do this, we need to check the different combinations of values to see which number is greater than the other two. Here is what we need to do:\n",
    "\n",
    "Define a function that has three input parameters, num1, num2, and num3\n",
    "Test if num1 is greater than the other two numbers\n",
    "If so, return num1\n",
    "Test if num2 is greater than the other two numbers\n",
    "If so, return num2\n",
    "Test if num3 is greater than the other two numbers\n",
    "If so, return num3\n",
    "If there was a tie between the two largest numbers, then return \"It's a tie!\"\n",
    "Code Challenge\n",
    "Create a function called max_num() that has three parameters named num1, num2, and num3.\n",
    "\n",
    "The function should return the largest of these three numbers. If any of two numbers tie as the largest, you should return \"It's a tie!\".\n",
    "\n",
    "Hint\n",
    "You can use if, elif, and else statements to accomplish this. \n",
    "For the first parameter, test if num1 is greater than num2 and that num1 is greater than num3.\n",
    " Repeat these tests for num2 and num3.\n"
   ]
  },
  {
   "cell_type": "code",
   "execution_count": null,
   "metadata": {},
   "outputs": [],
   "source": [
    "# Write your max_num function here:\n",
    "def max_num(num1, num2, num3):\n",
    "  if num1 > num2 and num1 > num3:\n",
    "    return num1\n",
    "  elif num2 > num1 and num2 > num3:\n",
    "    return num2\n",
    "  elif num3 > num1 and num3 > num2:\n",
    "    return num3\n",
    "  else:\n",
    "    return \"It's a tie!\"\n",
    "# Uncomment these function calls to test your max_num function:\n",
    "print(max_num(-10, 0, 10))\n",
    "# should print 10\n",
    "print(max_num(-10, 5, -30))\n",
    "# should print 5\n",
    "print(max_num(-5, -10, -10))\n",
    "# should print -5\n",
    "print(max_num(2, 3, 3))\n",
    "# should print \"It's a tie!\"\n",
    "\n",
    "\n",
    "#Here is one way to do it:\n",
    "\n",
    "def max_num(num1, num2, num3):\n",
    "  if num1 > num2 and num1 > num3:\n",
    "    return num1\n",
    "  elif num2 > num1 and num2 > num3:\n",
    "    return num2\n",
    "  elif num3 > num1 and num3 > num2:\n",
    "    return num3\n",
    "  else:\n",
    "    return \"It's a tie!\""
   ]
  },
  {
   "cell_type": "markdown",
   "metadata": {},
   "source": [
    "In this code, we use a series of if, elif, and else statements.\n",
    "    We test the first parameter against the other two parameters and return the value if it is greater than the other two.\n",
    "    We have two more tests to check if the second parameter is greater than the other two, \n",
    "    then if the third parameter is greater than the other two. In the case where none of the parameters were greater than both of the other parameters,\n",
    "    then we know that there must have been a tie and the final return statement is reached."
   ]
  }
 ],
 "metadata": {
  "language_info": {
   "name": "python"
  },
  "orig_nbformat": 4
 },
 "nbformat": 4,
 "nbformat_minor": 2
}
