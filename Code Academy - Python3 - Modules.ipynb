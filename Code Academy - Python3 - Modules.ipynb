{
 "cells": [
  {
   "cell_type": "markdown",
   "metadata": {},
   "source": [
    "# MODULES IN PYTHON\n",
    "## Modules Python Introduction\n",
    "In the world of programming, we care a lot about making code reusable. In most cases, we write code so that it can be reusable for ourselves. But sometimes we share code that’s helpful across a broad range of situations.\n",
    "\n",
    "In this lesson, we’ll explore how to use tools other people have built in Python that are not included automatically for you when you install Python. Python allows us to package code into files or sets of files called modules.\n",
    "\n",
    "A module is a collection of Python declarations intended broadly to be used as a tool. Modules are also often referred to as “libraries” or “packages” — a package is really a directory that holds a collection of modules.\n",
    "\n",
    "Usually, to use a module in a file, the basic syntax you need at the top of that file is:"
   ]
  },
  {
   "cell_type": "code",
   "execution_count": null,
   "metadata": {},
   "outputs": [],
   "source": [
    "from module_name import object_name"
   ]
  },
  {
   "cell_type": "markdown",
   "metadata": {},
   "source": [
    "Often, a library will include a lot of code that you don’t need that may slow down your program or conflict with existing code. Because of this, it makes sense to only import what you need.\n",
    "\n",
    "One common library that comes as part of the Python Standard Library is datetime. datetime helps you work with dates and times in Python.\n",
    "\n",
    "Let’s get started by importing and using the datetime module. In this case, you’ll notice that datetime is both the name of the library and the name of the object that you are importing."
   ]
  },
  {
   "cell_type": "markdown",
   "metadata": {},
   "source": [
    "#### 1. In script.py import the datetime type from the datetime library.\n",
    "\n",
    "#### 2. Create a variable current_time and set it equal to datetime.now().\n",
    "\n",
    "#### 3. Print out current_time."
   ]
  },
  {
   "cell_type": "code",
   "execution_count": null,
   "metadata": {},
   "outputs": [],
   "source": [
    "# Import datetime from datetime below:\n",
    "\n",
    "from datetime import datetime\n",
    "\n",
    "current_time = datetime.now()\n",
    "print(current_time)"
   ]
  },
  {
   "cell_type": "markdown",
   "metadata": {},
   "source": [
    "## Modules Python Random\n",
    "datetime is just the beginning. There are hundreds of Python modules that you can use. Another one of the most commonly used is random which allows you to generate numbers or select items at random.\n",
    "\n",
    "With random, we’ll be using more than one piece of the module’s functionality, so the import syntax will look like:"
   ]
  },
  {
   "cell_type": "code",
   "execution_count": null,
   "metadata": {},
   "outputs": [],
   "source": [
    "import random"
   ]
  },
  {
   "cell_type": "markdown",
   "metadata": {},
   "source": [
    "We’ll work with two common random functions:\n",
    "\n",
    "- random.choice() which takes a list as an argument and returns a number from the list.\n",
    "- random.randint() which takes two numbers as arguments and generates a random number between the two numbers you passed in.\n",
    "\n",
    "Let’s take randomness to a whole new level by picking a random number from a list of randomly generated numbers between 1 and 100."
   ]
  },
  {
   "cell_type": "markdown",
   "metadata": {},
   "source": [
    "##### 1. In script.py import the random library.\n",
    "\n",
    "Checkpoint 2 Passed\n",
    "\n",
    "Hint\n",
    "To do this:\n",
    "import random\n",
    "\n",
    "##### 2. Create a variable random_list and set it equal to an empty list\n",
    "\n",
    "Checkpoint 3 Passed\n",
    "##### 3. Turn the empty list into a list comprehension that uses random.randint() to generate a random integer between 1 and 100 (inclusive) for each number in range(101).\n",
    "\n",
    "Checkpoint 4 Passed\n",
    "\n",
    "Hint\n",
    "Remember: Python list comprehensions look like this:\n",
    "\n",
    "[what_will_replace_i for i in some_list_or_range]\n",
    "And note that random.randint is inclusive while range() is not.\n",
    "\n",
    "##### 4. Create a new variable randomer_number and set it equal to random.choice() with random_list as an argument.\n",
    "\n",
    "The choice() method returns a randomly selected element from the specified sequence.\n",
    "\n",
    "The sequence can be a string, a range, a list, a tuple or any other kind of sequence.\n",
    "\n",
    "Checkpoint 5 Passed\n",
    "##### 5. Print randomer_number out to see what number was picked!"
   ]
  },
  {
   "cell_type": "code",
   "execution_count": null,
   "metadata": {},
   "outputs": [],
   "source": [
    "# Import random below:\n",
    "import random\n",
    "\n",
    "# Create random_list below:\n",
    "random_list = [random.randint(1, 100) for i in range(101)]\n",
    "\n",
    "# Create randomer_number below:\n",
    "#The choice() method returns a randomly selected element from the specified sequence.\n",
    "#The sequence can be a string, a range, a list, a tuple or any other kind of sequence.\n",
    "randomer_number = random.choice(random_list)\n",
    "\n",
    "# Print randomer_number below:\n",
    "print(randomer_number)"
   ]
  },
  {
   "cell_type": "markdown",
   "metadata": {},
   "source": [
    "## Modules Python Namespaces\n",
    "Notice that when we want to invoke the randint() function we call random.randint(). This is default behavior where Python offers a namespace for the module. A namespace isolates the functions, classes, and variables defined in the module from the code in the file doing the importing. Your local namespace, meanwhile, is where your code is run.\n",
    "\n",
    "Python defaults to naming the namespace after the module being imported, but sometimes this name could be ambiguous or lengthy. Sometimes, the module’s name could also conflict with an object you have defined within your local namespace.\n",
    "\n",
    "Fortunately, this name can be altered by aliasing using the as keyword:"
   ]
  },
  {
   "cell_type": "code",
   "execution_count": null,
   "metadata": {},
   "outputs": [],
   "source": [
    "import module_name as name_you_pick_for_the_module"
   ]
  },
  {
   "cell_type": "markdown",
   "metadata": {},
   "source": [
    "Aliasing is most often done if the name of the library is long and typing the full name every time you want to use one of its functions is laborious.\n",
    "\n",
    "You might also occasionally encounter import *. The * is known as a “wildcard” and matches anything and everything. This syntax is considered dangerous because it could pollute our local namespace. Pollution occurs when the same name could apply to two possible things. For example, if you happen to have a function floor() focused on floor tiles, using from math import * would also import a function floor() that rounds down floats.\n",
    "\n",
    "Let’s combine your knowledge of the random library with another fun library called matplotlib, which allows you to plot your Python code in 2D.\n",
    "\n",
    "You’ll use a new random function random.sample() that takes a range and a number as its arguments. It will return the specified number of random numbers from that range."
   ]
  },
  {
   "cell_type": "markdown",
   "metadata": {},
   "source": [
    "#### 1. Below import codecademylib3_seaborn, import pyplot from the module matplotlib with the alias plt.\n",
    "\n",
    "#### 2. Import random below the other import statements. It’s best to keep all imports at the top of your file.\n",
    "\n",
    "#### 3. Create a variable numbers_a and set it equal to the range of numbers 1 through 12 (inclusive).\n",
    "\n",
    "#### 4.Create a variable numbers_b and set it equal to a random sample of twelve numbers within range(1000).\n",
    "\n",
    "#### 5. Now let’s plot these number sets against each other using plt. Call plt.plot() with your two variables as its arguments.\n",
    "\n",
    "#### 6. Now call plt.show() and run your code!\n",
    "\n",
    "You should see a graph of random numbers displayed. You’ve used two Python modules to accomplish this (random and matplotlib)."
   ]
  },
  {
   "cell_type": "code",
   "execution_count": null,
   "metadata": {},
   "outputs": [],
   "source": [
    "import codecademylib3_seaborn\n",
    "from matplotlib import pyplot as plt\n",
    "import random\n",
    "# Add your code below:\n",
    "\n",
    "numbers_a = range(1, 13)\n",
    "numbers_b = random.sample(range(1000), 12)\n",
    "\n",
    "plt.plot(numbers_a, numbers_b)\n",
    "plt.show()"
   ]
  },
  {
   "cell_type": "markdown",
   "metadata": {},
   "source": [
    "## Modules Python Decimals\n",
    "Let’s say you are writing software that handles monetary transactions. If you used Python’s built-in floating-point arithmetic to calculate a sum, it would result in a weirdly formatted number.\n",
    "https://en.wikipedia.org/wiki/Floating-point_arithmetic"
   ]
  },
  {
   "cell_type": "code",
   "execution_count": null,
   "metadata": {},
   "outputs": [],
   "source": [
    "cost_of_gum = 0.10\n",
    "cost_of_gumdrop = 0.35\n",
    " \n",
    "cost_of_transaction = cost_of_gum + cost_of_gumdrop\n",
    "#Returns 0.44999999999999996"
   ]
  },
  {
   "cell_type": "markdown",
   "metadata": {},
   "source": [
    "Being familiar with rounding errors in floating-point arithmetic you want to use a data type that performs decimal arithmetic more accurately. You could do the following:"
   ]
  },
  {
   "cell_type": "code",
   "execution_count": null,
   "metadata": {},
   "outputs": [],
   "source": [
    "from decimal import Decimal\n",
    " \n",
    "cost_of_gum = Decimal('0.10')\n",
    "cost_of_gumdrop = Decimal('0.35')\n",
    " \n",
    "cost_of_transaction = cost_of_gum + cost_of_gumdrop\n",
    "# Returns 0.45 instead of 0.44999999999999996"
   ]
  },
  {
   "cell_type": "markdown",
   "metadata": {},
   "source": [
    "Above, we use the decimal module’s Decimal data type to add 0.10 with 0.35. Since we used the Decimal type the arithmetic acts much more as expected.\n",
    "\n",
    "Usually, modules will provide functions or data types that we can then use to solve a general problem, allowing us more time to focus on the software that we are building to solve a more specific problem.\n",
    "\n",
    "Ready, set, fix some floating point math by using decimals!\n",
    "\n",
    "#### Instructions\n",
    "\n",
    "#### 1. Run your code to see the weird floating point math that occurs.\n",
    "\n",
    "#### 2. In script.py import Decimal from the decimal module.\n",
    "\n",
    "#### 3. Use Decimal to make two_decimal_points only have two decimals points and four_decimal_points to only have four decimal points.\n",
    "\n",
    "##### Hint\n",
    "The number of decimal points will adjust to the correct number when you use Decimal as shown in the example.\n",
    "\n",
    "Make sure to use quotes around the floats. Each number will need to be converted with Decimal BEFORE performing the operations."
   ]
  },
  {
   "cell_type": "code",
   "execution_count": 11,
   "metadata": {},
   "outputs": [
    {
     "name": "stdout",
     "output_type": "stream",
     "text": [
      "0.89\n",
      "0.3445\n"
     ]
    }
   ],
   "source": [
    "#Import Decimal below:\n",
    "from decimal import Decimal\n",
    "\n",
    "#Fix the floating point math below:\n",
    "two_decimal_points = Decimal(\"0.2\") + Decimal(\"0.69\")\n",
    "print(two_decimal_points)\n",
    "\n",
    "four_decimal_points = Decimal(\"0.53\") * Decimal(\"0.65\")\n",
    "print(four_decimal_points)"
   ]
  },
  {
   "cell_type": "markdown",
   "metadata": {},
   "source": [
    "## Modules Python Files and Scope\n",
    "You may remember the concept of scope from when you were learning about functions in Python. If a variable is defined inside of a function, it will not be accessible outside of the function.\n",
    "\n",
    "Scope also applies to classes and to the files you are working within.\n",
    "\n",
    "Files have scope? You may be wondering.\n",
    "\n",
    "Yes. Even files inside the same directory do not have access to each other’s variables, functions, classes, or any other code. So if I have a file sandwiches.py and another file hungry_people.py, how do I give my hungry people access to all the sandwiches I defined?\n",
    "\n",
    "Well, files are actually modules, so you can give a file access to another file’s content using that glorious import statement.\n",
    "\n",
    "With a single line of from sandwiches import sandwiches at the top of hungry_people.py, the hungry people will have all the sandwiches they could ever want."
   ]
  },
  {
   "cell_type": "markdown",
   "metadata": {},
   "source": [
    "##### 1. Tab over to library.py and define a function always_three() with no parameters that returns 3.\n",
    "\n",
    "Hint <br>\n",
    "Make sure that you define the always_three() function in library.py not in script.py\n",
    "\n",
    "##### 2. Call your always_three() function in script.py. Check out that error message you get in the output terminal and the consequences of file scope.\n",
    "\n",
    "##### 3. Resolve the error with an import statement at the top of script.py that imports your function from library. Run your code and watch import do its magic!\n",
    "\n",
    "Hint <br>\n",
    "from library import always_three"
   ]
  },
  {
   "cell_type": "code",
   "execution_count": 12,
   "metadata": {},
   "outputs": [
    {
     "ename": "SyntaxError",
     "evalue": "invalid syntax. Perhaps you forgot a comma? (Temp/ipykernel_41940/4159207565.py, line 1)",
     "output_type": "error",
     "traceback": [
      "\u001b[1;36m  File \u001b[1;32m\"C:\\Users\\asbea\\AppData\\Local\\Temp/ipykernel_41940/4159207565.py\"\u001b[1;36m, line \u001b[1;32m1\u001b[0m\n\u001b[1;33m    Import library below:\u001b[0m\n\u001b[1;37m           ^\u001b[0m\n\u001b[1;31mSyntaxError\u001b[0m\u001b[1;31m:\u001b[0m invalid syntax. Perhaps you forgot a comma?\n"
     ]
    }
   ],
   "source": [
    " Import library below:\n",
    "from library import always_three \n",
    "\n",
    "\n",
    "# Call your function below:\n",
    "always_three()"
   ]
  },
  {
   "cell_type": "markdown",
   "metadata": {},
   "source": [
    "## Modules Python Review\n",
    "You’ve learned:\n",
    "\n",
    "- what modules are and how they can be useful\n",
    "- how to use a few of the most commonly used Python libraries\n",
    "- what namespaces are and how to avoid polluting your local namespace\n",
    "- how scope works for files in Python\n",
    "\n",
    "Programmers can do great things if they are not forced to constantly reinvent tools that have already been built. With the power of modules, we can import any code that someone else has shared publicly.\n",
    "\n",
    "In this lesson, we covered some of the Python Standard Library, but you can explore all the modules that come packaged with every installation of Python at the Python Standard Library documentation.\n",
    "\n",
    "This is just the beginning. Using a package manager (like conda or pip3), you can install any modules available on the Python Package Index.\n",
    "\n",
    "The sky’s the limit!"
   ]
  }
 ],
 "metadata": {
  "interpreter": {
   "hash": "85047f2b0679bf22ef06a9dadc4440578c347e570245020debc97e919b79cb32"
  },
  "kernelspec": {
   "display_name": "Python 3.10.0 64-bit ('.venv': venv)",
   "language": "python",
   "name": "python3"
  },
  "language_info": {
   "codemirror_mode": {
    "name": "ipython",
    "version": 3
   },
   "file_extension": ".py",
   "mimetype": "text/x-python",
   "name": "python",
   "nbconvert_exporter": "python",
   "pygments_lexer": "ipython3",
   "version": "3.10.0"
  },
  "orig_nbformat": 4
 },
 "nbformat": 4,
 "nbformat_minor": 2
}
