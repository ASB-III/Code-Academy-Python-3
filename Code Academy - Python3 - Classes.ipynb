{
 "cells": [
  {
   "cell_type": "markdown",
   "metadata": {},
   "source": [
    "# INTRODUCTION TO CLASSES\n",
    "## Types\n",
    "Python equips us with many different ways to store data. A float is a different kind of number from an int, and we store different data in a list than we do in a dict. These are known as different types. We can check the type of a Python variable using the type() function."
   ]
  },
  {
   "cell_type": "code",
   "execution_count": null,
   "metadata": {},
   "outputs": [],
   "source": [
    "a_string = \"Cool String\"\n",
    "an_int = 12\n",
    " \n",
    "print(type(a_string))\n",
    "# prints \"<class 'str'>\"\n",
    " \n",
    "print(type(an_int))\n",
    "# prints \"<class 'int'>\""
   ]
  },
  {
   "cell_type": "markdown",
   "metadata": {},
   "source": [
    "Above, we defined two variables, and checked the type of these two variables. A variable’s type determines what you can do with it and how you can use it. You can’t .get() something from an integer, just as you can’t add two dictionaries together using +. This is because those operations are defined at the type level.\n",
    "\n",
    "\n",
    "#### Instructions\n",
    "##### 1. Call type() on the integer 5 and print the results.\n",
    "\n",
    "\n",
    "<b>Hint</b><br>\n",
    "You can call type() on anything. Like this dictionary!"
   ]
  },
  {
   "cell_type": "code",
   "execution_count": null,
   "metadata": {},
   "outputs": [],
   "source": [
    "type({'abc': True})"
   ]
  },
  {
   "cell_type": "markdown",
   "metadata": {},
   "source": [
    "Print the results!\n",
    "\n",
    "##### 2. Define a dictionary my_dict.\n",
    "\n",
    "##### 3. Print out the type() of my_dict.\n",
    "\n",
    "##### 4. Define a list called my_list.\n",
    "\n",
    "##### 5. Print out the type() of my_list."
   ]
  },
  {
   "cell_type": "code",
   "execution_count": null,
   "metadata": {},
   "outputs": [],
   "source": [
    "print(type(5))\n",
    "\n",
    "my_dict = {}\n",
    "\n",
    "print(type(my_dict))\n",
    "\n",
    "my_list = []\n",
    "\n",
    "print(type(my_list))"
   ]
  },
  {
   "cell_type": "markdown",
   "metadata": {},
   "source": [
    "## Class\n",
    "A class is a template for a data type. It describes the kinds of information that class will hold and how a programmer will interact with that data. Define a class using the class keyword. PEP 8 Style Guide for Python Code recommends capitalizing the names of classes to make them easier to identify.\n",
    "\n",
    "\n",
    "class CoolClass: <br>\n",
    "  pass<br>\n",
    "\n",
    "\n",
    "In the above example we created a class and named it CoolClass. We used the pass keyword in Python to indicate that the body of the class was intentionally left blank so we don’t cause an IndentationError. We’ll learn about all the things we can put in the body of a class in the next few exercises.\n",
    "\n",
    "\n",
    "#### Instructions\n",
    "##### 1. Define an empty class called Facade. We’ll chip away at it soon!"
   ]
  },
  {
   "cell_type": "code",
   "execution_count": null,
   "metadata": {},
   "outputs": [],
   "source": [
    "class Facade:\n",
    "  pass"
   ]
  },
  {
   "cell_type": "markdown",
   "metadata": {},
   "source": [
    "## Instantiation\n",
    "A class doesn’t accomplish anything simply by being defined. A class must be instantiated. In other words, we must create an instance of the class, in order to breathe life into the schematic.\n",
    "\n",
    "Instantiating a class looks a lot like calling a function. We would be able to create an instance of our defined CoolClass as follows:"
   ]
  },
  {
   "cell_type": "code",
   "execution_count": null,
   "metadata": {},
   "outputs": [],
   "source": [
    "cool_instance = CoolClass()"
   ]
  },
  {
   "cell_type": "markdown",
   "metadata": {},
   "source": [
    "Above, we created an object by adding parentheses to the name of the class. We then assigned that new instance to the variable cool_instance for safe-keeping so we can access our instance of CoolClass at a later time.\n",
    "\n",
    "#### Instructions\n",
    "##### 1. In script.py we see our Facade class from last exercise. Make a Facade instance and save it to the variable facade_1."
   ]
  },
  {
   "cell_type": "code",
   "execution_count": null,
   "metadata": {},
   "outputs": [],
   "source": [
    "class Facade:\n",
    "  pass\n",
    "\n",
    "facade_1 = Facade()"
   ]
  },
  {
   "cell_type": "markdown",
   "metadata": {},
   "source": [
    "## Object-Oriented Programming\n",
    "A class instance is also called an object. The pattern of defining classes and creating objects to represent the responsibilities of a program is known as Object Oriented Programming or OOP.\n",
    "\n",
    "Instantiation takes a class and turns it into an object, the type() function does the opposite of that. When called with an object, it returns the class that the object is an instance of."
   ]
  },
  {
   "cell_type": "code",
   "execution_count": null,
   "metadata": {},
   "outputs": [],
   "source": [
    "print(type(cool_instance))\n",
    "# prints \"<class '__main__.CoolClass'>\""
   ]
  },
  {
   "cell_type": "markdown",
   "metadata": {},
   "source": [
    "We then print out the type() of cool_instance and it shows us that this object is of type __main__.CoolClass.\n",
    "\n",
    "In Python __main__ means “this current file that we’re running” and so one could read the output from type() to mean “the class CoolClass that was defined here, in the script you’re currently running.”\n",
    "\n",
    "#### Instructions\n",
    "##### 1. In <b>script.py</b> we see facade_1 from last exercise. Try calling type() on facade_1 and saving it to the variable facade_1_type.\n",
    "\n",
    "##### 2. Print out facade_1_type."
   ]
  },
  {
   "cell_type": "code",
   "execution_count": null,
   "metadata": {},
   "outputs": [],
   "source": [
    "class Facade:\n",
    "  pass\n",
    "\n",
    "facade_1 = Facade()\n",
    "\n",
    "facade_1_type = type(facade_1)\n",
    "\n",
    "print(facade_1_type)"
   ]
  },
  {
   "cell_type": "markdown",
   "metadata": {},
   "source": [
    "## Class Variables\n",
    "When we want the same data to be available to every instance of a class we use a class variable. A class variable is a variable that’s the same for every instance of the class.\n",
    "\n",
    "You can define a class variable by including it in the indented part of your class definition, and you can access all of an object’s class variables with object.variable syntax."
   ]
  },
  {
   "cell_type": "code",
   "execution_count": null,
   "metadata": {},
   "outputs": [],
   "source": [
    "class Musician:\n",
    "  title = \"Rockstar\"\n",
    " \n",
    "drummer = Musician()\n",
    "print(drummer.title)\n",
    "# prints \"Rockstar\""
   ]
  },
  {
   "cell_type": "markdown",
   "metadata": {},
   "source": [
    "Above we defined the class Musician, then instantiated drummer to be an object of type Musician. We then printed out the drummer’s .title attribute, which is a class variable that we defined as the string “Rockstar”.\n",
    "\n",
    "If we defined another musician, like guitarist = Musician() they would have the same .title attribute.\n",
    "\n",
    "Instructions\n",
    "1.\n",
    "You are digitizing grades for Jan van Eyck High School and Conservatory. At Jan van High, as the students call it, 65 is the minimum passing grade.\n",
    "\n",
    "Create a Grade class with a class attribute minimum_passing equal to 65.\n",
    "\n",
    "\n",
    "Hint\n",
    "Class variables are defined in the body of a class definition."
   ]
  },
  {
   "cell_type": "code",
   "execution_count": null,
   "metadata": {},
   "outputs": [],
   "source": [
    "class CoolClass:\n",
    "  class_variable = True"
   ]
  },
  {
   "cell_type": "code",
   "execution_count": null,
   "metadata": {},
   "outputs": [],
   "source": [
    "class Grade:\n",
    "  minimum_passing = 65"
   ]
  },
  {
   "cell_type": "markdown",
   "metadata": {},
   "source": [
    "## Methods\n",
    "Methods are functions that are defined as part of a class. The first argument in a method is always the object that is calling the method. Convention recommends that we name this first argument self. Methods always have at least this one argument.\n",
    "\n",
    "We define methods similarly to functions, except that they are indented to be part of the class."
   ]
  },
  {
   "cell_type": "code",
   "execution_count": null,
   "metadata": {},
   "outputs": [],
   "source": [
    "class Dog:\n",
    "  dog_time_dilation = 7\n",
    " \n",
    "  def time_explanation(self):\n",
    "    print(\"Dogs experience {} years for every 1 human year.\".format(self.dog_time_dilation))\n",
    " \n",
    "pipi_pitbull = Dog()\n",
    "pipi_pitbull.time_explanation()\n",
    "# Prints \"Dogs experience 7 years for every 1 human year.\""
   ]
  },
  {
   "cell_type": "markdown",
   "metadata": {},
   "source": [
    "Above we created a Dog class with a time_explanation method that takes one argument, self, which refers to the object calling the function. We created a Dog named pipi_pitbull and called the .time_explanation() method on our new object for Pipi.\n",
    "\n",
    "Notice we didn’t pass any arguments when we called .time_explanation(), but were able to refer to self in the function body. When you call a method it automatically passes the object calling the method as the first argument.\n",
    "\n",
    "#### Instructions\n",
    "##### 1. At Jan van High, the students are constantly calling the school rules into question. Create a Rules class so that we can explain the rules.\n",
    "\n",
    "In order for your code to run, you have to have something in your class — you can’t have a defined class with no body like the following:"
   ]
  },
  {
   "cell_type": "code",
   "execution_count": null,
   "metadata": {},
   "outputs": [],
   "source": [
    "class exampleClass:"
   ]
  },
  {
   "cell_type": "markdown",
   "metadata": {},
   "source": [
    "For now, make the body of your class pass. This will allow your code to run without error.\n",
    "\n",
    "\n",
    "<b>Hint</b><br>\n",
    "Remember to create a class you need to use the class keyword.\n",
    "\n",
    "##### 2. Give Rules a method washing_brushes that returns the string\n",
    "\n",
    "\"Point bristles towards the basin while washing your brushes.\"\n",
    "Since we’ve now given this class a method, we can remove the pass that we added in the previous step.\n",
    "\n",
    "\n",
    "<b>Hint</b><br>\n",
    "Be sure to add self as a parameter when defining a method."
   ]
  },
  {
   "cell_type": "code",
   "execution_count": null,
   "metadata": {},
   "outputs": [],
   "source": [
    "class CoolClass:\n",
    "  def cool_method(self):\n",
    "    return \"Cool!\""
   ]
  },
  {
   "cell_type": "markdown",
   "metadata": {},
   "source": [
    "And use return to return the given string in your method."
   ]
  },
  {
   "cell_type": "code",
   "execution_count": null,
   "metadata": {},
   "outputs": [],
   "source": [
    "class Rules:\n",
    "  def washing_brushes(self):\n",
    "    return \"Point bristles towards the basin while washing your brushes.\""
   ]
  },
  {
   "cell_type": "markdown",
   "metadata": {},
   "source": [
    "## Methods with Arguments\n",
    "Methods can also take more arguments than just self:"
   ]
  },
  {
   "cell_type": "code",
   "execution_count": null,
   "metadata": {},
   "outputs": [],
   "source": [
    "class DistanceConverter:\n",
    "  kms_in_a_mile = 1.609\n",
    "  def how_many_kms(self, miles):\n",
    "    return miles * self.kms_in_a_mile\n",
    " \n",
    "converter = DistanceConverter()\n",
    "kms_in_5_miles = converter.how_many_kms(5)\n",
    "print(kms_in_5_miles)\n",
    "# prints \"8.045\""
   ]
  },
  {
   "cell_type": "markdown",
   "metadata": {},
   "source": [
    "Above we defined a DistanceConverter class, instantiated it, and used it to convert 5 miles into kilometers. Notice again that even though how_many_kms takes two arguments in its definition, we only pass miles, because self is implicitly passed (and refers to the object converter).\n",
    "\n",
    "#### Instructions\n",
    "##### 1. It’s March 14th (known in some places as Pi day) at Jan van High, and you’re feeling awfully festive. You decide to create a program that calculates the area of a circle.\n",
    "\n",
    "Create a Circle class with class variable pi. Set pi to the approximation 3.14.\n",
    "\n",
    "##### 2. Give Circle an area method that takes two parameters: self and radius.\n",
    "\n",
    "Return the area as given by this formula:"
   ]
  },
  {
   "cell_type": "code",
   "execution_count": null,
   "metadata": {},
   "outputs": [],
   "source": [
    "area = pi * radius ** 2"
   ]
  },
  {
   "cell_type": "markdown",
   "metadata": {},
   "source": [
    "<B>Hint</B><BR>\n",
    "Since pi is a class variable, you can access it as an attribute of the class."
   ]
  },
  {
   "cell_type": "code",
   "execution_count": null,
   "metadata": {},
   "outputs": [],
   "source": [
    "area = Circle.pi * radius ** 2"
   ]
  },
  {
   "cell_type": "markdown",
   "metadata": {},
   "source": [
    "##### 3. Create an instance of Circle. Save it into the variable circle.\n",
    "\n",
    "##### 4. You go to measure several circles you happen to find around.\n",
    "\n",
    "A medium pizza that is 12 inches across.\n",
    "Your teaching table which is 36 inches across.\n",
    "The Round Room auditorium, which is 11,460 inches across.\n",
    "You save the areas of these three things into pizza_area, teaching_table_area, and round_room_area.\n",
    "\n",
    "Remember that the radius of a circle is half the diameter. We gave three diameters here, so halve them before you calculate the given circle’s area.\n",
    "\n",
    "\n",
    "<B>Hint</B><BR>\n",
    "Given a certain diameter, calculate the area using"
   ]
  },
  {
   "cell_type": "code",
   "execution_count": null,
   "metadata": {},
   "outputs": [],
   "source": [
    "circle.area(diameter / 2)"
   ]
  },
  {
   "cell_type": "code",
   "execution_count": null,
   "metadata": {},
   "outputs": [],
   "source": [
    "class Circle:\n",
    "  pi = 3.14\n",
    "  def area(self, radius):\n",
    "    area = Circle.pi * radius ** 2\n",
    "    return area\n",
    "\n",
    "circle = Circle()\n",
    "\n",
    "pizza_area = circle.area(12 / 2)\n",
    "teaching_table_area = circle.area(36 / 2)\n",
    "round_room_area = circle.area(11460 / 2)\n",
    "\n",
    "print(pizza_area)\n",
    "print(teaching_table_area)\n",
    "print(round_room_area)"
   ]
  },
  {
   "cell_type": "markdown",
   "metadata": {},
   "source": [
    "## Constructors\n",
    "There are several methods that we can define in a Python class that have special behavior. These methods are sometimes called “magic,” because they behave differently from regular methods. Another popular term is dunder methods, so-named because they have two underscores (double-underscore abbreviated to “dunder”) on either side of them.\n",
    "\n",
    "The first dunder method we’re going to use is the __init__() method (note the two underscores before and after the word “init”). This method is used to initialize a newly created object. It is called every time the class is instantiated.\n",
    "\n",
    "Methods that are used to prepare an object being instantiated are called constructors. The word “constructor” is used to describe similar features in other object-oriented programming languages but programmers who refer to a constructor in Python are usually talking about the __init__() method."
   ]
  },
  {
   "cell_type": "code",
   "execution_count": null,
   "metadata": {},
   "outputs": [],
   "source": [
    "class Shouter:\n",
    "  def __init__(self):\n",
    "    print(\"HELLO?!\")\n",
    " \n",
    "shout1 = Shouter()\n",
    "# prints \"HELLO?!\"\n",
    " \n",
    "shout2 = Shouter()\n",
    "# prints \"HELLO?!\""
   ]
  },
  {
   "cell_type": "markdown",
   "metadata": {},
   "source": [
    "Above we created a class called Shouter and every time we create an instance of Shouter the program prints out a shout. Don’t worry, this doesn’t hurt the computer at all.\n",
    "\n",
    "Pay careful attention to the instantiation syntax we use. Shouter() looks a lot like a function call, doesn’t it? If it’s a function, can we pass parameters to it? We absolutely can, and those parameters will be received by the __init__() method."
   ]
  },
  {
   "cell_type": "code",
   "execution_count": null,
   "metadata": {},
   "outputs": [],
   "source": [
    "class Shouter:\n",
    "  def __init__(self, phrase):\n",
    "    # make sure phrase is a string\n",
    "    if type(phrase) == str:\n",
    " \n",
    "      # then shout it out\n",
    "      print(phrase.upper())\n",
    " \n",
    "shout1 = Shouter(\"shout\")\n",
    "# prints \"SHOUT\"\n",
    " \n",
    "shout2 = Shouter(\"shout\")\n",
    "# prints \"SHOUT\"\n",
    " \n",
    "shout3 = Shouter(\"let it all out\")\n",
    "# prints \"LET IT ALL OUT\""
   ]
  },
  {
   "cell_type": "markdown",
   "metadata": {},
   "source": [
    "Above we’ve updated our Shouter class to take the additional parameter phrase. When we created each of our objects we passed an argument to the constructor. The constructor takes the argument phrase and, if it’s a string, prints out the all-caps version of phrase.\n",
    "\n",
    "#### Instructions\n",
    "##### 1. Add a constructor to our Circle class.\n",
    "\n",
    "Since we seem more frequently to know the diameter of a circle, it should take the argument diameter.\n",
    "\n",
    "It doesn’t need to do anything yet, just write pass in the body of the constructor.\n",
    "\n",
    "##### 2. Now have the constructor print out the message \"New circle with diameter: {diameter}\" when a new circle is created.\n",
    "\n",
    "Create a circle teaching_table with diameter 36."
   ]
  },
  {
   "cell_type": "code",
   "execution_count": null,
   "metadata": {},
   "outputs": [],
   "source": [
    "class Circle:\n",
    "  pi = 3.14\n",
    "  \n",
    "  # Add constructor here:\n",
    "  def __init__(self, diameter):\n",
    "    print(\"New circle with diameter: {diameter}\".format(diameter=diameter))\n",
    "    \n",
    "teaching_table = Circle(36)"
   ]
  },
  {
   "cell_type": "markdown",
   "metadata": {},
   "source": [
    "## Instance Variables\n",
    "We’ve learned so far that a class is a schematic for a data type and an object is an instance of a class, but why is there such a strong need to differentiate the two if each object can only have the methods and class variables the class has? This is because each instance of a class can hold different kinds of data.\n",
    "\n",
    "The data held by an object is referred to as an instance variable. Instance variables aren’t shared by all instances of a class — they are variables that are specific to the object they are attached to.\n",
    "\n",
    "Let’s say that we have the following class definition:"
   ]
  },
  {
   "cell_type": "code",
   "execution_count": null,
   "metadata": {},
   "outputs": [],
   "source": [
    "class FakeDict:\n",
    "  pass"
   ]
  },
  {
   "cell_type": "markdown",
   "metadata": {},
   "source": [
    "We can instantiate two different objects from this class, fake_dict1 and fake_dict2, and assign instance variables to these objects using the same attribute notation that was used for accessing class variables."
   ]
  },
  {
   "cell_type": "code",
   "execution_count": null,
   "metadata": {},
   "outputs": [],
   "source": [
    "fake_dict1 = FakeDict()\n",
    "fake_dict2 = FakeDict()\n",
    " \n",
    "fake_dict1.fake_key = \"This works!\"\n",
    "fake_dict2.fake_key = \"This too!\"\n",
    " \n",
    "# Let's join the two strings together!\n",
    "working_string = \"{} {}\".format(fake_dict1.fake_key, fake_dict2.fake_key)\n",
    "print(working_string)\n",
    "# prints \"This works! This too!\""
   ]
  },
  {
   "cell_type": "markdown",
   "metadata": {},
   "source": [
    "#### Instructions\n",
    "##### 1. In script.py we have defined a Store class. Create two objects from this store class, named alternative_rocks and isabelles_ices.\n",
    "\n",
    "##### 2. Give them both instance attributes called store_name. Set alternative_rocks‘s store_name to \"Alternative Rocks\". Set isabelles_ices‘s store_name to \"Isabelle's Ices\"."
   ]
  },
  {
   "cell_type": "code",
   "execution_count": null,
   "metadata": {},
   "outputs": [],
   "source": [
    "class Store:\n",
    "  pass\n",
    "alternative_rocks = Store()\n",
    "isabelles_ices = Store()\n",
    "\n",
    "alternative_rocks.store_name = \"Alternative Rocks\"\n",
    "isabelles_ices.store_name = \"Isabelle's Ices\""
   ]
  },
  {
   "cell_type": "markdown",
   "metadata": {},
   "source": [
    "## Attribute Functions\n",
    "Instance variables and class variables are both accessed similarly in Python. This is no mistake, they are both considered attributes of an object. If we attempt to access an attribute that is neither a class variable nor an instance variable of the object Python will throw an AttributeError.b"
   ]
  },
  {
   "cell_type": "code",
   "execution_count": null,
   "metadata": {},
   "outputs": [],
   "source": [
    "class NoCustomAttributes:\n",
    "  pass\n",
    " \n",
    "attributeless = NoCustomAttributes()\n",
    " \n",
    "try:\n",
    "  attributeless.fake_attribute\n",
    "except AttributeError:\n",
    "  print(\"This text gets printed!\")\n",
    " \n",
    "# prints \"This text gets printed!\""
   ]
  },
  {
   "cell_type": "markdown",
   "metadata": {},
   "source": [
    "What if we aren’t sure if an object has an attribute or not? hasattr() will return True if an object has a given attribute and False otherwise. If we want to get the actual value of the attribute, getattr() is a Python function that will return the value of a given object and attribute. In this function, we can also supply a third argument that will be the default if the object does not have the given attribute.\n",
    "\n",
    "The syntax and parameters for these functions look like this:\n",
    "\n",
    "hasattr(object, “attribute”) has two parameters:\n",
    "\n",
    "- object : the object we are testing to see if it has a certain attribute\n",
    "- attribute : name of attribute we want to see if it exists<br>\n",
    "\n",
    "\n",
    "getattr(object, “attribute”, default) has three parameters (one of which is optional):\n",
    "\n",
    "\n",
    "- object : the object whose attribute we want to evaluate\n",
    "- attribute : name of attribute we want to evaluate\n",
    "- default : the value that is returned if the attribute does not exist (note: this parameter is optional)\n",
    "Calling those functions looks like this:"
   ]
  },
  {
   "cell_type": "markdown",
   "metadata": {},
   "source": []
  },
  {
   "cell_type": "code",
   "execution_count": null,
   "metadata": {},
   "outputs": [],
   "source": [
    "hasattr(attributeless, \"fake_attribute\")\n",
    "# returns False\n",
    " \n",
    "getattr(attributeless, \"other_fake_attribute\", 800)\n",
    "# returns 800, the default value"
   ]
  },
  {
   "cell_type": "markdown",
   "metadata": {},
   "source": [
    "Above we checked if the attributeless object has the attribute fake_attribute. Since it does not, hasattr() returned False. After that, we used getattr to attempt to retrieve other_fake_attribute. Since other_fake_attribute isn’t a real attribute on attributeless, our call to getattr() returned the supplied default value 800, instead of throwing an AttributeError.\n",
    "\n",
    "#### Instructions\n",
    "##### 1. In script.py we have a list of different data types: a dictionary, a string, an integer, and a list all saved in the variable can_we_count_it.\n",
    "\n",
    "For every element in the list, check if the element has the attribute count using the hasattr() function. If so, print the following line of code:"
   ]
  },
  {
   "cell_type": "code",
   "execution_count": null,
   "metadata": {},
   "outputs": [],
   "source": [
    "print(str(type(element)) + \" has the count attribute!\")"
   ]
  },
  {
   "cell_type": "markdown",
   "metadata": {},
   "source": [
    "<B>Hint</b><br>\n",
    "Try something like this:"
   ]
  },
  {
   "cell_type": "code",
   "execution_count": null,
   "metadata": {},
   "outputs": [],
   "source": [
    "for element in list_of_things:\n",
    "  if hasattr(element, \"special_method\"):\n",
    "    # print statment given in instructions"
   ]
  },
  {
   "cell_type": "markdown",
   "metadata": {},
   "source": [
    "##### 2. Now let’s add an else statement for the elements that do not have the attribute count. In this else statement add the following line of code:"
   ]
  },
  {
   "cell_type": "code",
   "execution_count": null,
   "metadata": {},
   "outputs": [],
   "source": [
    "print(str(type(element)) + \" does not have the count attribute :(\")\n"
   ]
  },
  {
   "cell_type": "markdown",
   "metadata": {},
   "source": [
    "<b>Hint</b><br>\n",
    "your else statement should look like this:"
   ]
  },
  {
   "cell_type": "code",
   "execution_count": null,
   "metadata": {},
   "outputs": [],
   "source": [
    "else:\n",
    "  print(str(type(element)) + \" does not have the count attribute :(\")"
   ]
  },
  {
   "cell_type": "markdown",
   "metadata": {},
   "source": [
    "##### 3. Let’s go over the terminal output of the past two instructions. You should see the following output in your terminal right now:"
   ]
  },
  {
   "cell_type": "code",
   "execution_count": null,
   "metadata": {},
   "outputs": [],
   "source": [
    "<class 'dict'> does not have the count attribute :(\n",
    "<class 'str'> has the count attribute!\n",
    "<class 'int'> does not have the count attribute :(\n",
    "<class 'list'> has the count attribute!"
   ]
  },
  {
   "cell_type": "markdown",
   "metadata": {},
   "source": [
    "This is because dictionaries and integers both do not have a count attribute, while strings and lists do. In this exercise, we have iterated through can_we_count_it and used hasattr() to determine which elements have a count attribute. We never actually used the count method, but you can read more about it here if you are curious about what it is.\n",
    "\n",
    "Click run to move onto the next exercise!"
   ]
  },
  {
   "cell_type": "code",
   "execution_count": null,
   "metadata": {},
   "outputs": [],
   "source": [
    "can_we_count_it = [{'s': False}, \"sassafrass\", 18, [\"a\", \"c\", \"s\", \"d\", \"s\"]]\n",
    "for element in can_we_count_it:\n",
    "  if hasattr(element, 'count'):\n",
    "      print(str(type(element)) + \" has the count attribute!\")\n",
    "  else:\n",
    "      print(str(type(element)) + \" does not have the count attribute :(\")"
   ]
  },
  {
   "cell_type": "markdown",
   "metadata": {},
   "source": [
    "## Self\n",
    "Since we can already use dictionaries to store key-value pairs, using objects for that purpose is not really useful. Instance variables are more powerful when you can guarantee a rigidity to the data the object is holding.\n",
    "\n",
    "This convenience is most apparent when the constructor creates the instance variables, using the arguments passed in to it. If we were creating a search engine, and we wanted to create classes for each separate entry we could return. We’d do that like this:"
   ]
  },
  {
   "cell_type": "code",
   "execution_count": null,
   "metadata": {},
   "outputs": [],
   "source": [
    "class SearchEngineEntry:\n",
    "  def __init__(self, url):\n",
    "    self.url = url\n",
    " \n",
    "codecademy = SearchEngineEntry(\"www.codecademy.com\")\n",
    "wikipedia = SearchEngineEntry(\"www.wikipedia.org\")\n",
    " \n",
    "print(codecademy.url)\n",
    "# prints \"www.codecademy.com\"\n",
    " \n",
    "print(wikipedia.url)\n",
    "# prints \"www.wikipedia.org\""
   ]
  },
  {
   "cell_type": "markdown",
   "metadata": {},
   "source": [
    "Since the self keyword refers to the object and not the class being called, we can define a secure method on the SearchEngineEntry class that returns the secure link to an entry."
   ]
  },
  {
   "cell_type": "code",
   "execution_count": null,
   "metadata": {},
   "outputs": [],
   "source": [
    "class SearchEngineEntry:\n",
    "  secure_prefix = \"https://\"\n",
    "  def __init__(self, url):\n",
    "    self.url = url\n",
    " \n",
    "  def secure(self):\n",
    "    return \"{prefix}{site}\".format(prefix=self.secure_prefix, site=self.url)\n",
    " \n",
    "codecademy = SearchEngineEntry(\"www.codecademy.com\")\n",
    "wikipedia = SearchEngineEntry(\"www.wikipedia.org\")\n",
    " \n",
    "print(codecademy.secure())\n",
    "# prints \"https://www.codecademy.com\"\n",
    " \n",
    "print(wikipedia.secure())\n",
    "# prints \"https://www.wikipedia.org\""
   ]
  },
  {
   "cell_type": "markdown",
   "metadata": {},
   "source": [
    "Above we define our secure() method to take just the one required argument, self. We access both the class variable self.secure_prefix and the instance variable self.url to return a secure URL.\n",
    "\n",
    "This is the strength of writing object-oriented programs. We can write our classes to structure the data that we need and write methods that will interact with that data in a meaningful way.\n",
    "\n",
    "#### Instructions\n",
    "##### 1. In script.py you’ll find our familiar friend, the Circle class.\n",
    "\n",
    "Even though we usually know the diameter beforehand, what we need for most calculations is the radius.\n",
    "\n",
    "In Circle‘s constructor set the instance variable self.radius to equal half the diameter that gets passed in.\n",
    "\n",
    "##### 2. Define three Circles with three different diameters.\n",
    "\n",
    "A medium pizza, medium_pizza, that is 12 inches across.\n",
    "Your teaching table, teaching_table, which is 36 inches across.\n",
    "The Round Room auditorium, round_room, which is 11,460 inches across.\n",
    "##### 3. Define a new method circumference for your circle object that takes only one argument, self, and returns the circumference of a circle with the given radius by this formula:"
   ]
  },
  {
   "cell_type": "code",
   "execution_count": null,
   "metadata": {},
   "outputs": [],
   "source": [
    "circumference = 2 * pi * radius"
   ]
  },
  {
   "cell_type": "markdown",
   "metadata": {},
   "source": [
    "Hint\n",
    "Remember to use self to refer to class and instance variables in a method."
   ]
  },
  {
   "cell_type": "code",
   "execution_count": null,
   "metadata": {},
   "outputs": [],
   "source": [
    "2 * self.pi * self.radius"
   ]
  },
  {
   "cell_type": "markdown",
   "metadata": {},
   "source": [
    "##### 4. Print out the circumferences of medium_pizza, teaching_table, and round_room."
   ]
  },
  {
   "cell_type": "code",
   "execution_count": null,
   "metadata": {},
   "outputs": [],
   "source": [
    "class Circle:\n",
    "  pi = 3.14\n",
    "  def __init__(self, diameter):\n",
    "    print(\"Creating circle with diameter {d}\".format(d=diameter))\n",
    "    # Add assignment for self.radius here:\n",
    "    \n",
    "    self.radius = diameter / 2\n",
    "    \n",
    "  def circumference(self):\n",
    "    return 2 * self.pi * self.radius\n",
    "  \n",
    "medium_pizza = Circle(12)\n",
    "teaching_table = Circle(36)\n",
    "round_room = Circle(11460)\n",
    "\n",
    "print(medium_pizza.circumference())\n",
    "print(teaching_table.circumference())\n",
    "print(round_room.circumference())"
   ]
  },
  {
   "cell_type": "markdown",
   "metadata": {},
   "source": [
    "## Everything is an Object\n",
    "Attributes can be added to user-defined objects after instantiation, so it’s possible for an object to have some attributes that are not explicitly defined in an object’s constructor. We can use the dir() function to investigate an object’s attributes at runtime. dir() is short for directory and offers an organized presentation of object attributes."
   ]
  },
  {
   "cell_type": "markdown",
   "metadata": {},
   "source": [
    "class FakeDict:\n",
    "  pass\n",
    " \n",
    "fake_dict = FakeDict()\n",
    "fake_dict.attribute = \"Cool\"\n",
    " \n",
    "dir(fake_dict)\n",
    "# Prints ['__class__', '__delattr__', '__dict__', '__dir__', '__doc__', '__eq__', '__format__', '__ge__', '__getattribute__', '__gt__', '__hash__', '__init__()', '__init_subclass__', '__le__', '__lt__', '__module__', '__ne__', '__new__', '__reduce__', '__reduce_ex__', '__repr__', '__setattr__', '__sizeof__', '__str__', '__subclasshook__', '__weakref__', 'attribute']"
   ]
  },
  {
   "cell_type": "markdown",
   "metadata": {},
   "source": [
    "That’s certainly a lot more attributes than we defined! Python automatically adds a number of attributes to all objects that get created. These internal attributes are usually indicated by double-underscores. But sure enough, attribute is in that list.\n",
    "\n",
    "Do you remember being able to use type() on Python’s native data types? This is because they are also objects in Python. Their classes are int, float, str, list, and dict. These Python classes have special syntax for their instantiation, 1, 1.0, \"hello\", [], and {} specifically. But these instances are still full-blown objects to Python."
   ]
  },
  {
   "cell_type": "code",
   "execution_count": null,
   "metadata": {},
   "outputs": [],
   "source": [
    "fun_list = [10, \"string\", {'abc': True}]\n",
    " \n",
    "type(fun_list)\n",
    "# Prints <class 'list'>\n",
    " \n",
    "dir(fun_list)\n",
    "# Prints ['__add__', '__class__', [...], 'append', 'clear', 'copy', 'count', 'extend', 'index', 'insert', 'pop', 'remove', 'reverse', 'sort']"
   ]
  },
  {
   "cell_type": "markdown",
   "metadata": {},
   "source": [
    "Above we define a new list. We check it’s type and see that’s an instantiation of class list. We use dir() to explore its attributes, and it gives us a large number of internal Python dunder attributes, but, afterward, we get the usual list methods.\n",
    "\n",
    "#### Instructions\n",
    "##### 1. Call dir() on the number 5. Print out the results.\n",
    "\n",
    "\n",
    "<b>Hint</b><br>\n",
    "Print the results from calling dir(5).\n",
    "\n",
    "##### 2. Define a function called this_function_is_an_object. It can take any parameters and return anything you’d like.\n",
    "\n",
    "##### 3. Print out the result of calling dir() on this_function_is_an_object.\n",
    "\n",
    "Functions are objects too!"
   ]
  },
  {
   "cell_type": "code",
   "execution_count": null,
   "metadata": {},
   "outputs": [],
   "source": [
    "dir(5)\n",
    "#print(dir(5))\n",
    "\n",
    "def this_function_is_an_object():\n",
    "  return\n",
    "\n",
    "print(dir(this_function_is_an_object))\n",
    "\n"
   ]
  },
  {
   "cell_type": "markdown",
   "metadata": {},
   "source": [
    "## String Representation\n",
    "One of the first things we learn as programmers is how to print out information that we need for debugging. Unfortunately, when we print out an object we get a default representation that seems fairly useless."
   ]
  },
  {
   "cell_type": "code",
   "execution_count": null,
   "metadata": {},
   "outputs": [],
   "source": [
    "class Employee():\n",
    "  def __init__(self, name):\n",
    "    self.name = name\n",
    " \n",
    "argus = Employee(\"Argus Filch\")\n",
    "print(argus)\n",
    "# prints \"<__main__.Employee object at 0x104e88390>\""
   ]
  },
  {
   "cell_type": "markdown",
   "metadata": {},
   "source": [
    "This default string representation gives us some information, like where the class is defined and our computer’s memory address where this object is stored, but is usually not useful information to have when we are trying to debug our code.\n",
    "\n",
    "We learned about the dunder method __init__(). Now, we will learn another dunder method called __repr__(). This is a method we can use to tell Python what we want the string representation of the class to be. __repr__() can only have one parameter, self, and must return a string.\n",
    "\n",
    "In our Employee class above, we have an instance variable called name that should be unique enough to be useful when we’re printing out an instance of the Employee class."
   ]
  },
  {
   "cell_type": "code",
   "execution_count": null,
   "metadata": {},
   "outputs": [],
   "source": [
    "class Employee():\n",
    "  def __init__(self, name):\n",
    "    self.name = name\n",
    " \n",
    "  def __repr__(self):\n",
    "    return self.name\n",
    " \n",
    "argus = Employee(\"Argus Filch\")\n",
    "print(argus)\n",
    "# prints \"Argus Filch\""
   ]
  },
  {
   "cell_type": "markdown",
   "metadata": {},
   "source": [
    "We implemented the __repr__() method and had it return the .name attribute of the object. When we printed the object out it simply printed the .name of the object! Cool!\n",
    "\n",
    "#### Instructions\n",
    "##### 1. Add a __repr__() method to the Circle class that returns"
   ]
  },
  {
   "cell_type": "code",
   "execution_count": null,
   "metadata": {},
   "outputs": [],
   "source": [
    "Circle with radius {radius}"
   ]
  },
  {
   "cell_type": "markdown",
   "metadata": {},
   "source": [
    "##### 2. Print out medium_pizza, teaching_table, and round_room."
   ]
  },
  {
   "cell_type": "code",
   "execution_count": null,
   "metadata": {},
   "outputs": [],
   "source": [
    "class Circle:\n",
    "  pi = 3.14\n",
    "  \n",
    "  def __init__(self, diameter):\n",
    "    self.radius = diameter / 2\n",
    "  \n",
    "  def area(self):\n",
    "    return self.pi * self.radius ** 2\n",
    "  \n",
    "  def circumference(self):\n",
    "    return self.pi * 2 * self.radius\n",
    "  \n",
    "  def __repr__(self):\n",
    "    return \"Circle with radius {radius}\".format(radius=self.radius)\n",
    "\n",
    "medium_pizza = Circle(12)\n",
    "teaching_table = Circle(36)\n",
    "round_room = Circle(11460)\n",
    "\n",
    "print(medium_pizza)\n",
    "print(teaching_table)\n",
    "print(round_room)"
   ]
  },
  {
   "cell_type": "markdown",
   "metadata": {},
   "source": [
    "## Review\n",
    "So far we’ve covered what a data type actually is in Python. We explored what the functionality of Python’s built-in types (also referred to as primitives) are. We learned how to create our own data types using the class keyword.\n",
    "\n",
    "We explored the relationship between a class and an object — we create objects when we instantiate a class, we find the class when we check the type() of an object. We learned the difference between class variables (the same for all objects of a class) and instance variables (unique for each object).\n",
    "\n",
    "We learned about how to define an object’s functionality with methods. We created multiple objects from the same class, all with similar functionality, but with different internal data. They all had the same methods, but produced different output because they were different instances.\n",
    "\n",
    "Take a moment to congratulate yourself, object-oriented programming is a complicated concept.\n",
    "\n",
    "#### Instructions\n",
    "##### 1. Define a class Student this will be our data model at Jan van Eyck High School and Conservatory.\n",
    "\n",
    "##### 2. Add a constructor for Student. Have the constructor take in two parameters: a name and a year. Save those two as attributes .name and .year.\n",
    "\n",
    "<b>Hint</b><br>\n",
    "\n",
    "Create a constructor by defining the method __init__(). Make sure it takes three arguments: self, name, and year."
   ]
  },
  {
   "cell_type": "code",
   "execution_count": null,
   "metadata": {},
   "outputs": [],
   "source": [
    "class CoolClass:\n",
    "  def __init__(self, param1):\n",
    "    self.attr1 = param1"
   ]
  },
  {
   "cell_type": "markdown",
   "metadata": {},
   "source": [
    "##### 3. Create three instances of the Student class:\n",
    "\n",
    "- Roger van der Weyden, year 10\n",
    "- Sandro Botticelli, year 12\n",
    "- Pieter Bruegel the Elder, year 8<br>\n",
    "Save them into the variables roger, sandro, and pieter.\n",
    "\n",
    "\n",
    "<b>Hint</b><br>\n",
    "Create an instance by passing arguments to the class constructor."
   ]
  },
  {
   "cell_type": "markdown",
   "metadata": {},
   "source": []
  },
  {
   "cell_type": "code",
   "execution_count": null,
   "metadata": {},
   "outputs": [],
   "source": [
    "cool_object = CoolClass(cool_arg1, cool_arg2)"
   ]
  },
  {
   "cell_type": "markdown",
   "metadata": {},
   "source": [
    "##### 4. Create a Grade class, with minimum_passing as an attribute set to 65.\n",
    "\n",
    "##### 5. Give Grade a constructor. Take in a parameter score and assign it to self.score.\n",
    "\n",
    "##### 6. In the body of the constructor for Student, declare self.grades as an empty list.\n",
    "\n",
    "##### 7. Add an .add_grade() method to Student that takes a parameter, grade.\n",
    "\n",
    ".add_grade() should verify that grade is of type Grade and if so, add it to the Student‘s .grades.\n",
    "\n",
    "If grade isn’t an instance of Grade then .add_grade() should do nothing.\n",
    "\n",
    "\n",
    "<b>Hint</b><br>\n",
    "Remember you can check an object’s type using the type() function."
   ]
  },
  {
   "cell_type": "code",
   "execution_count": null,
   "metadata": {},
   "outputs": [],
   "source": [
    "if type(cool_object) == CoolClass:\n",
    " do_something"
   ]
  },
  {
   "cell_type": "markdown",
   "metadata": {},
   "source": [
    "##### 8. Create a new Grade with a score of 100 and add it to pieter‘s .grades attribute using .add_grade().\n",
    "\n",
    "##### 9. Great job! You’ve created two classes and defined their interactions. This is object-oriented programming! From here you could:\n",
    "\n",
    "- Write a Grade method .is_passing() that returns whether a Grade has a passing .score.\n",
    "- Write a Student method get_average() that returns the student’s average score.\n",
    "- Add an instance variable to Student that is a dictionary called .attendance, with dates as keys and booleans as values that indicate whether the student attended school that day.\n",
    "- Write your own classes to do whatever logic you want!"
   ]
  },
  {
   "cell_type": "code",
   "execution_count": null,
   "metadata": {},
   "outputs": [],
   "source": [
    "class Student:\n",
    "  def __init__(self, name, year):\n",
    "    self.name = name\n",
    "    self.year = year\n",
    "    self.grades = []\n",
    "  \n",
    "  def add_grade(self, grade):\n",
    "    if type(grade) == Grade:\n",
    "      self.grades.append(grade)\n",
    "\n",
    "class Grade:\n",
    "  minimum_passing = 65\n",
    "\n",
    "  def __init__(self, score):\n",
    "    self.score = score\n",
    "\n",
    "roger = Student(\"Roger van der Weyden\", 10)\n",
    "sandro = Student(\"Sandro Botticelli\", 12)\n",
    "pieter = Student(\"Pieter Bruegel the Elder\", 8)\n",
    "pieter.add_grade(Grade(100))\n"
   ]
  }
 ],
 "metadata": {
  "interpreter": {
   "hash": "79435cfcbd76b1528bba00a84eb046d19295a161f953d7f2d2d8d04ffa2592c8"
  },
  "kernelspec": {
   "display_name": "Python 3.10.0 64-bit (windows store)",
   "language": "python",
   "name": "python3"
  },
  "language_info": {
   "codemirror_mode": {
    "name": "ipython",
    "version": 3
   },
   "file_extension": ".py",
   "mimetype": "text/x-python",
   "name": "python",
   "nbconvert_exporter": "python",
   "pygments_lexer": "ipython3",
   "version": "3.10.0"
  },
  "orig_nbformat": 4
 },
 "nbformat": 4,
 "nbformat_minor": 2
}
