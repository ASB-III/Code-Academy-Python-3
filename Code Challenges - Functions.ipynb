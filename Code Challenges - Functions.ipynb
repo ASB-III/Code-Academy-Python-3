{
 "cells": [
  {
   "cell_type": "markdown",
   "metadata": {},
   "source": [
    "# Python Code Challenges: Functions\n",
    "### Python Code Challenges involving functions.\n",
    "\n",
    "This article will help you review Python functions by providing some code challenges.\n",
    "\n",
    "Some of these challenges are difficult! Take some time to think about them before starting to code.\n",
    "\n",
    "You might not get the solution correct on your first try — look at your output, try to find where you’re going wrong, and iterate on your solution.\n",
    "\n",
    "Finally, if you get stuck, use our solution code! If you “Check Answer” twice with an incorrect solution, you should see an option to get our solution code. However, truly investigate that solution — experiment and play with the solution code until you have a good grasp of how it is working. Good luck!"
   ]
  },
  {
   "cell_type": "markdown",
   "metadata": {},
   "source": [
    "## Function Syntax\n",
    "As a refresher, function syntax looks like this:"
   ]
  },
  {
   "cell_type": "code",
   "execution_count": null,
   "metadata": {},
   "outputs": [],
   "source": [
    "def some_function(some_input1, some_input2):\n",
    "  # … do something with the inputs …\n",
    "  return output"
   ]
  },
  {
   "cell_type": "markdown",
   "metadata": {},
   "source": [
    "For example, a function that returns the sum of the first and last elements of a given list might look like this:"
   ]
  },
  {
   "cell_type": "code",
   "execution_count": null,
   "metadata": {},
   "outputs": [],
   "source": [
    "def first_plus_last(lst):\n",
    "  return lst[0] + lst[-1]"
   ]
  },
  {
   "cell_type": "markdown",
   "metadata": {},
   "source": [
    "And this would produce output like:"
   ]
  },
  {
   "cell_type": "code",
   "execution_count": null,
   "metadata": {},
   "outputs": [],
   "source": [
    "\n",
    ">>> first_plus_last([1, 2, 3, 4])\n",
    "5\n",
    ">>> first_plus_last([8, 2, 5, -8])\n",
    "0\n",
    ">>> first_plus_last([-10, 2, 3, -4])\n",
    "-14"
   ]
  },
  {
   "cell_type": "markdown",
   "metadata": {},
   "source": [
    "## Challenges\n",
    "We’ve included 5 challenges below. Try to answer all of them and polish up your problem-solving skills and your function expertise."
   ]
  },
  {
   "cell_type": "markdown",
   "metadata": {},
   "source": [
    "## 1. Tenth Power\n",
    "Let’s create some functions which can help us solve math problems! For this first function, we are going to take the tenth power of a number. In order to do this we need to do three things:\n",
    "\n",
    "1. Set up the function header for tenth_power which accepts one parameter\n",
    "2. Take the tenth power of the input value\n",
    "3. Return the result\n",
    "Code Challenge\n",
    "Write a function named tenth_power() that has one parameter named num.\n",
    "\n",
    "The function should return num raised to the 10th power.\n",
    "\n",
    "Hint\n",
    "Remember to use def when defining the function. To take the power of a value, you can use the power operator **. For example, two to the power of five would look like: 2 ** 5."
   ]
  },
  {
   "cell_type": "code",
   "execution_count": null,
   "metadata": {},
   "outputs": [],
   "source": [
    "# Write your tenth_power function here:\n",
    "def tenth_power(num):\n",
    "  return num ** 10\n",
    "# Uncomment these function calls to test your tenth_power function:\n",
    "print(tenth_power(1))\n",
    "# 1 to the 10th power is 1\n",
    "print(tenth_power(0))\n",
    "# 0 to the 10th power is 0\n",
    "print(tenth_power(2))\n",
    "# 2 to the 10th power is 1024"
   ]
  },
  {
   "cell_type": "markdown",
   "metadata": {},
   "source": [
    "This is one way to solve this problem using two lines of code.\n",
    "\n",
    "The first line is the function header which uses def to define the function followed by the function name. Within the parentheses we include num which is our formal parameter. Because of this, num is the variable name for the value we pass into this function.\n",
    "\n",
    "On our next line, we use return to show that this function is going to return a value when it is called. Next to the return keyword, we define what value is going to be returned. Since we need the tenth power of our input value, we can use the power operator in python which is **. Using this knowledge, in order to get the tenth power of our input value, we use num ** 10."
   ]
  },
  {
   "cell_type": "markdown",
   "metadata": {},
   "source": [
    "## 2. Square Root\n",
    "Another useful function for solving math problems is the square root function. We can create this using similar steps from the last problem. The code will look very similar. We need to:\n",
    "\n",
    "1. Set up the function header for square_root which accepts one parameter\n",
    "2. Take the square root of the input value\n",
    "3. Return the result\n",
    "Code Challenge\n",
    "Write a function named square_root() that has one parameter named num.\n",
    "\n",
    "Use exponents (**) to return the square root of num.\n",
    "\n",
    "Hint\n",
    "Remember to use def when defining the function. To take the square root of a value, you can use the power operator **. The square root of a number is the same as taking the ½ power of the number. For example, the square root of 6 would look like: 6 ** 0.5."
   ]
  },
  {
   "cell_type": "code",
   "execution_count": null,
   "metadata": {},
   "outputs": [],
   "source": [
    "# Write your square_root function here:\n",
    "def square_root(num):\n",
    "  return num ** 0.5\n",
    "# Uncomment these function calls to test your square_root function:\n",
    "print(square_root(16))\n",
    "# should print 4\n",
    "print(square_root(100))\n",
    "# should print 10"
   ]
  },
  {
   "cell_type": "markdown",
   "metadata": {},
   "source": [
    "As you can see, this solution is very similar to the last problem. In this case, the only changes we need are the function name and changing the power value to 0.5. We define the function called square_root with one parameter. We then take the one half power of the input value which is mathematically the same as taking the square root and return it."
   ]
  },
  {
   "cell_type": "markdown",
   "metadata": {},
   "source": [
    "## 3. Win Percentage\n",
    "Next, we will create a function which calculates the percentage of games won. In order to do this, we will need to know how many total games there were and divide the number of wins by the total number of games. For this function, there will be two input parameters, the number of wins and the number of losses. We also need to make sure that we return the result as a percentage (in the range of 0 to 100). In order to create this method we need the following steps:\n",
    "\n",
    "1. Define the function header with two parameters, wins and losses\n",
    "2. Calculate the total number of games using the number of wins and losses\n",
    "3. Get the ratio of winning using the number of wins out of the total number of games.\n",
    "4. Convert the ratio to a percentage\n",
    "5. Return the percentage\n",
    "Code Challenge\n",
    "Create a function called win_percentage() that takes two parameters named wins and losses.\n",
    "\n",
    "This function should return out the total percentage of games won by a team based on these two numbers.\n",
    "\n",
    "Hint\n",
    "In order to calculate the ratio of wins out of total games we can use wins / (wins + losses) where wins + losses is equal to the total number of games. To convert that value to a percentage, multiply it by 100."
   ]
  },
  {
   "cell_type": "code",
   "execution_count": null,
   "metadata": {},
   "outputs": [],
   "source": [
    "# Write your win_percentage function here:\n",
    "def win_percentage(wins, losses):\n",
    "  total_games = wins + losses\n",
    "  win_ratio = wins / total_games\n",
    "  win_percentage = win_ratio * 100\n",
    "  return win_percentage\n",
    "\n",
    "# Uncomment these function calls to test your win_percentage function:\n",
    "print(win_percentage(5, 5))\n",
    "# should print 50\n",
    "print(win_percentage(10, 0))\n",
    "# should print 100"
   ]
  },
  {
   "cell_type": "markdown",
   "metadata": {},
   "source": [
    "First, we defined our function with two parameters, one for games won and one for games lost. Next, we calculated the total number of games using the number of wins + losses. After that, we use calculate the ratio of wins out of the total number of games by dividing wins by our total_games variable. Since this gives us a ratio and we want it in percentage form, we multiply the answer by 100 and return it."
   ]
  },
  {
   "cell_type": "markdown",
   "metadata": {},
   "source": [
    "## 4. Average\n",
    "Let’s create a function which takes the average of two numbers. These two numbers will be the input of the function and the output will be the average of the two. In order to do this, we need to do a few steps:\n",
    "\n",
    "1. Define the function with two input parameters, num1 and num2\n",
    "2. Calculate the sum of the two numbers\n",
    "3. Divide the sum by the number of inputs to the function\n",
    "4. Return the answer\n",
    "\n",
    "Code Challenge\n",
    "Write a function named average() that has two parameters named num1 and num2.\n",
    "\n",
    "The function should return the average of these two numbers.\n",
    "\n",
    "Hint\n",
    "To calculate the average of two numbers we add the first and second number, then divide the result by 2: (first + second) / 2"
   ]
  },
  {
   "cell_type": "code",
   "execution_count": null,
   "metadata": {},
   "outputs": [],
   "source": [
    "# Write your average function here:\n",
    "def average(num1, num2):\n",
    "  return (num1 + num2) / 2\n",
    "# Uncomment these function calls to test your average function:\n",
    "print(average(1, 100))\n",
    "# The average of 1 and 100 is 50.5\n",
    "print(average(1, -1))\n",
    "# The average of 1 and -1 is 0"
   ]
  },
  {
   "cell_type": "markdown",
   "metadata": {},
   "source": [
    "In this solution, we defined the function with two parameters one line and returned the average on the next line. When returning the value, we used parentheses around the addition to cause the two numbers to be added together first before dividing by two."
   ]
  },
  {
   "cell_type": "markdown",
   "metadata": {},
   "source": [
    "## 5. Remainder\n",
    "For the final challenge in this group, we are going to take the remainder of two numbers while performing other mathematical operations on them. We are going to multiply the numerator by 2 and divide the denominator by 2. After the two values have been modified, we will divide them and return the remainder. In order to do this we will need to:\n",
    "\n",
    "1. Define the function to accept two parameters\n",
    "2. Multiply the first input value by 2\n",
    "3. Divide the second input value by 2\n",
    "4. Calculate the remainder of the modified first input value divided by the modified second input value (using modulus)\n",
    "5. Return the answer\n",
    "Code Challenge\n",
    "Write a function named remainder() that has two parameters named num1 and num2.\n",
    "\n",
    "The function should return the remainder of twice num1 divided by half of num2.\n",
    "\n",
    "Hint\n",
    "In order to calculate the remainder of two numbers, we can use the modulus operator %. For example, the remainder of 5 divided by 2 is equal to 1 and we can get this result using 5 % 2."
   ]
  },
  {
   "cell_type": "code",
   "execution_count": null,
   "metadata": {},
   "outputs": [],
   "source": [
    "# Write your remainder function here:\n",
    "def remainder(num1, num2):\n",
    "  return (2 * num1) % (num2 /2)\n",
    "# Uncomment these function calls to test your remainder function:\n",
    "print(remainder(15, 14))\n",
    "# should print 2\n",
    "print(remainder(9, 6))\n",
    "# should print 0"
   ]
  },
  {
   "cell_type": "markdown",
   "metadata": {},
   "source": [
    "Our solution It shortened to use only two lines of code. The first line defines the function with two input parameters. The second line performs the two mathematical operations on either side of the modulus within parenthesis. This causes the two calculations to be performed before taking the remainder of the left side divided by the right side."
   ]
  },
  {
   "cell_type": "markdown",
   "metadata": {},
   "source": [
    "# Python Code Challenges: Functions (Advanced)\n",
    "### Difficult Python Code Challenges involving Functions\n",
    "\n",
    "This article will help you review Python functions by providing some code challenges involving functions.\n",
    "\n",
    "Some of these challenges are difficult! Take some time to think about them before starting to code.\n",
    "\n",
    "You might not get the solution correct on your first try — look at your output, try to find where you’re going wrong, and iterate on your solution.\n",
    "\n",
    "Finally, if you get stuck, use our solution code! If you “Check Answer” twice with an incorrect solution, you should see an option to get our solution code. However, truly investigate that solution — experiment and play with the solution code until you have a good grasp of how it is working. Good luck!\n",
    "\n",
    "## Function Syntax\n",
    "As a refresher, function syntax looks like this:"
   ]
  },
  {
   "cell_type": "code",
   "execution_count": null,
   "metadata": {},
   "outputs": [],
   "source": [
    "def some_function(some_input1, some_input2):\n",
    "  # … do something with the inputs …\n",
    "  return output"
   ]
  },
  {
   "cell_type": "markdown",
   "metadata": {},
   "source": [
    "For example, a function that returns the sum of the first and last elements of a given list might look like this:"
   ]
  },
  {
   "cell_type": "code",
   "execution_count": null,
   "metadata": {},
   "outputs": [],
   "source": [
    "def first_plus_last(lst):\n",
    "  return lst[0] + lst[-1]"
   ]
  },
  {
   "cell_type": "markdown",
   "metadata": {},
   "source": [
    "And this would produce output like:"
   ]
  },
  {
   "cell_type": "code",
   "execution_count": null,
   "metadata": {},
   "outputs": [],
   "source": [
    ">>> first_plus_last([1, 2, 3, 4])\n",
    "5\n",
    ">>> first_plus_last([8, 2, 5, -8])\n",
    "0\n",
    ">>> first_plus_last([-10, 2, 3, -4])\n",
    "-14"
   ]
  },
  {
   "cell_type": "markdown",
   "metadata": {},
   "source": [
    "## Challenges\n",
    "We’ve included 5 challenges below. Try to answer all of them and polish up your problem-solving skills!"
   ]
  },
  {
   "cell_type": "markdown",
   "metadata": {},
   "source": [
    "## 1. First Three Multiples\n",
    "Let’s start by creating a function which both prints and returns values. For this function, we are going to print out the first three multiples of a number and return the third multiple. This means that we are going to print 1, 2, and 3 times the input number and then return the value of 3 times the input number. For this, we are going to need a few steps:\n",
    "\n",
    "1. Define the function header to accept one input parameter called num\n",
    "2. Print out 1 times num\n",
    "3. Print out 2 times num\n",
    "4. Print out 3 times num\n",
    "5. Return the value of 3 times num\n",
    "\n",
    "Code Challenge\n",
    "Write a function named first_three_multiples() that has one parameter named num.\n",
    "\n",
    "This function should print the first three multiples of num. Then, it should return the third multiple.\n",
    "\n",
    "For example, first_three_multiples(7) should print 7, 14, and 21 on three different lines, and return 21.\n",
    "\n",
    "Hint\n",
    "For this function, we need to print() out the results of each multiplication * then return a single value. For example, printing the result of 3 times 5 would look like print(3 * 5) and returning it would look like return 3 * 5."
   ]
  },
  {
   "cell_type": "code",
   "execution_count": null,
   "metadata": {},
   "outputs": [],
   "source": [
    " Write your first_three_multiples function here\n",
    "def first_three_multiples(num):\n",
    "  print(num)\n",
    "  print(num * 2)\n",
    "  print(num * 3)\n",
    "  return num * 3\n",
    "\n",
    "# Uncomment these function calls to test your first_three_multiples function:\n",
    "first_three_multiples(10)\n",
    "# should print 10, 20, 30, and return 30\n",
    "first_three_multiples(0)\n",
    "# should print 0, 0, 0, and return 0"
   ]
  },
  {
   "cell_type": "markdown",
   "metadata": {},
   "source": [
    "In this solution, we start by defining the function header with an input. We then use the next three lines to print the result of multiplying the input value by one, two, and three. Finally, we return the result of multiplying the input value by 3."
   ]
  },
  {
   "cell_type": "markdown",
   "metadata": {},
   "source": [
    "## 2. Tip\n",
    "Let’s say we are going to a restaurant and we decide to leave a tip. We can create a function to easily calculate the amount to tip based on the total cost of the food and a percentage. This function will accept both of those values as inputs and return the amount of money to tip. In order to do this, we will need a few steps:\n",
    "\n",
    "Define the function to accept the total cost of the food called total and the percentage to tip as percentage\n",
    "Calculate the tip amount by multiplying the total and percentage and dividing by 100\n",
    "Return the tip amount\n",
    "Code Challenge\n",
    "Create a function called tip() that has two parameters named total and percentage.\n",
    "\n",
    "This function should return the amount you should tip given a total and the percentage you want to tip.\n",
    "\n",
    "Hint\n",
    "Calculating the tip value will look something like this: (total * percentage) / 100"
   ]
  },
  {
   "cell_type": "code",
   "execution_count": null,
   "metadata": {},
   "outputs": [],
   "source": [
    "# Write your tip function here:\n",
    "def tip(total, percentage):\n",
    "  tip_amount = (total * percentage) / 100\n",
    "  return tip_amount\n",
    "# Uncomment these function calls to test your tip function:\n",
    "print(tip(10, 25))\n",
    "# should print 2.5\n",
    "print(tip(0, 100))\n",
    "# should print 0.0"
   ]
  },
  {
   "cell_type": "markdown",
   "metadata": {},
   "source": [
    "In this solution, we defined the function with two parameters and then used them to calculate the tip amount. We multiplied the input values together and divided by 100 since the second input is in percentage form and we want a monetary amount. Lastly, we returned the calculated tip value."
   ]
  },
  {
   "cell_type": "markdown",
   "metadata": {},
   "source": [
    "## 3. Bond, James Bond\n",
    "It’s time to re-create a famous movie scene through code. Our function is going to concatenate strings together in order to replace James Bond’s name with whatever name we want. The input to our function will be two strings, one for a first name and another for a last name. The function will return a string consisting of the famous phrase but replaced with our inputs. To accomplish this, we need to:\n",
    "\n",
    "1. Define the function to accept two parameters, first_name and last_name\n",
    "2. Concatenate the string ', ' on to the last_name\n",
    "3. Concatenate the first_name on to the result of the previous step\n",
    "4. Concatenate a space on to the result\n",
    "5. Concatenate the last_name again to the result\n",
    "6. Return the final string\n",
    "\n",
    "Code Challenge\n",
    "Write a function named introduction() that has two parameters named first_name and last_name.\n",
    "\n",
    "The function should return the last_name, followed by a comma, a space, first_name another space, and finally last_name.\n",
    "\n",
    "Hint\n",
    "In order to concatenate strings in python, we can use the + operator. For example, if we wanted to create the string 'Hello, how are you?' from multiple strings, we could do: 'Hello' + ', ' + 'how are you?'"
   ]
  },
  {
   "cell_type": "code",
   "execution_count": null,
   "metadata": {},
   "outputs": [],
   "source": [
    "# Write your introduction function here:\n",
    "def introduction(first_name, last_name):\n",
    "  return last_name + \", \" + first_name + \" \" + last_name\n",
    "# Uncomment these function calls to test your introduction function:\n",
    "print(introduction(\"James\", \"Bond\"))\n",
    "# should print Bond, James Bond\n",
    "print(introduction(\"Maya\", \"Angelou\"))\n",
    "# should print Angelou, Maya Angelou"
   ]
  },
  {
   "cell_type": "markdown",
   "metadata": {},
   "source": [
    "First, we defined the method to accept the first and last names. On the next line, we performed all of the concatenations at once by adding the comma, spaces, and names in the correct order. We also returned the result on the same line."
   ]
  },
  {
   "cell_type": "markdown",
   "metadata": {},
   "source": [
    "## 4. Dog Years\n",
    "Let’s create a function which calculates a dog’s age in dog years! This function will accept the name of the dog and the age in human years. It will calculate the age of the dog in dog years and return a string describing the dog’s age. This will require a few steps:\n",
    "\n",
    "1. Define the function called dog_years to accept two parameters: name and age\n",
    "2. Calculate the age of the dog in dog years\n",
    "3. Concatenate the string with the dog’s name and age in dog years\n",
    "4. Return the resulting string\n",
    "\n",
    "Code Challenge\n",
    "Some say that every one year of a human’s life is equivalent to seven years of a dog’s life. Write a function named dog_years() that has two parameters named name and age.\n",
    "\n",
    "The function should compute the age in dog years and return the following string:\n",
    "\n",
    "\"{name}, you are {age} years old in dog years\"\n",
    "Test this function with your name and your age!\n",
    "\n",
    "Hint\n",
    "Since the age in dog years age * 7 is a number, we need to convert it to a string when concatenating using str(). For example: 'The age is: '+ str(age * 7)."
   ]
  },
  {
   "cell_type": "code",
   "execution_count": null,
   "metadata": {},
   "outputs": [],
   "source": [
    "# Write your dog_years function here:\n",
    "def dog_years(name, age):\n",
    "  return name + \", you are \" + str(age * 7) + \" years old in dog years\"\n",
    "# Uncomment these function calls to test your dog_years function:\n",
    "print(dog_years(\"Lola\", 16))\n",
    "# should print \"Lola, you are 112 years old in dog years\"\n",
    "print(dog_years(\"Baby\", 0))\n",
    "# should print \"Baby, you are 0 years old in dog years\""
   ]
  },
  {
   "cell_type": "markdown",
   "metadata": {},
   "source": [
    "In this solution we used two lines of code to accomplish this task. The first line defines the function with the two inputs and the second line concatenates the string while also performing the calculation. We used str(age * 7) to convert the number to a string, and since that function call returns a string, we can concatenate it in-line with the rest of the string."
   ]
  },
  {
   "cell_type": "markdown",
   "metadata": {},
   "source": [
    "## 5. All Operations\n",
    "For the final code challenge, we are going to perform multiple mathematical operations on multiple inputs to the function. We will begin with adding the first two inputs, then we will subtract the third and fourth inputs. After that, we will multiply the first result and the second result. In the end, we will return the remainder of the previous result divided by the first input. We will also print each of the steps. The steps needed to complete this are:\n",
    "\n",
    "1. Define the function to accept four inputs: a, b, c, and d\n",
    "2. Print and store the result of a + b\n",
    "3. Print and store the result of c - d\n",
    "4. Print and store the first result times the second result\n",
    "5. Return the previous result modulo a\n",
    ",bccx\n",
    "Code Challenge\n",
    "Create a function named lots_of_math(). This function should have four parameters named a, b, c, and d. The function should print 3 lines and return 1 value.\n",
    "\n",
    "First, print the sum of a and b.\n",
    "\n",
    "Second, print c minus d.\n",
    "\n",
    "Third, print the first number printed, multiplied by the second number printed.\n",
    "\n",
    "Finally, return the third number printed modulo a.\n",
    "\n",
    "Hint\n",
    "To make this problem easier, you can store the result of each mathematical operation into a variable and use them as the results in step 4. For example: first_result = a + b. Also, remember that you can take the modulo of a number with %."
   ]
  },
  {
   "cell_type": "code",
   "execution_count": null,
   "metadata": {},
   "outputs": [],
   "source": [
    "# Write your lots_of_math function here:\n",
    "def lots_of_math(a, b, c, d):\n",
    "  first = a + b\n",
    "  second = c - d\n",
    "  third = first * 2\n",
    "  fourth = third % a\n",
    "  print(first)\n",
    "  print(second)\n",
    "  print(third)\n",
    "  return fourth\n",
    "# Uncomment these function calls to test your lots_of_math function:\n",
    "print(lots_of_math(1, 2, 3, 4))\n",
    "# should print 3, -1, -3, 0\n",
    "print(lots_of_math(1, 1, 1, 1))\n",
    "# should print 2, 0, 0, 0"
   ]
  },
  {
   "cell_type": "markdown",
   "metadata": {},
   "source": [
    "After defining the function, we store each result into its own variable for first and second. We then use these two variables in the calculation for third and we use the value of third to get fourth. Afterwards, we print the first three variables and return the fourth one."
   ]
  }
 ],
 "metadata": {
  "interpreter": {
   "hash": "85047f2b0679bf22ef06a9dadc4440578c347e570245020debc97e919b79cb32"
  },
  "kernelspec": {
   "display_name": "Python 3.10.0 64-bit ('.venv': venv)",
   "language": "python",
   "name": "python3"
  },
  "language_info": {
   "name": "python",
   "version": "3.10.0"
  },
  "orig_nbformat": 4
 },
 "nbformat": 4,
 "nbformat_minor": 2
}
