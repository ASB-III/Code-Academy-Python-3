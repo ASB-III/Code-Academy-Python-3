{
 "cells": [
  {
   "cell_type": "markdown",
   "metadata": {},
   "source": [
    "Next Steps\n",
    "You’ve completed the Learn Python 3 course! What’s next?\n",
    "\n",
    "Congratulations, you’ve successfully completed the Learn Python 3 course! You got an introduction to fundamental programming concepts and the Python programming language syntax. More specifically, you learned about:\n",
    "\n",
    "- How to write Python syntax to print and work with user input\n",
    "- How to use Python control flow, boolean variables, and logic operators to create programs that can make dynamic decisions\n",
    "- How to utilize the list data structure to store and manipulate ordered groups of data\n",
    "- How to use loops to reduce code repetition and effectively execute a group of statements several times\n",
    "- How to create functions to organize code into reusable blocks\n",
    "- How to work with the string data type to automatically create, rearrange, reassign, disassemble, and reassemble blocks of text\n",
    "- How code in Python is grouped and shared across a codebase via modules\n",
    "- How to utilize the dictionary data structure to organize information in a key-value format\n",
    "- How to work with files in an automated way\n",
    "- How the relationship between a class and an object works to create object-oriented code\n",
    "Your learning journey into Python isn’t over yet! There are plenty of other topics that you can dive into to continue learning. Here are our recommendations for the next steps:"
   ]
  }
 ],
 "metadata": {
  "interpreter": {
   "hash": "79435cfcbd76b1528bba00a84eb046d19295a161f953d7f2d2d8d04ffa2592c8"
  },
  "kernelspec": {
   "display_name": "Python 3.10.0 64-bit (windows store)",
   "language": "python",
   "name": "python3"
  },
  "language_info": {
   "name": "python",
   "version": "3.10.0"
  },
  "orig_nbformat": 4
 },
 "nbformat": 4,
 "nbformat_minor": 2
}
