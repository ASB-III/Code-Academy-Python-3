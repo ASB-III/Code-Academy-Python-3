{
 "cells": [
  {
   "cell_type": "markdown",
   "metadata": {},
   "source": [
    "# Python Code Challenges: Lists\n",
    "## Python Code Challenges involving Lists\n",
    "\n",
    "This article will help you review Python functions by providing some code challenges involving lists.\n",
    "\n",
    "Some of these challenges are difficult! Take some time to think about them before starting to code.\n",
    "\n",
    "You might not get the solution correct on your first try — look at your output, try to find where you’re going wrong, and iterate on your solution.\n",
    "\n",
    "Finally, if you get stuck, use our solution code! If you “Check Answer” twice with an incorrect solution, you should see an option to get our solution code. However, truly investigate that solution — experiment and play with the solution code until you have a good grasp of how it is working. Good luck!\n",
    "\n",
    "Function Syntax\n",
    "As a refresher, function syntax looks like this:"
   ]
  },
  {
   "cell_type": "code",
   "execution_count": null,
   "metadata": {},
   "outputs": [],
   "source": [
    "def some_function(some_input1, some_input2):\n",
    "  # … do something with the inputs …\n",
    "  return output"
   ]
  },
  {
   "cell_type": "markdown",
   "metadata": {},
   "source": [
    "For example, a function that returns the sum of the first and last elements of a given list might look like this:"
   ]
  },
  {
   "cell_type": "code",
   "execution_count": 1,
   "metadata": {},
   "outputs": [],
   "source": [
    "def first_plus_last(lst):\n",
    "  return lst[0] + lst[-1]"
   ]
  },
  {
   "cell_type": "markdown",
   "metadata": {},
   "source": [
    "And this would produce output like:"
   ]
  },
  {
   "cell_type": "code",
   "execution_count": null,
   "metadata": {},
   "outputs": [],
   "source": [
    ">>> first_plus_last([1, 2, 3, 4])\n",
    "5\n",
    ">>> first_plus_last([8, 2, 5, -8])\n",
    "0\n",
    ">>> first_plus_last([-10, 2, 3, -4])\n",
    "-14"
   ]
  },
  {
   "cell_type": "markdown",
   "metadata": {},
   "source": [
    "Challenges\n",
    "We’ve included 5 list challenges below. Try to answer all of them and polish up your problem-solving skills and your list expertise\n",
    "\n",
    "## 1. Append Size\n",
    "For the first code challenge, we are going to calculate the length of a list and then append the value to the end of the list. Here is what we need to do:\n",
    "\n",
    "Define the function to accept one parameter for our list\n",
    "Get the length of the list\n",
    "Append the length of the list to the end of the list\n",
    "Return the modified list\n",
    "Code Challenge\n",
    "Create a function called append_size that has one parameter named lst.\n",
    "\n",
    "The function should append the size of lst (inclusive) to the end of lst. The function should then return this new list.\n",
    "\n",
    "For example, if lst was [23, 42, 108], the function should return [23, 42, 108, 3] because the size of lst was originally 3.\n",
    "\n",
    "Hint\n",
    "Remember that we can get the length of a list using len(). We can also append to the end of a list using append()."
   ]
  },
  {
   "cell_type": "code",
   "execution_count": 2,
   "metadata": {},
   "outputs": [
    {
     "name": "stdout",
     "output_type": "stream",
     "text": [
      "[23, 42, 108, 3]\n"
     ]
    }
   ],
   "source": [
    "#Write your function here\n",
    "def append_size(lst):\n",
    "  lst.append(len(lst))\n",
    "  return lst\n",
    "\n",
    "#Uncomment the line below when your function is done\n",
    "print(append_size([23, 42, 108]))"
   ]
  },
  {
   "cell_type": "markdown",
   "metadata": {},
   "source": [
    "We can get the length and append it at the same time by nesting the function calls as shown in the solution. Afterward, we return the modified list."
   ]
  },
  {
   "cell_type": "markdown",
   "metadata": {},
   "source": [
    "## 2. Append Sum\n",
    "Let’s create a function that calculates the sum of the last two elements of a list and appends it to the end. After doing so, it will repeat this process two more times and return the resulting list. You can choose to use a loop or manually use three lines. Here are the steps we need:\n",
    "\n",
    "Define the function to accept one parameter for our list of numbers\n",
    "Add the last and second to last elements from our list together\n",
    "Append the calculated value to the end of our list.\n",
    "Repeat steps 2 and 3 two more times\n",
    "Return the modified list\n",
    "Code Challenge\n",
    "Write a function named append_sum that has one parameter — a list named named lst.\n",
    "\n",
    "The function should add the last two elements of lst together and append the result to lst. It should do this process three times and then return lst.\n",
    "\n",
    "For example, if lst started as [1, 1, 2], the final result should be [1, 1, 2, 3, 5, 8].\n",
    "\n",
    "Hint\n",
    "In order to get the last element of a list we can use lst[-1]. The negative index starts from the end of the list and moves towards the front. Because of this, to get the second to last number we can use lst[-2]. Additionally, to append items to a list we can use the append() function."
   ]
  },
  {
   "cell_type": "code",
   "execution_count": 3,
   "metadata": {},
   "outputs": [],
   "source": [
    "#Write your function here\n",
    "def append_sum(lst):\n",
    "  lst.append([-1] + lst[-2])\n",
    "  lst.append([-1] + lst[-2])\n",
    "  lst.append([-1] + lst[-2])\n",
    "  return lst\n",
    "\n",
    "#Uncomment the line below when your function is done\n",
    "#print(append_sum([1, 1, 2]))"
   ]
  },
  {
   "cell_type": "markdown",
   "metadata": {},
   "source": [
    "In our solution, we add the numbers and append the result in one line. We add the last and second to last elements within the .append() function and we repeat this line two more times. Remember that when we use negative indices, it starts from the end of the list and goes towards the beginning of the list. You could also use a loop to solve this instead of repeating the lines."
   ]
  },
  {
   "cell_type": "markdown",
   "metadata": {},
   "source": [
    "## 3. Larger List\n",
    "Let’s say we are working with two conveyor belts that contain items represented by a numerical ID. If one conveyor belt contains more items than the other, then we need to return the ID of the last item on that belt. In the case where they have the same number of items, return the last item from the first conveyor belt. In our code, we can represent the belts using lists. Here are the steps:\n",
    "\n",
    "Define the function to accept two parameters for our two lists of numbers\n",
    "Check if the length of the first list is greater than or equal to the length of the second list\n",
    "If true, then return the last element from the first list. Otherwise, return the last element from the second list\n",
    "Code Challenge\n",
    "Write a function named larger_list that has two parameters named lst1 and lst2.\n",
    "\n",
    "The function should return the last element of the list that contains more elements. If both lists are the same size, then return the last element of lst1.\n",
    "\n",
    "Hint\n",
    "Remember that we can use len(lst1) to get the length of a list called lst1. Also, to get the last element of lst1 we can use lst1[-1]."
   ]
  },
  {
   "cell_type": "code",
   "execution_count": 4,
   "metadata": {},
   "outputs": [
    {
     "name": "stdout",
     "output_type": "stream",
     "text": [
      "5\n"
     ]
    }
   ],
   "source": [
    "#Write your function here\n",
    "def larger_list(lst1, lst2):\n",
    "  if len(lst1) >= len(lst2):\n",
    "    return lst1[-1]\n",
    "  else:\n",
    "    return lst2[-1]\n",
    "\n",
    "\n",
    "#Uncomment the line below when your function is done\n",
    "print(larger_list([4, 10, 2, 5], [-10, 2, 5, 10]))\n"
   ]
  },
  {
   "cell_type": "markdown",
   "metadata": {},
   "source": [
    "We start by comparing the lengths of each of the lists using the len() function. This determines whether to return the last element of the first list or the second list. Notice that we use >=. This way, we know what to do if the lists have an equal length.\n",
    "\n",
    "In order to get the last element, we get the element at the -1 index. The negative index starts at the end of the list and works towards the start of the list."
   ]
  },
  {
   "cell_type": "markdown",
   "metadata": {},
   "source": [
    "## 4. More Than N\n",
    "Our factory produces a variety of different flavored snacks and we want to check the number of instances of a certain type. We have a conveyor belt full of different types of snacks represented by different numbers. Our function will accept a list of numbers (representing the type of snack), a number for the second parameter (the type of snack we are looking for), and another number as the third parameter (the maximum number of that type of snack on the conveyor belt). The function will return True if the snack we are searching for appears more times than we provided as our third parameter. These are the steps we need:\n",
    "\n",
    "Define the function to accept three parameters, a list of numbers, a number to look for, and a number for the number of instances\n",
    "Count the number of occurrences of item (the second parameter) in lst (the first parameter)\n",
    "If the number of occurrences is greater than n (the third parameter), return True. Otherwise, return False\n",
    "Code Challenge\n",
    "Create a function named more_than_n that has three parameters named lst, item, and n.\n",
    "\n",
    "The function should return True if item appears in the list more than n times. The function should return False otherwise.\n",
    "\n",
    "Hint\n",
    "In order to easily count the number of occurrences of item in lst we can use the count() function."
   ]
  },
  {
   "cell_type": "code",
   "execution_count": null,
   "metadata": {},
   "outputs": [],
   "source": [
    "#Write your function here\n",
    "def more_than_n(lst, item, n):\n",
    "  if lst.count(item) > n:\n",
    "    return True\n",
    "  else:\n",
    "    return False\n",
    "\n",
    "#Uncomment the line below when your function is done\n",
    "print(more_than_n([2, 4, 6, 2, 3, 2, 1, 2], 2, 3))"
   ]
  },
  {
   "cell_type": "markdown",
   "metadata": {},
   "source": [
    "We use the count() function to count the number of times item appears in lst. You could also do this manually by looping through lst and incrementing a variable every time you see item. We then compare the result to n.\n",
    "\n"
   ]
  },
  {
   "cell_type": "markdown",
   "metadata": {},
   "source": [
    "## 5. Combine Sort\n",
    "Finally, let’s create a function that combines two different lists together and then sorts them. To do this we can combine the lists with an operation and then sort using a function call. Here are the steps we need to use:\n",
    "\n",
    "Define the function to accept two parameters, one for each list.\n",
    "Combine the two lists together\n",
    "Sort the result\n",
    "Return the sorted and combined list\n",
    "Code Challenge\n",
    "Write a function named combine_sort that has two parameters named lst1 and lst2.\n",
    "\n",
    "The function should combine these two lists into one new list and sort the result. Return the new sorted list.\n",
    "\n",
    "Hint\n",
    "We can combine lists by using the + operator. In order to sort a list we can use the sorted() function."
   ]
  },
  {
   "cell_type": "code",
   "execution_count": 7,
   "metadata": {},
   "outputs": [
    {
     "name": "stdout",
     "output_type": "stream",
     "text": [
      "[-10, 2, 2, 4, 5, 5, 10, 10]\n"
     ]
    }
   ],
   "source": [
    "#Write your function here\n",
    "def combine_sort(lst1, lst2):\n",
    "  Unsorted = lst1 + lst2\n",
    "  SortedList = sorted(Unsorted)\n",
    "  return SortedList\n",
    "\n",
    "\n",
    "#Uncomment the line below when your function is done\n",
    "print(combine_sort([4, 10, 2, 5], [-10, 2, 5, 10]))"
   ]
  },
  {
   "cell_type": "markdown",
   "metadata": {},
   "source": [
    "We start by combining the two lists together using + in order to get a new list. Next, in order to sort them, we use the sorted() function which returns a new sorted version of the list."
   ]
  },
  {
   "cell_type": "markdown",
   "metadata": {},
   "source": [
    "# Python Code Challenges: Lists (Advanced)\n",
    "## Difficult Python Code Challenges involving Lists\n",
    "\n",
    "This article will help you review Python functions by providing some code challenges involving lists.\n",
    "\n",
    "Some of these challenges are difficult! Take some time to think about them before starting to code.\n",
    "\n",
    "You might not get the solution correct on your first try — look at your output, try to find where you’re going wrong, and iterate on your solution.\n",
    "\n",
    "Finally, if you get stuck, use our solution code! If you “Check Answer” twice with an incorrect solution, you should see an option to get our solution code. However, truly investigate that solution — experiment and play with the solution code until you have a good grasp of how it is working. Good luck!\n",
    "\n",
    "Function Syntax\n",
    "As a refresher, function syntax looks like this:"
   ]
  },
  {
   "cell_type": "code",
   "execution_count": 9,
   "metadata": {},
   "outputs": [],
   "source": [
    "def some_function(some_input1, some_input2):\n",
    "  # … do something with the inputs …\n",
    "  return output"
   ]
  },
  {
   "cell_type": "markdown",
   "metadata": {},
   "source": [
    "For example, a function that returns the sum of the first and last elements of a given list might look like this:"
   ]
  },
  {
   "cell_type": "code",
   "execution_count": null,
   "metadata": {},
   "outputs": [],
   "source": [
    "def first_plus_last(lst):\n",
    "  return lst[0] + lst[-1]"
   ]
  },
  {
   "cell_type": "markdown",
   "metadata": {},
   "source": [
    "And this would produce output like:"
   ]
  },
  {
   "cell_type": "code",
   "execution_count": null,
   "metadata": {},
   "outputs": [],
   "source": [
    ">>> first_plus_last([1, 2, 3, 4])\n",
    "5\n",
    ">>> first_plus_last([8, 2, 5, -8])\n",
    "0\n",
    ">>> first_plus_last([-10, 2, 3, -4])\n",
    "-14"
   ]
  },
  {
   "cell_type": "markdown",
   "metadata": {},
   "source": [
    "## Challenges\n",
    "\n",
    "We’ve included 5 list challenges below. Try to answer all of them and polish up your problem-solving skills and your list expertise!\n",
    "\n",
    "## 1. Every Three Numbers\n",
    "Let’s start our challenging problems with a function that creates a list of numbers up to 100 in increments of 3 starting from a number that is passed to the function as an input parameter. Here is what we need to do:\n",
    "\n",
    "Define the function to accept one parameter for our starting number\n",
    "Calculate the numbers between the starting number and 100 while incrementing by 3\n",
    "Store the numbers in a list\n",
    "Return the list\n",
    "Code Challenge\n",
    "Create a function called every_three_nums that has one parameter named start.\n",
    "\n",
    "The function should return a list of every third number between start and 100 (inclusive). For example, every_three_nums(91) should return the list [91, 94, 97, 100]. If start is greater than 100, the function should return an empty list.\n",
    "\n",
    "Hint\n",
    "We can generate the numbers in a certain range by a certain increment using the range() function. In order to convert the range sequence into a list, we can pass it into the list() function."
   ]
  },
  {
   "cell_type": "code",
   "execution_count": null,
   "metadata": {},
   "outputs": [],
   "source": [
    "#Write your function here\n",
    "def every_three_nums(start):\n",
    " return list(range(start, 101, 3))\n",
    "\n",
    "#Uncomment the line below when your function is done\n",
    "print(every_three_nums(91))"
   ]
  },
  {
   "cell_type": "markdown",
   "metadata": {},
   "source": [
    "We can write the body of this function in one line by nesting the range() function inside of the list() function. The range function accepts the starting number, the ending number (exclusive), and the amount to increment by."
   ]
  },
  {
   "cell_type": "markdown",
   "metadata": {},
   "source": [
    "## 2. Remove Middle\n",
    "Our next function will remove all elements from a list with an index within a certain range. The function will accept a list, a starting index, and an ending index. All elements with an index between the starting and ending index should be removed from the list. Here are the steps:\n",
    "\n",
    "Define the function to accept three parameters: the list, the starting index, and the ending index\n",
    "Get all elements before the starting index\n",
    "Get all elements after the ending index\n",
    "Combine the two partial lists into the result\n",
    "Return the result\n",
    "Code Challenge\n",
    "Create a function named remove_middle which has three parameters named lst, start, and end.\n",
    "\n",
    "The function should return a list where all elements in lst with an index between start and end (inclusive) have been removed.\n",
    "\n",
    "For example, the following code should return [4, 23, 42] because elements at indices 1, 2, and 3 have been removed:\n",
    "\n",
    "remove_middle([4, 8 , 15, 16, 23, 42], 1, 3)\n",
    "Hint\n",
    "To make this problem easier, we can use slicing. For example, if we wanted all elements up to a certain index we can use lst[:index] and to get all elements after a certain index we can use lst[index+1:]."
   ]
  },
  {
   "cell_type": "code",
   "execution_count": null,
   "metadata": {},
   "outputs": [],
   "source": [
    "#Write your function here\n",
    "def remove_middle(lst, start, end):\n",
    "  return lst[:start] + lst[end + 1:]\n",
    "\n",
    "#Uncomment the line below when your function is done\n",
    "print(remove_middle([4, 8, 15, 16, 23, 42], 1, 3))"
   ]
  },
  {
   "cell_type": "markdown",
   "metadata": {},
   "source": [
    "This can be solved using one line of code if you combine and slice the lists at the same time. Slicing allows us to get the segments of the list before and after the index range and the operation + allows us to combine them together."
   ]
  },
  {
   "cell_type": "markdown",
   "metadata": {},
   "source": [
    "## 3. More Frequent Item\n",
    "Let’s go back to our factory example. We have a conveyor belt of items where each item is represented by a different number. We want to know, out of two items, which one shows up more on our belt. To solve this, we can use a function with three parameters. One parameter for the list of items, another for the first item we are comparing, and another for the second item. Here are the steps:\n",
    "\n",
    "Define the function to accept three parameters: the list, the first item, and the second item\n",
    "Count the number of times item1 shows up in our list\n",
    "Count the number of times item2 shows up in our list\n",
    "If item1 shows up more, return item1. Otherwise, return item2\n",
    "Code Challenge\n",
    "Create a function named more_frequent_item that has three parameters named lst, item1, and item2.\n",
    "\n",
    "Return either item1 or item2 depending on which item appears more often in lst.\n",
    "\n",
    "If the two items appear the same number of times, return item1.\n",
    "\n",
    "Hint\n",
    "Remember that we can easily count the number of occurrences of an item in our list using lst.count(item1)."
   ]
  },
  {
   "cell_type": "code",
   "execution_count": null,
   "metadata": {},
   "outputs": [],
   "source": [
    "#Write your function here\n",
    "def more_frequent_item(lst, item1, item2):\n",
    "  if lst.count(item1) >= lst.count(item2):\n",
    "    return(item1)\n",
    "  else:\n",
    "    return(item2)\n",
    "#Uncomment the line below when your function is done\n",
    "print(more_frequent_item([2, 3, 3, 2, 3, 2, 3, 2, 3], 2, 3))"
   ]
  },
  {
   "cell_type": "markdown",
   "metadata": {},
   "source": [
    "We use the count() function to find the number of occurrences for each item. We then compare the counts against each other to find the item which appears the most in the list. The item with the most appearances is returned by the function."
   ]
  },
  {
   "cell_type": "markdown",
   "metadata": {},
   "source": [
    "## 4. Double Index\n",
    "Our next function will double a value at a given position. We will provide a list and an index to double. This will create a new list by replacing the value at the index provided with double the original value. If the index is invalid then we should return the original list. Here is what we need to do:\n",
    "\n",
    "Define the function to accept two parameters, one for the list and another for the index of the value we are going to double\n",
    "Test if the index is invalid. If its invalid then return the original list\n",
    "If the list is valid then get all values up to the index and store it as a new list\n",
    "Append the value at the index times 2 to the new list\n",
    "Add the rest of the list from the index onto the new list\n",
    "Return the new list\n",
    "Code Challenge\n",
    "Create a function named double_index that has two parameters: a list named lst and a single number named index.\n",
    "\n",
    "The function should return a new list where all elements are the same as in lst except for the element at index. The element at index should be double the value of the element at index of the original lst.\n",
    "\n",
    "If index is not a valid index, the function should return the original list.\n",
    "\n",
    "For example, the following code should return [1,2,6,4] because the element at index 2 has been doubled:\n",
    "\n",
    "double_index([1, 2, 3, 4], 2)\n",
    "After writing your function, un-comment the call to the function that we’ve provided for you to test your results.\n",
    "\n",
    "Hint\n",
    "We can use slicing to get the values up to an index lst[0:index] and from an index to the end lst[index+1:]. Also, to append to the end of a list we can use the append() function."
   ]
  },
  {
   "cell_type": "code",
   "execution_count": null,
   "metadata": {},
   "outputs": [],
   "source": [
    "def double_index(lst, index):\n",
    "  # Checks to see if index is too big\n",
    "  if index >= len(lst):\n",
    "    return lst\n",
    "  else:\n",
    "    # Gets the original list up to index\n",
    "    new_lst = lst[0:index]\n",
    " # Adds double the value at index to the new list \n",
    "  new_lst.append(lst[index]*2)\n",
    "  #  Adds the rest of the original list\n",
    "  new_lst = new_lst + lst[index+1:]\n",
    "  return new_lst"
   ]
  },
  {
   "cell_type": "markdown",
   "metadata": {},
   "source": [
    "Note that this solution is careful not to modify the original input list. If we were to simply use lst[index] = lst[index] * 2 then the list that was passed into the function would be modified outside of the function as well. Creating a new list and writing the values to it prevents this from happening. We use slicing to extract the values before and after the index and we append the modified value at the index to our new list."
   ]
  },
  {
   "cell_type": "markdown",
   "metadata": {},
   "source": [
    "## 5. Middle Item\n",
    "For the final code challenge, we are going to create a function that finds the middle item from a list of values. This will be different depending on whether there are an odd or even number of values. In the case of an odd number of elements, we want this function to return the exact middle value. If there is an even number of elements, it returns the average of the middle two elements. Here is what we need to do:\n",
    "\n",
    "Define the function to accept one parameter for our list of numbers\n",
    "Determine if the length of the list is even or odd\n",
    "If the length is even, then return the average of the middle two numbers\n",
    "If the length is odd, then return the middle number\n",
    "Code Challenge\n",
    "Create a function called middle_element that has one parameter named lst.\n",
    "\n",
    "If there are an odd number of elements in lst, the function should return the middle element. If there are an even number of elements, the function should return the average of the middle two elements.\n",
    "\n",
    "Hint\n",
    "Remember to use modulus % to determine if a number is divisible by 2. If len(lst) % 2 == 0 then the number is even. If we divide the length of the list by 2 we can get the middle element index. We then need to convert that value into an integer and access element at that index. This will look something like: lst[int(len(lst)/2)]."
   ]
  },
  {
   "cell_type": "code",
   "execution_count": null,
   "metadata": {},
   "outputs": [],
   "source": [
    "#Write your function here\n",
    "def middle_element(lst):\n",
    "  if len(lst) % 2 == 0:\n",
    "    sum = lst[int(len(lst) / 2)] + lst[int(len(lst) / 2) - 1]\n",
    "    return sum / 2\n",
    "  else:\n",
    "    return lst[int(len(lst) / 2)]\n",
    "\n",
    "#Uncomment the line below when your function is done\n",
    "print(middle_element([5, 2, -10, -4, 4, 5]))"
   ]
  },
  {
   "cell_type": "markdown",
   "metadata": {},
   "source": [
    "We used modulus to determine if the list had an even or odd number of elements. After determining this, for an odd number of elements, we calculate the middle index and return the middle element from the list. For an even number of elements, we calculate the index of the element close to the middle and the other element close to the middle (by subtracting 1 from the middle calculation). We get the values at those indices and calculate the average.\n",
    "\n",
    "Note that the math to find the middle index is a bit tricky. In some cases, when we divide by 2, we would get a double. For example, if our list had 3 items in it, then 3/2 would give us 1.5. The middle index should be 1, so in order to go from 1.5 to 1, we cast 1.5 as an int. In total, this is int(len(lst)/2)."
   ]
  }
 ],
 "metadata": {
  "interpreter": {
   "hash": "85047f2b0679bf22ef06a9dadc4440578c347e570245020debc97e919b79cb32"
  },
  "kernelspec": {
   "display_name": "Python 3.10.0 64-bit ('.venv': venv)",
   "language": "python",
   "name": "python3"
  },
  "language_info": {
   "codemirror_mode": {
    "name": "ipython",
    "version": 3
   },
   "file_extension": ".py",
   "mimetype": "text/x-python",
   "name": "python",
   "nbconvert_exporter": "python",
   "pygments_lexer": "ipython3",
   "version": "3.10.0"
  },
  "orig_nbformat": 4
 },
 "nbformat": 4,
 "nbformat_minor": 2
}
