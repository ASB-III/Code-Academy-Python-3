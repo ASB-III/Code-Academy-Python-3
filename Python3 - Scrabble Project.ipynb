{
 "cells": [
  {
   "cell_type": "markdown",
   "metadata": {},
   "source": [
    "# Scrabble Project\n",
    "In this project, you will process some data from a group of friends playing scrabble. You will use dictionaries to organize players, words, and points.\n",
    "\n",
    "There are many ways you can extend this project on your own if you finish and want to get more practice!\n",
    "\n",
    "If you get stuck during this project or would like to see an experienced developer work through it, click “Get Unstuck“ to see a project walkthrough video.\n",
    "\n",
    "Tasks\n",
    "\n",
    "## Build your Point Dictionary\n",
    "#### 1. We have provided you with two lists, letters and points. We would like to combine these two into a dictionary that would map a letter to its point value.\n",
    "\n",
    "Using a list comprehension and zip, create a dictionary called letter_to_points that has the elements of letters as the keys and the elements of points as the values."
   ]
  },
  {
   "cell_type": "markdown",
   "metadata": {},
   "source": [
    "<b>Hint</b><br>\n",
    "Remember that the syntax for creating a dictionary using a list comprehension is:"
   ]
  },
  {
   "cell_type": "code",
   "execution_count": 2,
   "metadata": {},
   "outputs": [
    {
     "ename": "NameError",
     "evalue": "name 'keys' is not defined",
     "output_type": "error",
     "traceback": [
      "\u001b[1;31m---------------------------------------------------------------------------\u001b[0m",
      "\u001b[1;31mNameError\u001b[0m                                 Traceback (most recent call last)",
      "\u001b[1;32m~\\AppData\\Local\\Temp/ipykernel_42012/3496465994.py\u001b[0m in \u001b[0;36m<module>\u001b[1;34m\u001b[0m\n\u001b[1;32m----> 1\u001b[1;33m \u001b[1;33m{\u001b[0m\u001b[0mkey\u001b[0m\u001b[1;33m:\u001b[0m\u001b[0mvalue\u001b[0m \u001b[1;32mfor\u001b[0m \u001b[0mkey\u001b[0m\u001b[1;33m,\u001b[0m \u001b[0mvalue\u001b[0m \u001b[1;32min\u001b[0m \u001b[0mzip\u001b[0m\u001b[1;33m(\u001b[0m\u001b[0mkeys\u001b[0m\u001b[1;33m,\u001b[0m \u001b[0mvalues\u001b[0m\u001b[1;33m)\u001b[0m\u001b[1;33m}\u001b[0m\u001b[1;33m\u001b[0m\u001b[1;33m\u001b[0m\u001b[0m\n\u001b[0m",
      "\u001b[1;31mNameError\u001b[0m: name 'keys' is not defined"
     ]
    }
   ],
   "source": [
    "{key:value for key, value in zip(keys, values)}"
   ]
  },
  {
   "cell_type": "markdown",
   "metadata": {},
   "source": [
    "In this case, the letters list represents keys and the points list represents values.\n",
    "\n",
    "#### 2. Our letters list did not take into account blank tiles. Add an element to the letter_to_points dictionary that has a key of \" \" and a point value of 0.\n",
    "\n",
    "\n",
    "<b>Hint</b><br>\n",
    "To add an element to a dictionary, you can use the syntax:"
   ]
  },
  {
   "cell_type": "code",
   "execution_count": null,
   "metadata": {},
   "outputs": [],
   "source": [
    "my_dict[key_to_add] = value_of_key"
   ]
  },
  {
   "cell_type": "markdown",
   "metadata": {},
   "source": [
    "## Score a Word\n",
    "#### 3. We want to create a function that will take in a word and return how many points that word is worth.\n",
    "\n",
    "Define a function called score_word that takes in a parameter word.\n",
    "\n",
    "<b>Hint</b><br>\n",
    "Remember that to define a function, we can use the syntax:"
   ]
  },
  {
   "cell_type": "code",
   "execution_count": null,
   "metadata": {},
   "outputs": [
    {
     "ename": "SyntaxError",
     "evalue": "invalid syntax. Perhaps you forgot a comma? (Temp/ipykernel_42012/3568567319.py, line 2)",
     "output_type": "error",
     "traceback": [
      "\u001b[1;36m  File \u001b[1;32m\"C:\\Users\\asbea\\AppData\\Local\\Temp/ipykernel_42012/3568567319.py\"\u001b[1;36m, line \u001b[1;32m2\u001b[0m\n\u001b[1;33m    ... code execution here...\u001b[0m\n\u001b[1;37m    ^\u001b[0m\n\u001b[1;31mSyntaxError\u001b[0m\u001b[1;31m:\u001b[0m invalid syntax. Perhaps you forgot a comma?\n"
     ]
    }
   ],
   "source": [
    "def my_function(my_parameter):\n",
    "  ... code execution here..."
   ]
  },
  {
   "cell_type": "markdown",
   "metadata": {},
   "source": [
    "#### 4. Inside score_word, create a variable called point_total and set it to 0.\n",
    "\n",
    "#### 5. After defining point_total, create a for loop that goes through the letters in word and adds the point value of each letter to point_total.\n",
    "\n",
    "You should get the point value from the letter_to_points dictionary. If the letter you are checking for is not in letter_to_points, add 0 to the point_total.\n",
    "\n",
    "\n",
    "<b>Hint</b><br>Hint\n",
    "To iterate through each character in a string, you can use the syntax:"
   ]
  },
  {
   "cell_type": "code",
   "execution_count": null,
   "metadata": {},
   "outputs": [],
   "source": [
    "for char in long_string:\n",
    "  ... do something with char..."
   ]
  },
  {
   "cell_type": "markdown",
   "metadata": {},
   "source": [
    "To get a value from a dictionary, with a default return of 0, you can use:"
   ]
  },
  {
   "cell_type": "code",
   "execution_count": null,
   "metadata": {},
   "outputs": [],
   "source": [
    "my_dict.get(key_to_get, 0)"
   ]
  },
  {
   "cell_type": "markdown",
   "metadata": {},
   "source": [
    "#### 6. After the for loop is finished, return point_total.\n",
    "\n",
    "#### 7. Let’s test this function! Create a variable called brownie_points and set it equal to the value returned by the score_word() function with an input of \"BROWNIE\".\n",
    "\n",
    "#### 8. We expect the word BROWNIE to earn 15 points:\n",
    "\n",
    "(B + R + O + W + N + I + E)\n",
    " \n",
    " \n",
    "(3 + 1 + 1 + 4 + 4 + 1 + 1) = 15\n",
    "\n",
    "Let’s print out brownie_points to make sure we got it right.\n",
    "\n",
    "## Score a Game"
   ]
  },
  {
   "cell_type": "markdown",
   "metadata": {},
   "source": []
  },
  {
   "cell_type": "markdown",
   "metadata": {},
   "source": [
    "#### 9. Create a dictionary called player_to_words that maps players to a list of the words they have played. This table represents the data to transcribe into your dictionary:"
   ]
  },
  {
   "cell_type": "markdown",
   "metadata": {},
   "source": [
    "\n",
    "| player1 | wordNerd | Lexi Con | Prof Reader |\n",
    "--- | --- | --- | --- \n",
    "| BLUE | EARTH | ERASER | ZAP |\n",
    "| TENNIS | EYES | BELLY | COMA |\n",
    "| EXIT | MACHINE | HUSKY | PERIOD |"
   ]
  },
  {
   "cell_type": "markdown",
   "metadata": {},
   "source": [
    "<b>Hint</b><br>\n",
    "A dictionary with one player, Player Lonely, who has played the three words WISHING, FOR, and FRIENDS, would look like:"
   ]
  },
  {
   "cell_type": "code",
   "execution_count": null,
   "metadata": {},
   "outputs": [],
   "source": [
    "player_to_words = {\"Player Lonely\": [\"WISHING\", \"FOR\", \"FRIENDS\"]}"
   ]
  },
  {
   "cell_type": "markdown",
   "metadata": {},
   "source": [
    "#### 10. Create an empty dictionary called player_to_points.\n",
    "\n",
    "\n",
    "<b>Hint</b><br>\n",
    "To initialize an empty dictionary, use empty brackets ({}).\n",
    "\n",
    "#### 11. Iterate through the items in player_to_words. Call each player player and each list of words words.\n",
    "\n",
    "Within your loop, create a variable called player_points and set it to 0."
   ]
  },
  {
   "cell_type": "markdown",
   "metadata": {},
   "source": [
    "<b>Hint</b><br>\n",
    "To iterate through items in a dictionary, we can use this syntax:"
   ]
  },
  {
   "cell_type": "code",
   "execution_count": null,
   "metadata": {},
   "outputs": [],
   "source": [
    "for key, value in my_dict.items():\n",
    "  ... do something with key or value ..."
   ]
  },
  {
   "cell_type": "markdown",
   "metadata": {},
   "source": [
    "#### 12.\n",
    "Within the loop, create another loop that goes through each word in words and adds the value of score_word() with word as an input.\n",
    "\n",
    "\n",
    "<b>Hint</b><br>\n",
    "Nested loops look like this:\n",
    "\n"
   ]
  },
  {
   "cell_type": "code",
   "execution_count": null,
   "metadata": {},
   "outputs": [],
   "source": [
    "for item1 in one_list_or_dict:\n",
    "  for item2 in another_object:\n",
    "     ... do something with item1 or item2 ..."
   ]
  },
  {
   "cell_type": "markdown",
   "metadata": {},
   "source": [
    "#### 13. After the inner loop ends, set the current player value to be a key of player_to_points, with a value of player_points.\n",
    "\n",
    "\n",
    "<b>Hint</b><br>\n",
    "To set a key:value pair in a dictionary, use the syntax:"
   ]
  },
  {
   "cell_type": "code",
   "execution_count": null,
   "metadata": {},
   "outputs": [],
   "source": [
    "vmy_dict[key_to_add] = value_to_add"
   ]
  },
  {
   "cell_type": "markdown",
   "metadata": {},
   "source": [
    "#### 14. player_to_points should now contain the mapping of players to how many points they’ve scored. Print this out to see the current standings for this game!\n",
    "\n",
    "If you’ve calculated correctly, wordNerd should be winning by 1 point.\n",
    "\n",
    "## Ideas for Further Practice!\n",
    "#### 15. If you want extended practice, try to implement some of these ideas with the Python you’ve learned:\n",
    "\n",
    "- play_word() — a function that would take in a player and a word, and add that word to the list of words they’ve played\n",
    "- update_point_totals() — turn your nested loops into a function that you can call any time a word is played\n",
    "- make your letter_to_points dictionary able to handle lowercase inputs as well"
   ]
  },
  {
   "cell_type": "code",
   "execution_count": 3,
   "metadata": {},
   "outputs": [
    {
     "name": "stdout",
     "output_type": "stream",
     "text": [
      "{'A': 1, 'B': 3, 'C': 3, 'D': 2, 'E': 1, 'F': 4, 'G': 2, 'H': 4, 'I': 1, 'J': 8, 'K': 5, 'L': 1, 'M': 3, 'N': 4, 'O': 1, 'P': 3, 'Q': 10, 'R': 1, 'S': 1, 'T': 1, 'U': 1, 'V': 4, 'W': 4, 'X': 8, 'Y': 4, 'Z': 10, 'a': 1, 'b': 3, 'c': 3, 'd': 2, 'e': 1, 'f': 4, 'g': 2, 'h': 4, 'i': 1, 'j': 8, 'k': 5, 'l': 1, 'm': 3, 'n': 4, 'o': 1, 'p': 3, 'q': 10, 'r': 1, 's': 1, 't': 1, 'u': 1, 'v': 4, 'w': 4, 'x': 8, 'y': 4, 'z': 10, ' ': 0}\n",
      "15\n",
      "{'player1': 29, 'wordNerd': 32, 'Lexi Con': 31, 'Prof Reader': 31}\n",
      "{'player1': 29, 'wordNerd': 32, 'Lexi Con': 31, 'Prof Reader': 31}\n",
      "{'player1': ['BLUE', 'TENNIS', 'EXIT', 'CODE'], 'wordNerd': ['EARTH', 'EYES', 'MACHINE'], 'Lexi Con': ['ERASER', 'BELLY', 'HUSKY'], 'Prof Reader': ['ZAP', 'COMA', 'PERIOD']}\n",
      "{'player1': 29, 'wordNerd': 32, 'Lexi Con': 31, 'Prof Reader': 31}\n"
     ]
    }
   ],
   "source": [
    "letters = [\"A\", \"B\", \"C\", \"D\", \"E\", \"F\", \"G\", \"H\", \"I\", \"J\", \"K\", \"L\", \"M\", \"N\", \"O\", \"P\", \"Q\", \"R\", \"S\", \"T\", \"U\", \"V\", \"W\", \"X\", \"Y\", \"Z\"]\n",
    "points = [1, 3, 3, 2, 1, 4, 2, 4, 1, 8, 5, 1, 3, 4, 1, 3, 10, 1, 1, 1, 1, 4, 4, 8, 4, 10]\n",
    "\n",
    "#task 15: dictionary able to handle lowercase inputs as well\n",
    "letters += [\n",
    "  letter.lower()\n",
    "  for letter\n",
    "  in letters\n",
    "]\n",
    "\n",
    "points *= 2\n",
    "letter_to_points = {\n",
    "  key : value \n",
    "  for key, value \n",
    "  in zip(letters, points)\n",
    "}\n",
    "#print(letter_to_points)\n",
    "\n",
    "letter_to_points[\" \"] = 0\n",
    "print(letter_to_points)\n",
    "\n",
    "def score_word(word):\n",
    "  point_total = 0\n",
    "  for letter in word:\n",
    "    point_total += letter_to_points.get(letter, 0)\n",
    "  return point_total\n",
    "\n",
    "brownie_points = score_word(\"BROWNIE\")\n",
    "print(brownie_points)\n",
    "\n",
    "player_to_words = {\"player1\": [\"BLUE\", \"TENNIS\", \"EXIT\"], \"wordNerd\": [\"EARTH\", \"EYES\", \"MACHINE\"], \"Lexi Con\": [\"ERASER\", \"BELLY\", \"HUSKY\"], \"Prof Reader\": [\"ZAP\", \"COMA\", \"PERIOD\"]}\n",
    "\n",
    "player_to_points = {}\n",
    "\n",
    "for player, words in  player_to_words.items():\n",
    "  player_points = 0\n",
    "  for word in words:\n",
    "    player_points += score_word(word)\n",
    "  player_to_points[player] = player_points\n",
    "print(player_to_points)\n",
    "\n",
    "#task 15: turn your nested loops into a function that you can call any time a word is played\n",
    "def update_point_totals():\n",
    "  for player, words in player_to_words.items():\n",
    "    player_points = 0\n",
    "  for word in words:\n",
    "    player_points += score_word(word)\n",
    "  player_to_points[player] = player_points\n",
    "\n",
    "update_point_totals()\n",
    "print(player_to_points)\n",
    "\n",
    "#task 15: a function that would take in a player and a word, and add that word to the list of words they’ve played\n",
    "def play_word(player, word):\n",
    "  player_to_words[player].append(word)\n",
    "\n",
    "play_word(\"player1\", \"CODE\")\n",
    "print(player_to_words)\n",
    "\n",
    "print(player_to_points)"
   ]
  }
 ],
 "metadata": {
  "interpreter": {
   "hash": "85047f2b0679bf22ef06a9dadc4440578c347e570245020debc97e919b79cb32"
  },
  "kernelspec": {
   "display_name": "Python 3.10.0 64-bit ('.venv': venv)",
   "language": "python",
   "name": "python3"
  },
  "language_info": {
   "codemirror_mode": {
    "name": "ipython",
    "version": 3
   },
   "file_extension": ".py",
   "mimetype": "text/x-python",
   "name": "python",
   "nbconvert_exporter": "python",
   "pygments_lexer": "ipython3",
   "version": "3.10.0"
  },
  "orig_nbformat": 4
 },
 "nbformat": 4,
 "nbformat_minor": 2
}
